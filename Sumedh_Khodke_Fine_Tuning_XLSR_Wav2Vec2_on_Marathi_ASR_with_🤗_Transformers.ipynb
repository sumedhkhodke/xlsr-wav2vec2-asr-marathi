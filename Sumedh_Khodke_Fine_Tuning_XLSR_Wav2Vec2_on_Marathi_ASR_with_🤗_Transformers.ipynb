{
  "nbformat": 4,
  "nbformat_minor": 0,
  "metadata": {
    "colab": {
      "name": "Sumedh Khodke : Fine-Tuning XLSR-Wav2Vec2 on Marathi ASR with 🤗 Transformers.ipynb",
      "provenance": [],
      "collapsed_sections": [],
      "machine_shape": "hm"
    },
    "kernelspec": {
      "name": "python3",
      "display_name": "Python 3"
    },
    "widgets": {
      "application/vnd.jupyter.widget-state+json": {
        "45f70222149c4341b3d3fd3ec5553c4e": {
          "model_module": "@jupyter-widgets/controls",
          "model_name": "HBoxModel",
          "model_module_version": "1.5.0",
          "state": {
            "_view_name": "HBoxView",
            "_dom_classes": [],
            "_model_name": "HBoxModel",
            "_view_module": "@jupyter-widgets/controls",
            "_model_module_version": "1.5.0",
            "_view_count": null,
            "_view_module_version": "1.5.0",
            "box_style": "",
            "layout": "IPY_MODEL_93275b69349840a19a40dbbddbfca1ae",
            "_model_module": "@jupyter-widgets/controls",
            "children": [
              "IPY_MODEL_302f558a3f684352b62f9638103104ea",
              "IPY_MODEL_312d02e6cc0947e9adc561d68c2d9727"
            ]
          }
        },
        "93275b69349840a19a40dbbddbfca1ae": {
          "model_module": "@jupyter-widgets/base",
          "model_name": "LayoutModel",
          "model_module_version": "1.2.0",
          "state": {
            "_view_name": "LayoutView",
            "grid_template_rows": null,
            "right": null,
            "justify_content": null,
            "_view_module": "@jupyter-widgets/base",
            "overflow": null,
            "_model_module_version": "1.2.0",
            "_view_count": null,
            "flex_flow": null,
            "width": null,
            "min_width": null,
            "border": null,
            "align_items": null,
            "bottom": null,
            "_model_module": "@jupyter-widgets/base",
            "top": null,
            "grid_column": null,
            "overflow_y": null,
            "overflow_x": null,
            "grid_auto_flow": null,
            "grid_area": null,
            "grid_template_columns": null,
            "flex": null,
            "_model_name": "LayoutModel",
            "justify_items": null,
            "grid_row": null,
            "max_height": null,
            "align_content": null,
            "visibility": null,
            "align_self": null,
            "height": null,
            "min_height": null,
            "padding": null,
            "grid_auto_rows": null,
            "grid_gap": null,
            "max_width": null,
            "order": null,
            "_view_module_version": "1.2.0",
            "grid_template_areas": null,
            "object_position": null,
            "object_fit": null,
            "grid_auto_columns": null,
            "margin": null,
            "display": null,
            "left": null
          }
        },
        "302f558a3f684352b62f9638103104ea": {
          "model_module": "@jupyter-widgets/controls",
          "model_name": "FloatProgressModel",
          "model_module_version": "1.5.0",
          "state": {
            "_view_name": "ProgressView",
            "style": "IPY_MODEL_8038e02f3c8b4596b98dac6df4d6cdc6",
            "_dom_classes": [],
            "description": "100%",
            "_model_name": "FloatProgressModel",
            "bar_style": "success",
            "max": 1412,
            "_view_module": "@jupyter-widgets/controls",
            "_model_module_version": "1.5.0",
            "value": 1412,
            "_view_count": null,
            "_view_module_version": "1.5.0",
            "orientation": "horizontal",
            "min": 0,
            "description_tooltip": null,
            "_model_module": "@jupyter-widgets/controls",
            "layout": "IPY_MODEL_2ca0d55faa0c42ffaaf0c9cd0cbf234b"
          }
        },
        "312d02e6cc0947e9adc561d68c2d9727": {
          "model_module": "@jupyter-widgets/controls",
          "model_name": "HTMLModel",
          "model_module_version": "1.5.0",
          "state": {
            "_view_name": "HTMLView",
            "style": "IPY_MODEL_b681b63a91414e6680debaa065a61df9",
            "_dom_classes": [],
            "description": "",
            "_model_name": "HTMLModel",
            "placeholder": "​",
            "_view_module": "@jupyter-widgets/controls",
            "_model_module_version": "1.5.0",
            "value": " 1412/1412 [01:31&lt;00:00, 15.44ex/s]",
            "_view_count": null,
            "_view_module_version": "1.5.0",
            "description_tooltip": null,
            "_model_module": "@jupyter-widgets/controls",
            "layout": "IPY_MODEL_b9b7c978a0c64137889c59314c76eae3"
          }
        },
        "8038e02f3c8b4596b98dac6df4d6cdc6": {
          "model_module": "@jupyter-widgets/controls",
          "model_name": "ProgressStyleModel",
          "model_module_version": "1.5.0",
          "state": {
            "_view_name": "StyleView",
            "_model_name": "ProgressStyleModel",
            "description_width": "initial",
            "_view_module": "@jupyter-widgets/base",
            "_model_module_version": "1.5.0",
            "_view_count": null,
            "_view_module_version": "1.2.0",
            "bar_color": null,
            "_model_module": "@jupyter-widgets/controls"
          }
        },
        "2ca0d55faa0c42ffaaf0c9cd0cbf234b": {
          "model_module": "@jupyter-widgets/base",
          "model_name": "LayoutModel",
          "model_module_version": "1.2.0",
          "state": {
            "_view_name": "LayoutView",
            "grid_template_rows": null,
            "right": null,
            "justify_content": null,
            "_view_module": "@jupyter-widgets/base",
            "overflow": null,
            "_model_module_version": "1.2.0",
            "_view_count": null,
            "flex_flow": null,
            "width": null,
            "min_width": null,
            "border": null,
            "align_items": null,
            "bottom": null,
            "_model_module": "@jupyter-widgets/base",
            "top": null,
            "grid_column": null,
            "overflow_y": null,
            "overflow_x": null,
            "grid_auto_flow": null,
            "grid_area": null,
            "grid_template_columns": null,
            "flex": null,
            "_model_name": "LayoutModel",
            "justify_items": null,
            "grid_row": null,
            "max_height": null,
            "align_content": null,
            "visibility": null,
            "align_self": null,
            "height": null,
            "min_height": null,
            "padding": null,
            "grid_auto_rows": null,
            "grid_gap": null,
            "max_width": null,
            "order": null,
            "_view_module_version": "1.2.0",
            "grid_template_areas": null,
            "object_position": null,
            "object_fit": null,
            "grid_auto_columns": null,
            "margin": null,
            "display": null,
            "left": null
          }
        },
        "b681b63a91414e6680debaa065a61df9": {
          "model_module": "@jupyter-widgets/controls",
          "model_name": "DescriptionStyleModel",
          "model_module_version": "1.5.0",
          "state": {
            "_view_name": "StyleView",
            "_model_name": "DescriptionStyleModel",
            "description_width": "",
            "_view_module": "@jupyter-widgets/base",
            "_model_module_version": "1.5.0",
            "_view_count": null,
            "_view_module_version": "1.2.0",
            "_model_module": "@jupyter-widgets/controls"
          }
        },
        "b9b7c978a0c64137889c59314c76eae3": {
          "model_module": "@jupyter-widgets/base",
          "model_name": "LayoutModel",
          "model_module_version": "1.2.0",
          "state": {
            "_view_name": "LayoutView",
            "grid_template_rows": null,
            "right": null,
            "justify_content": null,
            "_view_module": "@jupyter-widgets/base",
            "overflow": null,
            "_model_module_version": "1.2.0",
            "_view_count": null,
            "flex_flow": null,
            "width": null,
            "min_width": null,
            "border": null,
            "align_items": null,
            "bottom": null,
            "_model_module": "@jupyter-widgets/base",
            "top": null,
            "grid_column": null,
            "overflow_y": null,
            "overflow_x": null,
            "grid_auto_flow": null,
            "grid_area": null,
            "grid_template_columns": null,
            "flex": null,
            "_model_name": "LayoutModel",
            "justify_items": null,
            "grid_row": null,
            "max_height": null,
            "align_content": null,
            "visibility": null,
            "align_self": null,
            "height": null,
            "min_height": null,
            "padding": null,
            "grid_auto_rows": null,
            "grid_gap": null,
            "max_width": null,
            "order": null,
            "_view_module_version": "1.2.0",
            "grid_template_areas": null,
            "object_position": null,
            "object_fit": null,
            "grid_auto_columns": null,
            "margin": null,
            "display": null,
            "left": null
          }
        },
        "6d3f41a402714f71b179b581c33d12c1": {
          "model_module": "@jupyter-widgets/controls",
          "model_name": "HBoxModel",
          "model_module_version": "1.5.0",
          "state": {
            "_view_name": "HBoxView",
            "_dom_classes": [],
            "_model_name": "HBoxModel",
            "_view_module": "@jupyter-widgets/controls",
            "_model_module_version": "1.5.0",
            "_view_count": null,
            "_view_module_version": "1.5.0",
            "box_style": "",
            "layout": "IPY_MODEL_40002cb7ceff4db6bbdac23fa1ce78d7",
            "_model_module": "@jupyter-widgets/controls",
            "children": [
              "IPY_MODEL_9c3fb53572f94497807533e9388c55c3",
              "IPY_MODEL_4aa37eac63ea470b8b6e57028e3ae003"
            ]
          }
        },
        "40002cb7ceff4db6bbdac23fa1ce78d7": {
          "model_module": "@jupyter-widgets/base",
          "model_name": "LayoutModel",
          "model_module_version": "1.2.0",
          "state": {
            "_view_name": "LayoutView",
            "grid_template_rows": null,
            "right": null,
            "justify_content": null,
            "_view_module": "@jupyter-widgets/base",
            "overflow": null,
            "_model_module_version": "1.2.0",
            "_view_count": null,
            "flex_flow": null,
            "width": null,
            "min_width": null,
            "border": null,
            "align_items": null,
            "bottom": null,
            "_model_module": "@jupyter-widgets/base",
            "top": null,
            "grid_column": null,
            "overflow_y": null,
            "overflow_x": null,
            "grid_auto_flow": null,
            "grid_area": null,
            "grid_template_columns": null,
            "flex": null,
            "_model_name": "LayoutModel",
            "justify_items": null,
            "grid_row": null,
            "max_height": null,
            "align_content": null,
            "visibility": null,
            "align_self": null,
            "height": null,
            "min_height": null,
            "padding": null,
            "grid_auto_rows": null,
            "grid_gap": null,
            "max_width": null,
            "order": null,
            "_view_module_version": "1.2.0",
            "grid_template_areas": null,
            "object_position": null,
            "object_fit": null,
            "grid_auto_columns": null,
            "margin": null,
            "display": null,
            "left": null
          }
        },
        "9c3fb53572f94497807533e9388c55c3": {
          "model_module": "@jupyter-widgets/controls",
          "model_name": "FloatProgressModel",
          "model_module_version": "1.5.0",
          "state": {
            "_view_name": "ProgressView",
            "style": "IPY_MODEL_7125def5de4f4065a2717e9d6fd5bb6b",
            "_dom_classes": [],
            "description": "100%",
            "_model_name": "FloatProgressModel",
            "bar_style": "success",
            "max": 157,
            "_view_module": "@jupyter-widgets/controls",
            "_model_module_version": "1.5.0",
            "value": 157,
            "_view_count": null,
            "_view_module_version": "1.5.0",
            "orientation": "horizontal",
            "min": 0,
            "description_tooltip": null,
            "_model_module": "@jupyter-widgets/controls",
            "layout": "IPY_MODEL_a919fb5859fd48978726486a38265597"
          }
        },
        "4aa37eac63ea470b8b6e57028e3ae003": {
          "model_module": "@jupyter-widgets/controls",
          "model_name": "HTMLModel",
          "model_module_version": "1.5.0",
          "state": {
            "_view_name": "HTMLView",
            "style": "IPY_MODEL_4e48a71c73bb41a8bbc62cc445c0d10b",
            "_dom_classes": [],
            "description": "",
            "_model_name": "HTMLModel",
            "placeholder": "​",
            "_view_module": "@jupyter-widgets/controls",
            "_model_module_version": "1.5.0",
            "value": " 157/157 [00:00&lt;00:00, 2954.74ex/s]",
            "_view_count": null,
            "_view_module_version": "1.5.0",
            "description_tooltip": null,
            "_model_module": "@jupyter-widgets/controls",
            "layout": "IPY_MODEL_bb780fc928cf41aea44e31837f50ef06"
          }
        },
        "7125def5de4f4065a2717e9d6fd5bb6b": {
          "model_module": "@jupyter-widgets/controls",
          "model_name": "ProgressStyleModel",
          "model_module_version": "1.5.0",
          "state": {
            "_view_name": "StyleView",
            "_model_name": "ProgressStyleModel",
            "description_width": "initial",
            "_view_module": "@jupyter-widgets/base",
            "_model_module_version": "1.5.0",
            "_view_count": null,
            "_view_module_version": "1.2.0",
            "bar_color": null,
            "_model_module": "@jupyter-widgets/controls"
          }
        },
        "a919fb5859fd48978726486a38265597": {
          "model_module": "@jupyter-widgets/base",
          "model_name": "LayoutModel",
          "model_module_version": "1.2.0",
          "state": {
            "_view_name": "LayoutView",
            "grid_template_rows": null,
            "right": null,
            "justify_content": null,
            "_view_module": "@jupyter-widgets/base",
            "overflow": null,
            "_model_module_version": "1.2.0",
            "_view_count": null,
            "flex_flow": null,
            "width": null,
            "min_width": null,
            "border": null,
            "align_items": null,
            "bottom": null,
            "_model_module": "@jupyter-widgets/base",
            "top": null,
            "grid_column": null,
            "overflow_y": null,
            "overflow_x": null,
            "grid_auto_flow": null,
            "grid_area": null,
            "grid_template_columns": null,
            "flex": null,
            "_model_name": "LayoutModel",
            "justify_items": null,
            "grid_row": null,
            "max_height": null,
            "align_content": null,
            "visibility": null,
            "align_self": null,
            "height": null,
            "min_height": null,
            "padding": null,
            "grid_auto_rows": null,
            "grid_gap": null,
            "max_width": null,
            "order": null,
            "_view_module_version": "1.2.0",
            "grid_template_areas": null,
            "object_position": null,
            "object_fit": null,
            "grid_auto_columns": null,
            "margin": null,
            "display": null,
            "left": null
          }
        },
        "4e48a71c73bb41a8bbc62cc445c0d10b": {
          "model_module": "@jupyter-widgets/controls",
          "model_name": "DescriptionStyleModel",
          "model_module_version": "1.5.0",
          "state": {
            "_view_name": "StyleView",
            "_model_name": "DescriptionStyleModel",
            "description_width": "",
            "_view_module": "@jupyter-widgets/base",
            "_model_module_version": "1.5.0",
            "_view_count": null,
            "_view_module_version": "1.2.0",
            "_model_module": "@jupyter-widgets/controls"
          }
        },
        "bb780fc928cf41aea44e31837f50ef06": {
          "model_module": "@jupyter-widgets/base",
          "model_name": "LayoutModel",
          "model_module_version": "1.2.0",
          "state": {
            "_view_name": "LayoutView",
            "grid_template_rows": null,
            "right": null,
            "justify_content": null,
            "_view_module": "@jupyter-widgets/base",
            "overflow": null,
            "_model_module_version": "1.2.0",
            "_view_count": null,
            "flex_flow": null,
            "width": null,
            "min_width": null,
            "border": null,
            "align_items": null,
            "bottom": null,
            "_model_module": "@jupyter-widgets/base",
            "top": null,
            "grid_column": null,
            "overflow_y": null,
            "overflow_x": null,
            "grid_auto_flow": null,
            "grid_area": null,
            "grid_template_columns": null,
            "flex": null,
            "_model_name": "LayoutModel",
            "justify_items": null,
            "grid_row": null,
            "max_height": null,
            "align_content": null,
            "visibility": null,
            "align_self": null,
            "height": null,
            "min_height": null,
            "padding": null,
            "grid_auto_rows": null,
            "grid_gap": null,
            "max_width": null,
            "order": null,
            "_view_module_version": "1.2.0",
            "grid_template_areas": null,
            "object_position": null,
            "object_fit": null,
            "grid_auto_columns": null,
            "margin": null,
            "display": null,
            "left": null
          }
        },
        "62fa8e3a3bd9425ea7219eb0abeefbaa": {
          "model_module": "@jupyter-widgets/controls",
          "model_name": "HBoxModel",
          "model_module_version": "1.5.0",
          "state": {
            "_view_name": "HBoxView",
            "_dom_classes": [],
            "_model_name": "HBoxModel",
            "_view_module": "@jupyter-widgets/controls",
            "_model_module_version": "1.5.0",
            "_view_count": null,
            "_view_module_version": "1.5.0",
            "box_style": "",
            "layout": "IPY_MODEL_2c1fb076ee1d4d56bb62c3dcda6f1530",
            "_model_module": "@jupyter-widgets/controls",
            "children": [
              "IPY_MODEL_b7975515a5ed4ccf925586bf0ace4af5",
              "IPY_MODEL_05fb4f7c9bda467db1657d48f8c44b72"
            ]
          }
        },
        "2c1fb076ee1d4d56bb62c3dcda6f1530": {
          "model_module": "@jupyter-widgets/base",
          "model_name": "LayoutModel",
          "model_module_version": "1.2.0",
          "state": {
            "_view_name": "LayoutView",
            "grid_template_rows": null,
            "right": null,
            "justify_content": null,
            "_view_module": "@jupyter-widgets/base",
            "overflow": null,
            "_model_module_version": "1.2.0",
            "_view_count": null,
            "flex_flow": null,
            "width": null,
            "min_width": null,
            "border": null,
            "align_items": null,
            "bottom": null,
            "_model_module": "@jupyter-widgets/base",
            "top": null,
            "grid_column": null,
            "overflow_y": null,
            "overflow_x": null,
            "grid_auto_flow": null,
            "grid_area": null,
            "grid_template_columns": null,
            "flex": null,
            "_model_name": "LayoutModel",
            "justify_items": null,
            "grid_row": null,
            "max_height": null,
            "align_content": null,
            "visibility": null,
            "align_self": null,
            "height": null,
            "min_height": null,
            "padding": null,
            "grid_auto_rows": null,
            "grid_gap": null,
            "max_width": null,
            "order": null,
            "_view_module_version": "1.2.0",
            "grid_template_areas": null,
            "object_position": null,
            "object_fit": null,
            "grid_auto_columns": null,
            "margin": null,
            "display": null,
            "left": null
          }
        },
        "b7975515a5ed4ccf925586bf0ace4af5": {
          "model_module": "@jupyter-widgets/controls",
          "model_name": "FloatProgressModel",
          "model_module_version": "1.5.0",
          "state": {
            "_view_name": "ProgressView",
            "style": "IPY_MODEL_18804fcc6ade4d998c6444fbf59ed34d",
            "_dom_classes": [],
            "description": "100%",
            "_model_name": "FloatProgressModel",
            "bar_style": "success",
            "max": 1,
            "_view_module": "@jupyter-widgets/controls",
            "_model_module_version": "1.5.0",
            "value": 1,
            "_view_count": null,
            "_view_module_version": "1.5.0",
            "orientation": "horizontal",
            "min": 0,
            "description_tooltip": null,
            "_model_module": "@jupyter-widgets/controls",
            "layout": "IPY_MODEL_96cd812a98f14d8ab6190660a74ec16a"
          }
        },
        "05fb4f7c9bda467db1657d48f8c44b72": {
          "model_module": "@jupyter-widgets/controls",
          "model_name": "HTMLModel",
          "model_module_version": "1.5.0",
          "state": {
            "_view_name": "HTMLView",
            "style": "IPY_MODEL_8f6cf040571d44e68457e394673d7aa8",
            "_dom_classes": [],
            "description": "",
            "_model_name": "HTMLModel",
            "placeholder": "​",
            "_view_module": "@jupyter-widgets/controls",
            "_model_module_version": "1.5.0",
            "value": " 1/1 [00:33&lt;00:00, 33.33s/ba]",
            "_view_count": null,
            "_view_module_version": "1.5.0",
            "description_tooltip": null,
            "_model_module": "@jupyter-widgets/controls",
            "layout": "IPY_MODEL_765db6b80b9b47c6af4ee5a6ed3fd88b"
          }
        },
        "18804fcc6ade4d998c6444fbf59ed34d": {
          "model_module": "@jupyter-widgets/controls",
          "model_name": "ProgressStyleModel",
          "model_module_version": "1.5.0",
          "state": {
            "_view_name": "StyleView",
            "_model_name": "ProgressStyleModel",
            "description_width": "initial",
            "_view_module": "@jupyter-widgets/base",
            "_model_module_version": "1.5.0",
            "_view_count": null,
            "_view_module_version": "1.2.0",
            "bar_color": null,
            "_model_module": "@jupyter-widgets/controls"
          }
        },
        "96cd812a98f14d8ab6190660a74ec16a": {
          "model_module": "@jupyter-widgets/base",
          "model_name": "LayoutModel",
          "model_module_version": "1.2.0",
          "state": {
            "_view_name": "LayoutView",
            "grid_template_rows": null,
            "right": null,
            "justify_content": null,
            "_view_module": "@jupyter-widgets/base",
            "overflow": null,
            "_model_module_version": "1.2.0",
            "_view_count": null,
            "flex_flow": null,
            "width": null,
            "min_width": null,
            "border": null,
            "align_items": null,
            "bottom": null,
            "_model_module": "@jupyter-widgets/base",
            "top": null,
            "grid_column": null,
            "overflow_y": null,
            "overflow_x": null,
            "grid_auto_flow": null,
            "grid_area": null,
            "grid_template_columns": null,
            "flex": null,
            "_model_name": "LayoutModel",
            "justify_items": null,
            "grid_row": null,
            "max_height": null,
            "align_content": null,
            "visibility": null,
            "align_self": null,
            "height": null,
            "min_height": null,
            "padding": null,
            "grid_auto_rows": null,
            "grid_gap": null,
            "max_width": null,
            "order": null,
            "_view_module_version": "1.2.0",
            "grid_template_areas": null,
            "object_position": null,
            "object_fit": null,
            "grid_auto_columns": null,
            "margin": null,
            "display": null,
            "left": null
          }
        },
        "8f6cf040571d44e68457e394673d7aa8": {
          "model_module": "@jupyter-widgets/controls",
          "model_name": "DescriptionStyleModel",
          "model_module_version": "1.5.0",
          "state": {
            "_view_name": "StyleView",
            "_model_name": "DescriptionStyleModel",
            "description_width": "",
            "_view_module": "@jupyter-widgets/base",
            "_model_module_version": "1.5.0",
            "_view_count": null,
            "_view_module_version": "1.2.0",
            "_model_module": "@jupyter-widgets/controls"
          }
        },
        "765db6b80b9b47c6af4ee5a6ed3fd88b": {
          "model_module": "@jupyter-widgets/base",
          "model_name": "LayoutModel",
          "model_module_version": "1.2.0",
          "state": {
            "_view_name": "LayoutView",
            "grid_template_rows": null,
            "right": null,
            "justify_content": null,
            "_view_module": "@jupyter-widgets/base",
            "overflow": null,
            "_model_module_version": "1.2.0",
            "_view_count": null,
            "flex_flow": null,
            "width": null,
            "min_width": null,
            "border": null,
            "align_items": null,
            "bottom": null,
            "_model_module": "@jupyter-widgets/base",
            "top": null,
            "grid_column": null,
            "overflow_y": null,
            "overflow_x": null,
            "grid_auto_flow": null,
            "grid_area": null,
            "grid_template_columns": null,
            "flex": null,
            "_model_name": "LayoutModel",
            "justify_items": null,
            "grid_row": null,
            "max_height": null,
            "align_content": null,
            "visibility": null,
            "align_self": null,
            "height": null,
            "min_height": null,
            "padding": null,
            "grid_auto_rows": null,
            "grid_gap": null,
            "max_width": null,
            "order": null,
            "_view_module_version": "1.2.0",
            "grid_template_areas": null,
            "object_position": null,
            "object_fit": null,
            "grid_auto_columns": null,
            "margin": null,
            "display": null,
            "left": null
          }
        },
        "f34e3d15e221479a9baea3bd9de98d7e": {
          "model_module": "@jupyter-widgets/controls",
          "model_name": "HBoxModel",
          "model_module_version": "1.5.0",
          "state": {
            "_view_name": "HBoxView",
            "_dom_classes": [],
            "_model_name": "HBoxModel",
            "_view_module": "@jupyter-widgets/controls",
            "_model_module_version": "1.5.0",
            "_view_count": null,
            "_view_module_version": "1.5.0",
            "box_style": "",
            "layout": "IPY_MODEL_a5f809e15ce84f40a1c049154895ebd5",
            "_model_module": "@jupyter-widgets/controls",
            "children": [
              "IPY_MODEL_394aa6e86dc54c10a2b69e35778ebbcb",
              "IPY_MODEL_1c199da882324aa4a5d8ef96922253e5"
            ]
          }
        },
        "a5f809e15ce84f40a1c049154895ebd5": {
          "model_module": "@jupyter-widgets/base",
          "model_name": "LayoutModel",
          "model_module_version": "1.2.0",
          "state": {
            "_view_name": "LayoutView",
            "grid_template_rows": null,
            "right": null,
            "justify_content": null,
            "_view_module": "@jupyter-widgets/base",
            "overflow": null,
            "_model_module_version": "1.2.0",
            "_view_count": null,
            "flex_flow": null,
            "width": null,
            "min_width": null,
            "border": null,
            "align_items": null,
            "bottom": null,
            "_model_module": "@jupyter-widgets/base",
            "top": null,
            "grid_column": null,
            "overflow_y": null,
            "overflow_x": null,
            "grid_auto_flow": null,
            "grid_area": null,
            "grid_template_columns": null,
            "flex": null,
            "_model_name": "LayoutModel",
            "justify_items": null,
            "grid_row": null,
            "max_height": null,
            "align_content": null,
            "visibility": null,
            "align_self": null,
            "height": null,
            "min_height": null,
            "padding": null,
            "grid_auto_rows": null,
            "grid_gap": null,
            "max_width": null,
            "order": null,
            "_view_module_version": "1.2.0",
            "grid_template_areas": null,
            "object_position": null,
            "object_fit": null,
            "grid_auto_columns": null,
            "margin": null,
            "display": null,
            "left": null
          }
        },
        "394aa6e86dc54c10a2b69e35778ebbcb": {
          "model_module": "@jupyter-widgets/controls",
          "model_name": "FloatProgressModel",
          "model_module_version": "1.5.0",
          "state": {
            "_view_name": "ProgressView",
            "style": "IPY_MODEL_8e280874b1d24a8cbff8f74849b9bb41",
            "_dom_classes": [],
            "description": "100%",
            "_model_name": "FloatProgressModel",
            "bar_style": "success",
            "max": 1,
            "_view_module": "@jupyter-widgets/controls",
            "_model_module_version": "1.5.0",
            "value": 1,
            "_view_count": null,
            "_view_module_version": "1.5.0",
            "orientation": "horizontal",
            "min": 0,
            "description_tooltip": null,
            "_model_module": "@jupyter-widgets/controls",
            "layout": "IPY_MODEL_0e1fdf9db7354a11a990a074f2aaaf73"
          }
        },
        "1c199da882324aa4a5d8ef96922253e5": {
          "model_module": "@jupyter-widgets/controls",
          "model_name": "HTMLModel",
          "model_module_version": "1.5.0",
          "state": {
            "_view_name": "HTMLView",
            "style": "IPY_MODEL_58969eb4b4f94b3390a1a8dbd68e6823",
            "_dom_classes": [],
            "description": "",
            "_model_name": "HTMLModel",
            "placeholder": "​",
            "_view_module": "@jupyter-widgets/controls",
            "_model_module_version": "1.5.0",
            "value": " 1/1 [00:04&lt;00:00,  4.72s/ba]",
            "_view_count": null,
            "_view_module_version": "1.5.0",
            "description_tooltip": null,
            "_model_module": "@jupyter-widgets/controls",
            "layout": "IPY_MODEL_38a7c67277174a7db4513015f36ff95d"
          }
        },
        "8e280874b1d24a8cbff8f74849b9bb41": {
          "model_module": "@jupyter-widgets/controls",
          "model_name": "ProgressStyleModel",
          "model_module_version": "1.5.0",
          "state": {
            "_view_name": "StyleView",
            "_model_name": "ProgressStyleModel",
            "description_width": "initial",
            "_view_module": "@jupyter-widgets/base",
            "_model_module_version": "1.5.0",
            "_view_count": null,
            "_view_module_version": "1.2.0",
            "bar_color": null,
            "_model_module": "@jupyter-widgets/controls"
          }
        },
        "0e1fdf9db7354a11a990a074f2aaaf73": {
          "model_module": "@jupyter-widgets/base",
          "model_name": "LayoutModel",
          "model_module_version": "1.2.0",
          "state": {
            "_view_name": "LayoutView",
            "grid_template_rows": null,
            "right": null,
            "justify_content": null,
            "_view_module": "@jupyter-widgets/base",
            "overflow": null,
            "_model_module_version": "1.2.0",
            "_view_count": null,
            "flex_flow": null,
            "width": null,
            "min_width": null,
            "border": null,
            "align_items": null,
            "bottom": null,
            "_model_module": "@jupyter-widgets/base",
            "top": null,
            "grid_column": null,
            "overflow_y": null,
            "overflow_x": null,
            "grid_auto_flow": null,
            "grid_area": null,
            "grid_template_columns": null,
            "flex": null,
            "_model_name": "LayoutModel",
            "justify_items": null,
            "grid_row": null,
            "max_height": null,
            "align_content": null,
            "visibility": null,
            "align_self": null,
            "height": null,
            "min_height": null,
            "padding": null,
            "grid_auto_rows": null,
            "grid_gap": null,
            "max_width": null,
            "order": null,
            "_view_module_version": "1.2.0",
            "grid_template_areas": null,
            "object_position": null,
            "object_fit": null,
            "grid_auto_columns": null,
            "margin": null,
            "display": null,
            "left": null
          }
        },
        "58969eb4b4f94b3390a1a8dbd68e6823": {
          "model_module": "@jupyter-widgets/controls",
          "model_name": "DescriptionStyleModel",
          "model_module_version": "1.5.0",
          "state": {
            "_view_name": "StyleView",
            "_model_name": "DescriptionStyleModel",
            "description_width": "",
            "_view_module": "@jupyter-widgets/base",
            "_model_module_version": "1.5.0",
            "_view_count": null,
            "_view_module_version": "1.2.0",
            "_model_module": "@jupyter-widgets/controls"
          }
        },
        "38a7c67277174a7db4513015f36ff95d": {
          "model_module": "@jupyter-widgets/base",
          "model_name": "LayoutModel",
          "model_module_version": "1.2.0",
          "state": {
            "_view_name": "LayoutView",
            "grid_template_rows": null,
            "right": null,
            "justify_content": null,
            "_view_module": "@jupyter-widgets/base",
            "overflow": null,
            "_model_module_version": "1.2.0",
            "_view_count": null,
            "flex_flow": null,
            "width": null,
            "min_width": null,
            "border": null,
            "align_items": null,
            "bottom": null,
            "_model_module": "@jupyter-widgets/base",
            "top": null,
            "grid_column": null,
            "overflow_y": null,
            "overflow_x": null,
            "grid_auto_flow": null,
            "grid_area": null,
            "grid_template_columns": null,
            "flex": null,
            "_model_name": "LayoutModel",
            "justify_items": null,
            "grid_row": null,
            "max_height": null,
            "align_content": null,
            "visibility": null,
            "align_self": null,
            "height": null,
            "min_height": null,
            "padding": null,
            "grid_auto_rows": null,
            "grid_gap": null,
            "max_width": null,
            "order": null,
            "_view_module_version": "1.2.0",
            "grid_template_areas": null,
            "object_position": null,
            "object_fit": null,
            "grid_auto_columns": null,
            "margin": null,
            "display": null,
            "left": null
          }
        },
        "65d95832c0ab41259218a1366b7ea4ea": {
          "model_module": "@jupyter-widgets/controls",
          "model_name": "HBoxModel",
          "model_module_version": "1.5.0",
          "state": {
            "_view_name": "HBoxView",
            "_dom_classes": [],
            "_model_name": "HBoxModel",
            "_view_module": "@jupyter-widgets/controls",
            "_model_module_version": "1.5.0",
            "_view_count": null,
            "_view_module_version": "1.5.0",
            "box_style": "",
            "layout": "IPY_MODEL_636bd030349d4cb59e0a194d558402ad",
            "_model_module": "@jupyter-widgets/controls",
            "children": [
              "IPY_MODEL_d5e5b05ede59466090bdb12dac7490e1",
              "IPY_MODEL_d1797e0cfd814316a6ba1e0a082a0359"
            ]
          }
        },
        "636bd030349d4cb59e0a194d558402ad": {
          "model_module": "@jupyter-widgets/base",
          "model_name": "LayoutModel",
          "model_module_version": "1.2.0",
          "state": {
            "_view_name": "LayoutView",
            "grid_template_rows": null,
            "right": null,
            "justify_content": null,
            "_view_module": "@jupyter-widgets/base",
            "overflow": null,
            "_model_module_version": "1.2.0",
            "_view_count": null,
            "flex_flow": null,
            "width": null,
            "min_width": null,
            "border": null,
            "align_items": null,
            "bottom": null,
            "_model_module": "@jupyter-widgets/base",
            "top": null,
            "grid_column": null,
            "overflow_y": null,
            "overflow_x": null,
            "grid_auto_flow": null,
            "grid_area": null,
            "grid_template_columns": null,
            "flex": null,
            "_model_name": "LayoutModel",
            "justify_items": null,
            "grid_row": null,
            "max_height": null,
            "align_content": null,
            "visibility": null,
            "align_self": null,
            "height": null,
            "min_height": null,
            "padding": null,
            "grid_auto_rows": null,
            "grid_gap": null,
            "max_width": null,
            "order": null,
            "_view_module_version": "1.2.0",
            "grid_template_areas": null,
            "object_position": null,
            "object_fit": null,
            "grid_auto_columns": null,
            "margin": null,
            "display": null,
            "left": null
          }
        },
        "d5e5b05ede59466090bdb12dac7490e1": {
          "model_module": "@jupyter-widgets/controls",
          "model_name": "FloatProgressModel",
          "model_module_version": "1.5.0",
          "state": {
            "_view_name": "ProgressView",
            "style": "IPY_MODEL_d4588907d7984a4cb0ffb6696d9b79d7",
            "_dom_classes": [],
            "description": "100%",
            "_model_name": "FloatProgressModel",
            "bar_style": "success",
            "max": 1412,
            "_view_module": "@jupyter-widgets/controls",
            "_model_module_version": "1.5.0",
            "value": 1412,
            "_view_count": null,
            "_view_module_version": "1.5.0",
            "orientation": "horizontal",
            "min": 0,
            "description_tooltip": null,
            "_model_module": "@jupyter-widgets/controls",
            "layout": "IPY_MODEL_fd79841e60724726b2ea736ceea21653"
          }
        },
        "d1797e0cfd814316a6ba1e0a082a0359": {
          "model_module": "@jupyter-widgets/controls",
          "model_name": "HTMLModel",
          "model_module_version": "1.5.0",
          "state": {
            "_view_name": "HTMLView",
            "style": "IPY_MODEL_78f0f5799d414eec80569c8fcbaec318",
            "_dom_classes": [],
            "description": "",
            "_model_name": "HTMLModel",
            "placeholder": "​",
            "_view_module": "@jupyter-widgets/controls",
            "_model_module_version": "1.5.0",
            "value": " 1412/1412 [00:47&lt;00:00, 29.46ex/s]",
            "_view_count": null,
            "_view_module_version": "1.5.0",
            "description_tooltip": null,
            "_model_module": "@jupyter-widgets/controls",
            "layout": "IPY_MODEL_88d4dca283774b54a03cbec8905c0ad4"
          }
        },
        "d4588907d7984a4cb0ffb6696d9b79d7": {
          "model_module": "@jupyter-widgets/controls",
          "model_name": "ProgressStyleModel",
          "model_module_version": "1.5.0",
          "state": {
            "_view_name": "StyleView",
            "_model_name": "ProgressStyleModel",
            "description_width": "initial",
            "_view_module": "@jupyter-widgets/base",
            "_model_module_version": "1.5.0",
            "_view_count": null,
            "_view_module_version": "1.2.0",
            "bar_color": null,
            "_model_module": "@jupyter-widgets/controls"
          }
        },
        "fd79841e60724726b2ea736ceea21653": {
          "model_module": "@jupyter-widgets/base",
          "model_name": "LayoutModel",
          "model_module_version": "1.2.0",
          "state": {
            "_view_name": "LayoutView",
            "grid_template_rows": null,
            "right": null,
            "justify_content": null,
            "_view_module": "@jupyter-widgets/base",
            "overflow": null,
            "_model_module_version": "1.2.0",
            "_view_count": null,
            "flex_flow": null,
            "width": null,
            "min_width": null,
            "border": null,
            "align_items": null,
            "bottom": null,
            "_model_module": "@jupyter-widgets/base",
            "top": null,
            "grid_column": null,
            "overflow_y": null,
            "overflow_x": null,
            "grid_auto_flow": null,
            "grid_area": null,
            "grid_template_columns": null,
            "flex": null,
            "_model_name": "LayoutModel",
            "justify_items": null,
            "grid_row": null,
            "max_height": null,
            "align_content": null,
            "visibility": null,
            "align_self": null,
            "height": null,
            "min_height": null,
            "padding": null,
            "grid_auto_rows": null,
            "grid_gap": null,
            "max_width": null,
            "order": null,
            "_view_module_version": "1.2.0",
            "grid_template_areas": null,
            "object_position": null,
            "object_fit": null,
            "grid_auto_columns": null,
            "margin": null,
            "display": null,
            "left": null
          }
        },
        "78f0f5799d414eec80569c8fcbaec318": {
          "model_module": "@jupyter-widgets/controls",
          "model_name": "DescriptionStyleModel",
          "model_module_version": "1.5.0",
          "state": {
            "_view_name": "StyleView",
            "_model_name": "DescriptionStyleModel",
            "description_width": "",
            "_view_module": "@jupyter-widgets/base",
            "_model_module_version": "1.5.0",
            "_view_count": null,
            "_view_module_version": "1.2.0",
            "_model_module": "@jupyter-widgets/controls"
          }
        },
        "88d4dca283774b54a03cbec8905c0ad4": {
          "model_module": "@jupyter-widgets/base",
          "model_name": "LayoutModel",
          "model_module_version": "1.2.0",
          "state": {
            "_view_name": "LayoutView",
            "grid_template_rows": null,
            "right": null,
            "justify_content": null,
            "_view_module": "@jupyter-widgets/base",
            "overflow": null,
            "_model_module_version": "1.2.0",
            "_view_count": null,
            "flex_flow": null,
            "width": null,
            "min_width": null,
            "border": null,
            "align_items": null,
            "bottom": null,
            "_model_module": "@jupyter-widgets/base",
            "top": null,
            "grid_column": null,
            "overflow_y": null,
            "overflow_x": null,
            "grid_auto_flow": null,
            "grid_area": null,
            "grid_template_columns": null,
            "flex": null,
            "_model_name": "LayoutModel",
            "justify_items": null,
            "grid_row": null,
            "max_height": null,
            "align_content": null,
            "visibility": null,
            "align_self": null,
            "height": null,
            "min_height": null,
            "padding": null,
            "grid_auto_rows": null,
            "grid_gap": null,
            "max_width": null,
            "order": null,
            "_view_module_version": "1.2.0",
            "grid_template_areas": null,
            "object_position": null,
            "object_fit": null,
            "grid_auto_columns": null,
            "margin": null,
            "display": null,
            "left": null
          }
        },
        "c5cbb076d621417bbbe0dfd0e232dd3e": {
          "model_module": "@jupyter-widgets/controls",
          "model_name": "HBoxModel",
          "model_module_version": "1.5.0",
          "state": {
            "_view_name": "HBoxView",
            "_dom_classes": [],
            "_model_name": "HBoxModel",
            "_view_module": "@jupyter-widgets/controls",
            "_model_module_version": "1.5.0",
            "_view_count": null,
            "_view_module_version": "1.5.0",
            "box_style": "",
            "layout": "IPY_MODEL_044675f769df4755a6c5f919b3637177",
            "_model_module": "@jupyter-widgets/controls",
            "children": [
              "IPY_MODEL_d8f5a52ddbfb41a5bad5eded5e5be26f",
              "IPY_MODEL_f07e6d0243ae4ecba437cfed6f55f0f3"
            ]
          }
        },
        "044675f769df4755a6c5f919b3637177": {
          "model_module": "@jupyter-widgets/base",
          "model_name": "LayoutModel",
          "model_module_version": "1.2.0",
          "state": {
            "_view_name": "LayoutView",
            "grid_template_rows": null,
            "right": null,
            "justify_content": null,
            "_view_module": "@jupyter-widgets/base",
            "overflow": null,
            "_model_module_version": "1.2.0",
            "_view_count": null,
            "flex_flow": null,
            "width": null,
            "min_width": null,
            "border": null,
            "align_items": null,
            "bottom": null,
            "_model_module": "@jupyter-widgets/base",
            "top": null,
            "grid_column": null,
            "overflow_y": null,
            "overflow_x": null,
            "grid_auto_flow": null,
            "grid_area": null,
            "grid_template_columns": null,
            "flex": null,
            "_model_name": "LayoutModel",
            "justify_items": null,
            "grid_row": null,
            "max_height": null,
            "align_content": null,
            "visibility": null,
            "align_self": null,
            "height": null,
            "min_height": null,
            "padding": null,
            "grid_auto_rows": null,
            "grid_gap": null,
            "max_width": null,
            "order": null,
            "_view_module_version": "1.2.0",
            "grid_template_areas": null,
            "object_position": null,
            "object_fit": null,
            "grid_auto_columns": null,
            "margin": null,
            "display": null,
            "left": null
          }
        },
        "d8f5a52ddbfb41a5bad5eded5e5be26f": {
          "model_module": "@jupyter-widgets/controls",
          "model_name": "FloatProgressModel",
          "model_module_version": "1.5.0",
          "state": {
            "_view_name": "ProgressView",
            "style": "IPY_MODEL_7737771a59dd469cafc75161b8d31292",
            "_dom_classes": [],
            "description": "100%",
            "_model_name": "FloatProgressModel",
            "bar_style": "success",
            "max": 157,
            "_view_module": "@jupyter-widgets/controls",
            "_model_module_version": "1.5.0",
            "value": 157,
            "_view_count": null,
            "_view_module_version": "1.5.0",
            "orientation": "horizontal",
            "min": 0,
            "description_tooltip": null,
            "_model_module": "@jupyter-widgets/controls",
            "layout": "IPY_MODEL_f4302283057e431b84a58e597f14fe1a"
          }
        },
        "f07e6d0243ae4ecba437cfed6f55f0f3": {
          "model_module": "@jupyter-widgets/controls",
          "model_name": "HTMLModel",
          "model_module_version": "1.5.0",
          "state": {
            "_view_name": "HTMLView",
            "style": "IPY_MODEL_2b4dbce7bacf4f3781581642736a7078",
            "_dom_classes": [],
            "description": "",
            "_model_name": "HTMLModel",
            "placeholder": "​",
            "_view_module": "@jupyter-widgets/controls",
            "_model_module_version": "1.5.0",
            "value": " 157/157 [00:04&lt;00:00, 38.22ex/s]",
            "_view_count": null,
            "_view_module_version": "1.5.0",
            "description_tooltip": null,
            "_model_module": "@jupyter-widgets/controls",
            "layout": "IPY_MODEL_7667bae6e3a842dfa84da98875dec08f"
          }
        },
        "7737771a59dd469cafc75161b8d31292": {
          "model_module": "@jupyter-widgets/controls",
          "model_name": "ProgressStyleModel",
          "model_module_version": "1.5.0",
          "state": {
            "_view_name": "StyleView",
            "_model_name": "ProgressStyleModel",
            "description_width": "initial",
            "_view_module": "@jupyter-widgets/base",
            "_model_module_version": "1.5.0",
            "_view_count": null,
            "_view_module_version": "1.2.0",
            "bar_color": null,
            "_model_module": "@jupyter-widgets/controls"
          }
        },
        "f4302283057e431b84a58e597f14fe1a": {
          "model_module": "@jupyter-widgets/base",
          "model_name": "LayoutModel",
          "model_module_version": "1.2.0",
          "state": {
            "_view_name": "LayoutView",
            "grid_template_rows": null,
            "right": null,
            "justify_content": null,
            "_view_module": "@jupyter-widgets/base",
            "overflow": null,
            "_model_module_version": "1.2.0",
            "_view_count": null,
            "flex_flow": null,
            "width": null,
            "min_width": null,
            "border": null,
            "align_items": null,
            "bottom": null,
            "_model_module": "@jupyter-widgets/base",
            "top": null,
            "grid_column": null,
            "overflow_y": null,
            "overflow_x": null,
            "grid_auto_flow": null,
            "grid_area": null,
            "grid_template_columns": null,
            "flex": null,
            "_model_name": "LayoutModel",
            "justify_items": null,
            "grid_row": null,
            "max_height": null,
            "align_content": null,
            "visibility": null,
            "align_self": null,
            "height": null,
            "min_height": null,
            "padding": null,
            "grid_auto_rows": null,
            "grid_gap": null,
            "max_width": null,
            "order": null,
            "_view_module_version": "1.2.0",
            "grid_template_areas": null,
            "object_position": null,
            "object_fit": null,
            "grid_auto_columns": null,
            "margin": null,
            "display": null,
            "left": null
          }
        },
        "2b4dbce7bacf4f3781581642736a7078": {
          "model_module": "@jupyter-widgets/controls",
          "model_name": "DescriptionStyleModel",
          "model_module_version": "1.5.0",
          "state": {
            "_view_name": "StyleView",
            "_model_name": "DescriptionStyleModel",
            "description_width": "",
            "_view_module": "@jupyter-widgets/base",
            "_model_module_version": "1.5.0",
            "_view_count": null,
            "_view_module_version": "1.2.0",
            "_model_module": "@jupyter-widgets/controls"
          }
        },
        "7667bae6e3a842dfa84da98875dec08f": {
          "model_module": "@jupyter-widgets/base",
          "model_name": "LayoutModel",
          "model_module_version": "1.2.0",
          "state": {
            "_view_name": "LayoutView",
            "grid_template_rows": null,
            "right": null,
            "justify_content": null,
            "_view_module": "@jupyter-widgets/base",
            "overflow": null,
            "_model_module_version": "1.2.0",
            "_view_count": null,
            "flex_flow": null,
            "width": null,
            "min_width": null,
            "border": null,
            "align_items": null,
            "bottom": null,
            "_model_module": "@jupyter-widgets/base",
            "top": null,
            "grid_column": null,
            "overflow_y": null,
            "overflow_x": null,
            "grid_auto_flow": null,
            "grid_area": null,
            "grid_template_columns": null,
            "flex": null,
            "_model_name": "LayoutModel",
            "justify_items": null,
            "grid_row": null,
            "max_height": null,
            "align_content": null,
            "visibility": null,
            "align_self": null,
            "height": null,
            "min_height": null,
            "padding": null,
            "grid_auto_rows": null,
            "grid_gap": null,
            "max_width": null,
            "order": null,
            "_view_module_version": "1.2.0",
            "grid_template_areas": null,
            "object_position": null,
            "object_fit": null,
            "grid_auto_columns": null,
            "margin": null,
            "display": null,
            "left": null
          }
        },
        "4c4a35bc3d9b487086e7af4281c8d3d6": {
          "model_module": "@jupyter-widgets/controls",
          "model_name": "HBoxModel",
          "model_module_version": "1.5.0",
          "state": {
            "_view_name": "HBoxView",
            "_dom_classes": [],
            "_model_name": "HBoxModel",
            "_view_module": "@jupyter-widgets/controls",
            "_model_module_version": "1.5.0",
            "_view_count": null,
            "_view_module_version": "1.5.0",
            "box_style": "",
            "layout": "IPY_MODEL_af9b873d3b1845509296492c12472c76",
            "_model_module": "@jupyter-widgets/controls",
            "children": [
              "IPY_MODEL_dae31849fc64452e8adc502320914360",
              "IPY_MODEL_85d0d2bd2539476b92979768b08f68b8"
            ]
          }
        },
        "af9b873d3b1845509296492c12472c76": {
          "model_module": "@jupyter-widgets/base",
          "model_name": "LayoutModel",
          "model_module_version": "1.2.0",
          "state": {
            "_view_name": "LayoutView",
            "grid_template_rows": null,
            "right": null,
            "justify_content": null,
            "_view_module": "@jupyter-widgets/base",
            "overflow": null,
            "_model_module_version": "1.2.0",
            "_view_count": null,
            "flex_flow": null,
            "width": null,
            "min_width": null,
            "border": null,
            "align_items": null,
            "bottom": null,
            "_model_module": "@jupyter-widgets/base",
            "top": null,
            "grid_column": null,
            "overflow_y": null,
            "overflow_x": null,
            "grid_auto_flow": null,
            "grid_area": null,
            "grid_template_columns": null,
            "flex": null,
            "_model_name": "LayoutModel",
            "justify_items": null,
            "grid_row": null,
            "max_height": null,
            "align_content": null,
            "visibility": null,
            "align_self": null,
            "height": null,
            "min_height": null,
            "padding": null,
            "grid_auto_rows": null,
            "grid_gap": null,
            "max_width": null,
            "order": null,
            "_view_module_version": "1.2.0",
            "grid_template_areas": null,
            "object_position": null,
            "object_fit": null,
            "grid_auto_columns": null,
            "margin": null,
            "display": null,
            "left": null
          }
        },
        "dae31849fc64452e8adc502320914360": {
          "model_module": "@jupyter-widgets/controls",
          "model_name": "FloatProgressModel",
          "model_module_version": "1.5.0",
          "state": {
            "_view_name": "ProgressView",
            "style": "IPY_MODEL_2a94949a09f14f29b9d87aa2a89e953e",
            "_dom_classes": [],
            "description": "100%",
            "_model_name": "FloatProgressModel",
            "bar_style": "success",
            "max": 1412,
            "_view_module": "@jupyter-widgets/controls",
            "_model_module_version": "1.5.0",
            "value": 1412,
            "_view_count": null,
            "_view_module_version": "1.5.0",
            "orientation": "horizontal",
            "min": 0,
            "description_tooltip": null,
            "_model_module": "@jupyter-widgets/controls",
            "layout": "IPY_MODEL_979782a20e11497591a10d62f78c6a5f"
          }
        },
        "85d0d2bd2539476b92979768b08f68b8": {
          "model_module": "@jupyter-widgets/controls",
          "model_name": "HTMLModel",
          "model_module_version": "1.5.0",
          "state": {
            "_view_name": "HTMLView",
            "style": "IPY_MODEL_16c05c91351c465cbfe32e9cc9e6f875",
            "_dom_classes": [],
            "description": "",
            "_model_name": "HTMLModel",
            "placeholder": "​",
            "_view_module": "@jupyter-widgets/controls",
            "_model_module_version": "1.5.0",
            "value": " 1412/1412 [09:44&lt;00:00,  2.42ex/s]",
            "_view_count": null,
            "_view_module_version": "1.5.0",
            "description_tooltip": null,
            "_model_module": "@jupyter-widgets/controls",
            "layout": "IPY_MODEL_641602d926414de396bc3e9c119ea1f1"
          }
        },
        "2a94949a09f14f29b9d87aa2a89e953e": {
          "model_module": "@jupyter-widgets/controls",
          "model_name": "ProgressStyleModel",
          "model_module_version": "1.5.0",
          "state": {
            "_view_name": "StyleView",
            "_model_name": "ProgressStyleModel",
            "description_width": "initial",
            "_view_module": "@jupyter-widgets/base",
            "_model_module_version": "1.5.0",
            "_view_count": null,
            "_view_module_version": "1.2.0",
            "bar_color": null,
            "_model_module": "@jupyter-widgets/controls"
          }
        },
        "979782a20e11497591a10d62f78c6a5f": {
          "model_module": "@jupyter-widgets/base",
          "model_name": "LayoutModel",
          "model_module_version": "1.2.0",
          "state": {
            "_view_name": "LayoutView",
            "grid_template_rows": null,
            "right": null,
            "justify_content": null,
            "_view_module": "@jupyter-widgets/base",
            "overflow": null,
            "_model_module_version": "1.2.0",
            "_view_count": null,
            "flex_flow": null,
            "width": null,
            "min_width": null,
            "border": null,
            "align_items": null,
            "bottom": null,
            "_model_module": "@jupyter-widgets/base",
            "top": null,
            "grid_column": null,
            "overflow_y": null,
            "overflow_x": null,
            "grid_auto_flow": null,
            "grid_area": null,
            "grid_template_columns": null,
            "flex": null,
            "_model_name": "LayoutModel",
            "justify_items": null,
            "grid_row": null,
            "max_height": null,
            "align_content": null,
            "visibility": null,
            "align_self": null,
            "height": null,
            "min_height": null,
            "padding": null,
            "grid_auto_rows": null,
            "grid_gap": null,
            "max_width": null,
            "order": null,
            "_view_module_version": "1.2.0",
            "grid_template_areas": null,
            "object_position": null,
            "object_fit": null,
            "grid_auto_columns": null,
            "margin": null,
            "display": null,
            "left": null
          }
        },
        "16c05c91351c465cbfe32e9cc9e6f875": {
          "model_module": "@jupyter-widgets/controls",
          "model_name": "DescriptionStyleModel",
          "model_module_version": "1.5.0",
          "state": {
            "_view_name": "StyleView",
            "_model_name": "DescriptionStyleModel",
            "description_width": "",
            "_view_module": "@jupyter-widgets/base",
            "_model_module_version": "1.5.0",
            "_view_count": null,
            "_view_module_version": "1.2.0",
            "_model_module": "@jupyter-widgets/controls"
          }
        },
        "641602d926414de396bc3e9c119ea1f1": {
          "model_module": "@jupyter-widgets/base",
          "model_name": "LayoutModel",
          "model_module_version": "1.2.0",
          "state": {
            "_view_name": "LayoutView",
            "grid_template_rows": null,
            "right": null,
            "justify_content": null,
            "_view_module": "@jupyter-widgets/base",
            "overflow": null,
            "_model_module_version": "1.2.0",
            "_view_count": null,
            "flex_flow": null,
            "width": null,
            "min_width": null,
            "border": null,
            "align_items": null,
            "bottom": null,
            "_model_module": "@jupyter-widgets/base",
            "top": null,
            "grid_column": null,
            "overflow_y": null,
            "overflow_x": null,
            "grid_auto_flow": null,
            "grid_area": null,
            "grid_template_columns": null,
            "flex": null,
            "_model_name": "LayoutModel",
            "justify_items": null,
            "grid_row": null,
            "max_height": null,
            "align_content": null,
            "visibility": null,
            "align_self": null,
            "height": null,
            "min_height": null,
            "padding": null,
            "grid_auto_rows": null,
            "grid_gap": null,
            "max_width": null,
            "order": null,
            "_view_module_version": "1.2.0",
            "grid_template_areas": null,
            "object_position": null,
            "object_fit": null,
            "grid_auto_columns": null,
            "margin": null,
            "display": null,
            "left": null
          }
        },
        "b4f9dcde20184c8bb4c017235a7606a3": {
          "model_module": "@jupyter-widgets/controls",
          "model_name": "HBoxModel",
          "model_module_version": "1.5.0",
          "state": {
            "_view_name": "HBoxView",
            "_dom_classes": [],
            "_model_name": "HBoxModel",
            "_view_module": "@jupyter-widgets/controls",
            "_model_module_version": "1.5.0",
            "_view_count": null,
            "_view_module_version": "1.5.0",
            "box_style": "",
            "layout": "IPY_MODEL_ffd1641072c54afe9e3ea9d289ac0006",
            "_model_module": "@jupyter-widgets/controls",
            "children": [
              "IPY_MODEL_f9fcb756bf2c402694dfbe67bafbec21",
              "IPY_MODEL_9c9f3e6b3fb04708bed95a673a2c2a47"
            ]
          }
        },
        "ffd1641072c54afe9e3ea9d289ac0006": {
          "model_module": "@jupyter-widgets/base",
          "model_name": "LayoutModel",
          "model_module_version": "1.2.0",
          "state": {
            "_view_name": "LayoutView",
            "grid_template_rows": null,
            "right": null,
            "justify_content": null,
            "_view_module": "@jupyter-widgets/base",
            "overflow": null,
            "_model_module_version": "1.2.0",
            "_view_count": null,
            "flex_flow": null,
            "width": null,
            "min_width": null,
            "border": null,
            "align_items": null,
            "bottom": null,
            "_model_module": "@jupyter-widgets/base",
            "top": null,
            "grid_column": null,
            "overflow_y": null,
            "overflow_x": null,
            "grid_auto_flow": null,
            "grid_area": null,
            "grid_template_columns": null,
            "flex": null,
            "_model_name": "LayoutModel",
            "justify_items": null,
            "grid_row": null,
            "max_height": null,
            "align_content": null,
            "visibility": null,
            "align_self": null,
            "height": null,
            "min_height": null,
            "padding": null,
            "grid_auto_rows": null,
            "grid_gap": null,
            "max_width": null,
            "order": null,
            "_view_module_version": "1.2.0",
            "grid_template_areas": null,
            "object_position": null,
            "object_fit": null,
            "grid_auto_columns": null,
            "margin": null,
            "display": null,
            "left": null
          }
        },
        "f9fcb756bf2c402694dfbe67bafbec21": {
          "model_module": "@jupyter-widgets/controls",
          "model_name": "FloatProgressModel",
          "model_module_version": "1.5.0",
          "state": {
            "_view_name": "ProgressView",
            "style": "IPY_MODEL_431da6593bc24de3addfdfbd384c5500",
            "_dom_classes": [],
            "description": "100%",
            "_model_name": "FloatProgressModel",
            "bar_style": "success",
            "max": 157,
            "_view_module": "@jupyter-widgets/controls",
            "_model_module_version": "1.5.0",
            "value": 157,
            "_view_count": null,
            "_view_module_version": "1.5.0",
            "orientation": "horizontal",
            "min": 0,
            "description_tooltip": null,
            "_model_module": "@jupyter-widgets/controls",
            "layout": "IPY_MODEL_0e0f3cea89f54cc698d3160f894617b5"
          }
        },
        "9c9f3e6b3fb04708bed95a673a2c2a47": {
          "model_module": "@jupyter-widgets/controls",
          "model_name": "HTMLModel",
          "model_module_version": "1.5.0",
          "state": {
            "_view_name": "HTMLView",
            "style": "IPY_MODEL_149d8b4e9d4045229cb5a48888338b9f",
            "_dom_classes": [],
            "description": "",
            "_model_name": "HTMLModel",
            "placeholder": "​",
            "_view_module": "@jupyter-widgets/controls",
            "_model_module_version": "1.5.0",
            "value": " 157/157 [00:47&lt;00:00,  3.31ex/s]",
            "_view_count": null,
            "_view_module_version": "1.5.0",
            "description_tooltip": null,
            "_model_module": "@jupyter-widgets/controls",
            "layout": "IPY_MODEL_7bf74f6f420d43ce97a7147165d226f5"
          }
        },
        "431da6593bc24de3addfdfbd384c5500": {
          "model_module": "@jupyter-widgets/controls",
          "model_name": "ProgressStyleModel",
          "model_module_version": "1.5.0",
          "state": {
            "_view_name": "StyleView",
            "_model_name": "ProgressStyleModel",
            "description_width": "initial",
            "_view_module": "@jupyter-widgets/base",
            "_model_module_version": "1.5.0",
            "_view_count": null,
            "_view_module_version": "1.2.0",
            "bar_color": null,
            "_model_module": "@jupyter-widgets/controls"
          }
        },
        "0e0f3cea89f54cc698d3160f894617b5": {
          "model_module": "@jupyter-widgets/base",
          "model_name": "LayoutModel",
          "model_module_version": "1.2.0",
          "state": {
            "_view_name": "LayoutView",
            "grid_template_rows": null,
            "right": null,
            "justify_content": null,
            "_view_module": "@jupyter-widgets/base",
            "overflow": null,
            "_model_module_version": "1.2.0",
            "_view_count": null,
            "flex_flow": null,
            "width": null,
            "min_width": null,
            "border": null,
            "align_items": null,
            "bottom": null,
            "_model_module": "@jupyter-widgets/base",
            "top": null,
            "grid_column": null,
            "overflow_y": null,
            "overflow_x": null,
            "grid_auto_flow": null,
            "grid_area": null,
            "grid_template_columns": null,
            "flex": null,
            "_model_name": "LayoutModel",
            "justify_items": null,
            "grid_row": null,
            "max_height": null,
            "align_content": null,
            "visibility": null,
            "align_self": null,
            "height": null,
            "min_height": null,
            "padding": null,
            "grid_auto_rows": null,
            "grid_gap": null,
            "max_width": null,
            "order": null,
            "_view_module_version": "1.2.0",
            "grid_template_areas": null,
            "object_position": null,
            "object_fit": null,
            "grid_auto_columns": null,
            "margin": null,
            "display": null,
            "left": null
          }
        },
        "149d8b4e9d4045229cb5a48888338b9f": {
          "model_module": "@jupyter-widgets/controls",
          "model_name": "DescriptionStyleModel",
          "model_module_version": "1.5.0",
          "state": {
            "_view_name": "StyleView",
            "_model_name": "DescriptionStyleModel",
            "description_width": "",
            "_view_module": "@jupyter-widgets/base",
            "_model_module_version": "1.5.0",
            "_view_count": null,
            "_view_module_version": "1.2.0",
            "_model_module": "@jupyter-widgets/controls"
          }
        },
        "7bf74f6f420d43ce97a7147165d226f5": {
          "model_module": "@jupyter-widgets/base",
          "model_name": "LayoutModel",
          "model_module_version": "1.2.0",
          "state": {
            "_view_name": "LayoutView",
            "grid_template_rows": null,
            "right": null,
            "justify_content": null,
            "_view_module": "@jupyter-widgets/base",
            "overflow": null,
            "_model_module_version": "1.2.0",
            "_view_count": null,
            "flex_flow": null,
            "width": null,
            "min_width": null,
            "border": null,
            "align_items": null,
            "bottom": null,
            "_model_module": "@jupyter-widgets/base",
            "top": null,
            "grid_column": null,
            "overflow_y": null,
            "overflow_x": null,
            "grid_auto_flow": null,
            "grid_area": null,
            "grid_template_columns": null,
            "flex": null,
            "_model_name": "LayoutModel",
            "justify_items": null,
            "grid_row": null,
            "max_height": null,
            "align_content": null,
            "visibility": null,
            "align_self": null,
            "height": null,
            "min_height": null,
            "padding": null,
            "grid_auto_rows": null,
            "grid_gap": null,
            "max_width": null,
            "order": null,
            "_view_module_version": "1.2.0",
            "grid_template_areas": null,
            "object_position": null,
            "object_fit": null,
            "grid_auto_columns": null,
            "margin": null,
            "display": null,
            "left": null
          }
        },
        "ab021c72474f448a9f0a4159068b9c79": {
          "model_module": "@jupyter-widgets/controls",
          "model_name": "HBoxModel",
          "model_module_version": "1.5.0",
          "state": {
            "_view_name": "HBoxView",
            "_dom_classes": [],
            "_model_name": "HBoxModel",
            "_view_module": "@jupyter-widgets/controls",
            "_model_module_version": "1.5.0",
            "_view_count": null,
            "_view_module_version": "1.5.0",
            "box_style": "",
            "layout": "IPY_MODEL_91cf7409f0524f358d8fc55d911e6e9d",
            "_model_module": "@jupyter-widgets/controls",
            "children": [
              "IPY_MODEL_ee18b5d2ccc74fabafd366864e552425",
              "IPY_MODEL_9def636c39f74f24914542dda8bf4f59"
            ]
          }
        },
        "91cf7409f0524f358d8fc55d911e6e9d": {
          "model_module": "@jupyter-widgets/base",
          "model_name": "LayoutModel",
          "model_module_version": "1.2.0",
          "state": {
            "_view_name": "LayoutView",
            "grid_template_rows": null,
            "right": null,
            "justify_content": null,
            "_view_module": "@jupyter-widgets/base",
            "overflow": null,
            "_model_module_version": "1.2.0",
            "_view_count": null,
            "flex_flow": null,
            "width": null,
            "min_width": null,
            "border": null,
            "align_items": null,
            "bottom": null,
            "_model_module": "@jupyter-widgets/base",
            "top": null,
            "grid_column": null,
            "overflow_y": null,
            "overflow_x": null,
            "grid_auto_flow": null,
            "grid_area": null,
            "grid_template_columns": null,
            "flex": null,
            "_model_name": "LayoutModel",
            "justify_items": null,
            "grid_row": null,
            "max_height": null,
            "align_content": null,
            "visibility": null,
            "align_self": null,
            "height": null,
            "min_height": null,
            "padding": null,
            "grid_auto_rows": null,
            "grid_gap": null,
            "max_width": null,
            "order": null,
            "_view_module_version": "1.2.0",
            "grid_template_areas": null,
            "object_position": null,
            "object_fit": null,
            "grid_auto_columns": null,
            "margin": null,
            "display": null,
            "left": null
          }
        },
        "ee18b5d2ccc74fabafd366864e552425": {
          "model_module": "@jupyter-widgets/controls",
          "model_name": "FloatProgressModel",
          "model_module_version": "1.5.0",
          "state": {
            "_view_name": "ProgressView",
            "style": "IPY_MODEL_511cff57a5c048358d3d943bb5f9ecbf",
            "_dom_classes": [],
            "description": "#0: 100%",
            "_model_name": "FloatProgressModel",
            "bar_style": "success",
            "max": 45,
            "_view_module": "@jupyter-widgets/controls",
            "_model_module_version": "1.5.0",
            "value": 45,
            "_view_count": null,
            "_view_module_version": "1.5.0",
            "orientation": "horizontal",
            "min": 0,
            "description_tooltip": null,
            "_model_module": "@jupyter-widgets/controls",
            "layout": "IPY_MODEL_fdf31b5895f048b296e505766636404e"
          }
        },
        "9def636c39f74f24914542dda8bf4f59": {
          "model_module": "@jupyter-widgets/controls",
          "model_name": "HTMLModel",
          "model_module_version": "1.5.0",
          "state": {
            "_view_name": "HTMLView",
            "style": "IPY_MODEL_498f28e1b30d4f37a225ce0a904cfb45",
            "_dom_classes": [],
            "description": "",
            "_model_name": "HTMLModel",
            "placeholder": "​",
            "_view_module": "@jupyter-widgets/controls",
            "_model_module_version": "1.5.0",
            "value": " 45/45 [00:32&lt;00:00,  1.39ba/s]",
            "_view_count": null,
            "_view_module_version": "1.5.0",
            "description_tooltip": null,
            "_model_module": "@jupyter-widgets/controls",
            "layout": "IPY_MODEL_e4cee0026fed47cebda9faf1cec987d9"
          }
        },
        "511cff57a5c048358d3d943bb5f9ecbf": {
          "model_module": "@jupyter-widgets/controls",
          "model_name": "ProgressStyleModel",
          "model_module_version": "1.5.0",
          "state": {
            "_view_name": "StyleView",
            "_model_name": "ProgressStyleModel",
            "description_width": "initial",
            "_view_module": "@jupyter-widgets/base",
            "_model_module_version": "1.5.0",
            "_view_count": null,
            "_view_module_version": "1.2.0",
            "bar_color": null,
            "_model_module": "@jupyter-widgets/controls"
          }
        },
        "fdf31b5895f048b296e505766636404e": {
          "model_module": "@jupyter-widgets/base",
          "model_name": "LayoutModel",
          "model_module_version": "1.2.0",
          "state": {
            "_view_name": "LayoutView",
            "grid_template_rows": null,
            "right": null,
            "justify_content": null,
            "_view_module": "@jupyter-widgets/base",
            "overflow": null,
            "_model_module_version": "1.2.0",
            "_view_count": null,
            "flex_flow": null,
            "width": null,
            "min_width": null,
            "border": null,
            "align_items": null,
            "bottom": null,
            "_model_module": "@jupyter-widgets/base",
            "top": null,
            "grid_column": null,
            "overflow_y": null,
            "overflow_x": null,
            "grid_auto_flow": null,
            "grid_area": null,
            "grid_template_columns": null,
            "flex": null,
            "_model_name": "LayoutModel",
            "justify_items": null,
            "grid_row": null,
            "max_height": null,
            "align_content": null,
            "visibility": null,
            "align_self": null,
            "height": null,
            "min_height": null,
            "padding": null,
            "grid_auto_rows": null,
            "grid_gap": null,
            "max_width": null,
            "order": null,
            "_view_module_version": "1.2.0",
            "grid_template_areas": null,
            "object_position": null,
            "object_fit": null,
            "grid_auto_columns": null,
            "margin": null,
            "display": null,
            "left": null
          }
        },
        "498f28e1b30d4f37a225ce0a904cfb45": {
          "model_module": "@jupyter-widgets/controls",
          "model_name": "DescriptionStyleModel",
          "model_module_version": "1.5.0",
          "state": {
            "_view_name": "StyleView",
            "_model_name": "DescriptionStyleModel",
            "description_width": "",
            "_view_module": "@jupyter-widgets/base",
            "_model_module_version": "1.5.0",
            "_view_count": null,
            "_view_module_version": "1.2.0",
            "_model_module": "@jupyter-widgets/controls"
          }
        },
        "e4cee0026fed47cebda9faf1cec987d9": {
          "model_module": "@jupyter-widgets/base",
          "model_name": "LayoutModel",
          "model_module_version": "1.2.0",
          "state": {
            "_view_name": "LayoutView",
            "grid_template_rows": null,
            "right": null,
            "justify_content": null,
            "_view_module": "@jupyter-widgets/base",
            "overflow": null,
            "_model_module_version": "1.2.0",
            "_view_count": null,
            "flex_flow": null,
            "width": null,
            "min_width": null,
            "border": null,
            "align_items": null,
            "bottom": null,
            "_model_module": "@jupyter-widgets/base",
            "top": null,
            "grid_column": null,
            "overflow_y": null,
            "overflow_x": null,
            "grid_auto_flow": null,
            "grid_area": null,
            "grid_template_columns": null,
            "flex": null,
            "_model_name": "LayoutModel",
            "justify_items": null,
            "grid_row": null,
            "max_height": null,
            "align_content": null,
            "visibility": null,
            "align_self": null,
            "height": null,
            "min_height": null,
            "padding": null,
            "grid_auto_rows": null,
            "grid_gap": null,
            "max_width": null,
            "order": null,
            "_view_module_version": "1.2.0",
            "grid_template_areas": null,
            "object_position": null,
            "object_fit": null,
            "grid_auto_columns": null,
            "margin": null,
            "display": null,
            "left": null
          }
        },
        "2aebae035a70417992a2a1bccab774a0": {
          "model_module": "@jupyter-widgets/controls",
          "model_name": "HBoxModel",
          "model_module_version": "1.5.0",
          "state": {
            "_view_name": "HBoxView",
            "_dom_classes": [],
            "_model_name": "HBoxModel",
            "_view_module": "@jupyter-widgets/controls",
            "_model_module_version": "1.5.0",
            "_view_count": null,
            "_view_module_version": "1.5.0",
            "box_style": "",
            "layout": "IPY_MODEL_ce7120754bfb449997b09a8287c64a62",
            "_model_module": "@jupyter-widgets/controls",
            "children": [
              "IPY_MODEL_95090fbae4a84b48a951234bad7a80ff",
              "IPY_MODEL_77b5c2f65f864d7d88778ce6801eefb0"
            ]
          }
        },
        "ce7120754bfb449997b09a8287c64a62": {
          "model_module": "@jupyter-widgets/base",
          "model_name": "LayoutModel",
          "model_module_version": "1.2.0",
          "state": {
            "_view_name": "LayoutView",
            "grid_template_rows": null,
            "right": null,
            "justify_content": null,
            "_view_module": "@jupyter-widgets/base",
            "overflow": null,
            "_model_module_version": "1.2.0",
            "_view_count": null,
            "flex_flow": null,
            "width": null,
            "min_width": null,
            "border": null,
            "align_items": null,
            "bottom": null,
            "_model_module": "@jupyter-widgets/base",
            "top": null,
            "grid_column": null,
            "overflow_y": null,
            "overflow_x": null,
            "grid_auto_flow": null,
            "grid_area": null,
            "grid_template_columns": null,
            "flex": null,
            "_model_name": "LayoutModel",
            "justify_items": null,
            "grid_row": null,
            "max_height": null,
            "align_content": null,
            "visibility": null,
            "align_self": null,
            "height": null,
            "min_height": null,
            "padding": null,
            "grid_auto_rows": null,
            "grid_gap": null,
            "max_width": null,
            "order": null,
            "_view_module_version": "1.2.0",
            "grid_template_areas": null,
            "object_position": null,
            "object_fit": null,
            "grid_auto_columns": null,
            "margin": null,
            "display": null,
            "left": null
          }
        },
        "95090fbae4a84b48a951234bad7a80ff": {
          "model_module": "@jupyter-widgets/controls",
          "model_name": "FloatProgressModel",
          "model_module_version": "1.5.0",
          "state": {
            "_view_name": "ProgressView",
            "style": "IPY_MODEL_d5df0429813b4979853e272965e9c73d",
            "_dom_classes": [],
            "description": "#1: 100%",
            "_model_name": "FloatProgressModel",
            "bar_style": "success",
            "max": 45,
            "_view_module": "@jupyter-widgets/controls",
            "_model_module_version": "1.5.0",
            "value": 45,
            "_view_count": null,
            "_view_module_version": "1.5.0",
            "orientation": "horizontal",
            "min": 0,
            "description_tooltip": null,
            "_model_module": "@jupyter-widgets/controls",
            "layout": "IPY_MODEL_0f4a46305649411097b8ea60481d1174"
          }
        },
        "77b5c2f65f864d7d88778ce6801eefb0": {
          "model_module": "@jupyter-widgets/controls",
          "model_name": "HTMLModel",
          "model_module_version": "1.5.0",
          "state": {
            "_view_name": "HTMLView",
            "style": "IPY_MODEL_f4182e342c8c47b998003a4ccb36fc56",
            "_dom_classes": [],
            "description": "",
            "_model_name": "HTMLModel",
            "placeholder": "​",
            "_view_module": "@jupyter-widgets/controls",
            "_model_module_version": "1.5.0",
            "value": " 45/45 [00:34&lt;00:00,  1.32ba/s]",
            "_view_count": null,
            "_view_module_version": "1.5.0",
            "description_tooltip": null,
            "_model_module": "@jupyter-widgets/controls",
            "layout": "IPY_MODEL_88ce879cea124e248a1ecf2185683a67"
          }
        },
        "d5df0429813b4979853e272965e9c73d": {
          "model_module": "@jupyter-widgets/controls",
          "model_name": "ProgressStyleModel",
          "model_module_version": "1.5.0",
          "state": {
            "_view_name": "StyleView",
            "_model_name": "ProgressStyleModel",
            "description_width": "initial",
            "_view_module": "@jupyter-widgets/base",
            "_model_module_version": "1.5.0",
            "_view_count": null,
            "_view_module_version": "1.2.0",
            "bar_color": null,
            "_model_module": "@jupyter-widgets/controls"
          }
        },
        "0f4a46305649411097b8ea60481d1174": {
          "model_module": "@jupyter-widgets/base",
          "model_name": "LayoutModel",
          "model_module_version": "1.2.0",
          "state": {
            "_view_name": "LayoutView",
            "grid_template_rows": null,
            "right": null,
            "justify_content": null,
            "_view_module": "@jupyter-widgets/base",
            "overflow": null,
            "_model_module_version": "1.2.0",
            "_view_count": null,
            "flex_flow": null,
            "width": null,
            "min_width": null,
            "border": null,
            "align_items": null,
            "bottom": null,
            "_model_module": "@jupyter-widgets/base",
            "top": null,
            "grid_column": null,
            "overflow_y": null,
            "overflow_x": null,
            "grid_auto_flow": null,
            "grid_area": null,
            "grid_template_columns": null,
            "flex": null,
            "_model_name": "LayoutModel",
            "justify_items": null,
            "grid_row": null,
            "max_height": null,
            "align_content": null,
            "visibility": null,
            "align_self": null,
            "height": null,
            "min_height": null,
            "padding": null,
            "grid_auto_rows": null,
            "grid_gap": null,
            "max_width": null,
            "order": null,
            "_view_module_version": "1.2.0",
            "grid_template_areas": null,
            "object_position": null,
            "object_fit": null,
            "grid_auto_columns": null,
            "margin": null,
            "display": null,
            "left": null
          }
        },
        "f4182e342c8c47b998003a4ccb36fc56": {
          "model_module": "@jupyter-widgets/controls",
          "model_name": "DescriptionStyleModel",
          "model_module_version": "1.5.0",
          "state": {
            "_view_name": "StyleView",
            "_model_name": "DescriptionStyleModel",
            "description_width": "",
            "_view_module": "@jupyter-widgets/base",
            "_model_module_version": "1.5.0",
            "_view_count": null,
            "_view_module_version": "1.2.0",
            "_model_module": "@jupyter-widgets/controls"
          }
        },
        "88ce879cea124e248a1ecf2185683a67": {
          "model_module": "@jupyter-widgets/base",
          "model_name": "LayoutModel",
          "model_module_version": "1.2.0",
          "state": {
            "_view_name": "LayoutView",
            "grid_template_rows": null,
            "right": null,
            "justify_content": null,
            "_view_module": "@jupyter-widgets/base",
            "overflow": null,
            "_model_module_version": "1.2.0",
            "_view_count": null,
            "flex_flow": null,
            "width": null,
            "min_width": null,
            "border": null,
            "align_items": null,
            "bottom": null,
            "_model_module": "@jupyter-widgets/base",
            "top": null,
            "grid_column": null,
            "overflow_y": null,
            "overflow_x": null,
            "grid_auto_flow": null,
            "grid_area": null,
            "grid_template_columns": null,
            "flex": null,
            "_model_name": "LayoutModel",
            "justify_items": null,
            "grid_row": null,
            "max_height": null,
            "align_content": null,
            "visibility": null,
            "align_self": null,
            "height": null,
            "min_height": null,
            "padding": null,
            "grid_auto_rows": null,
            "grid_gap": null,
            "max_width": null,
            "order": null,
            "_view_module_version": "1.2.0",
            "grid_template_areas": null,
            "object_position": null,
            "object_fit": null,
            "grid_auto_columns": null,
            "margin": null,
            "display": null,
            "left": null
          }
        },
        "a08d4908da9a463487e06f87a945b4b2": {
          "model_module": "@jupyter-widgets/controls",
          "model_name": "HBoxModel",
          "model_module_version": "1.5.0",
          "state": {
            "_view_name": "HBoxView",
            "_dom_classes": [],
            "_model_name": "HBoxModel",
            "_view_module": "@jupyter-widgets/controls",
            "_model_module_version": "1.5.0",
            "_view_count": null,
            "_view_module_version": "1.5.0",
            "box_style": "",
            "layout": "IPY_MODEL_7c00235737904ea7aff6d55fbadf00e7",
            "_model_module": "@jupyter-widgets/controls",
            "children": [
              "IPY_MODEL_7f60cbcf129b4bbe8acc0ddac339c967",
              "IPY_MODEL_92a3bf6840b640aeaa420ac1f6de3020"
            ]
          }
        },
        "7c00235737904ea7aff6d55fbadf00e7": {
          "model_module": "@jupyter-widgets/base",
          "model_name": "LayoutModel",
          "model_module_version": "1.2.0",
          "state": {
            "_view_name": "LayoutView",
            "grid_template_rows": null,
            "right": null,
            "justify_content": null,
            "_view_module": "@jupyter-widgets/base",
            "overflow": null,
            "_model_module_version": "1.2.0",
            "_view_count": null,
            "flex_flow": null,
            "width": null,
            "min_width": null,
            "border": null,
            "align_items": null,
            "bottom": null,
            "_model_module": "@jupyter-widgets/base",
            "top": null,
            "grid_column": null,
            "overflow_y": null,
            "overflow_x": null,
            "grid_auto_flow": null,
            "grid_area": null,
            "grid_template_columns": null,
            "flex": null,
            "_model_name": "LayoutModel",
            "justify_items": null,
            "grid_row": null,
            "max_height": null,
            "align_content": null,
            "visibility": null,
            "align_self": null,
            "height": null,
            "min_height": null,
            "padding": null,
            "grid_auto_rows": null,
            "grid_gap": null,
            "max_width": null,
            "order": null,
            "_view_module_version": "1.2.0",
            "grid_template_areas": null,
            "object_position": null,
            "object_fit": null,
            "grid_auto_columns": null,
            "margin": null,
            "display": null,
            "left": null
          }
        },
        "7f60cbcf129b4bbe8acc0ddac339c967": {
          "model_module": "@jupyter-widgets/controls",
          "model_name": "FloatProgressModel",
          "model_module_version": "1.5.0",
          "state": {
            "_view_name": "ProgressView",
            "style": "IPY_MODEL_37611b42e6d84836aa6356dda6cab4f0",
            "_dom_classes": [],
            "description": "#2: 100%",
            "_model_name": "FloatProgressModel",
            "bar_style": "success",
            "max": 45,
            "_view_module": "@jupyter-widgets/controls",
            "_model_module_version": "1.5.0",
            "value": 45,
            "_view_count": null,
            "_view_module_version": "1.5.0",
            "orientation": "horizontal",
            "min": 0,
            "description_tooltip": null,
            "_model_module": "@jupyter-widgets/controls",
            "layout": "IPY_MODEL_d72c307a95624df480833e1ac32d54b9"
          }
        },
        "92a3bf6840b640aeaa420ac1f6de3020": {
          "model_module": "@jupyter-widgets/controls",
          "model_name": "HTMLModel",
          "model_module_version": "1.5.0",
          "state": {
            "_view_name": "HTMLView",
            "style": "IPY_MODEL_70b6d9722f914f238b7b90684596e5b0",
            "_dom_classes": [],
            "description": "",
            "_model_name": "HTMLModel",
            "placeholder": "​",
            "_view_module": "@jupyter-widgets/controls",
            "_model_module_version": "1.5.0",
            "value": " 45/45 [00:32&lt;00:00,  1.39ba/s]",
            "_view_count": null,
            "_view_module_version": "1.5.0",
            "description_tooltip": null,
            "_model_module": "@jupyter-widgets/controls",
            "layout": "IPY_MODEL_e4d35e5ad3684623ab85d29139411f26"
          }
        },
        "37611b42e6d84836aa6356dda6cab4f0": {
          "model_module": "@jupyter-widgets/controls",
          "model_name": "ProgressStyleModel",
          "model_module_version": "1.5.0",
          "state": {
            "_view_name": "StyleView",
            "_model_name": "ProgressStyleModel",
            "description_width": "initial",
            "_view_module": "@jupyter-widgets/base",
            "_model_module_version": "1.5.0",
            "_view_count": null,
            "_view_module_version": "1.2.0",
            "bar_color": null,
            "_model_module": "@jupyter-widgets/controls"
          }
        },
        "d72c307a95624df480833e1ac32d54b9": {
          "model_module": "@jupyter-widgets/base",
          "model_name": "LayoutModel",
          "model_module_version": "1.2.0",
          "state": {
            "_view_name": "LayoutView",
            "grid_template_rows": null,
            "right": null,
            "justify_content": null,
            "_view_module": "@jupyter-widgets/base",
            "overflow": null,
            "_model_module_version": "1.2.0",
            "_view_count": null,
            "flex_flow": null,
            "width": null,
            "min_width": null,
            "border": null,
            "align_items": null,
            "bottom": null,
            "_model_module": "@jupyter-widgets/base",
            "top": null,
            "grid_column": null,
            "overflow_y": null,
            "overflow_x": null,
            "grid_auto_flow": null,
            "grid_area": null,
            "grid_template_columns": null,
            "flex": null,
            "_model_name": "LayoutModel",
            "justify_items": null,
            "grid_row": null,
            "max_height": null,
            "align_content": null,
            "visibility": null,
            "align_self": null,
            "height": null,
            "min_height": null,
            "padding": null,
            "grid_auto_rows": null,
            "grid_gap": null,
            "max_width": null,
            "order": null,
            "_view_module_version": "1.2.0",
            "grid_template_areas": null,
            "object_position": null,
            "object_fit": null,
            "grid_auto_columns": null,
            "margin": null,
            "display": null,
            "left": null
          }
        },
        "70b6d9722f914f238b7b90684596e5b0": {
          "model_module": "@jupyter-widgets/controls",
          "model_name": "DescriptionStyleModel",
          "model_module_version": "1.5.0",
          "state": {
            "_view_name": "StyleView",
            "_model_name": "DescriptionStyleModel",
            "description_width": "",
            "_view_module": "@jupyter-widgets/base",
            "_model_module_version": "1.5.0",
            "_view_count": null,
            "_view_module_version": "1.2.0",
            "_model_module": "@jupyter-widgets/controls"
          }
        },
        "e4d35e5ad3684623ab85d29139411f26": {
          "model_module": "@jupyter-widgets/base",
          "model_name": "LayoutModel",
          "model_module_version": "1.2.0",
          "state": {
            "_view_name": "LayoutView",
            "grid_template_rows": null,
            "right": null,
            "justify_content": null,
            "_view_module": "@jupyter-widgets/base",
            "overflow": null,
            "_model_module_version": "1.2.0",
            "_view_count": null,
            "flex_flow": null,
            "width": null,
            "min_width": null,
            "border": null,
            "align_items": null,
            "bottom": null,
            "_model_module": "@jupyter-widgets/base",
            "top": null,
            "grid_column": null,
            "overflow_y": null,
            "overflow_x": null,
            "grid_auto_flow": null,
            "grid_area": null,
            "grid_template_columns": null,
            "flex": null,
            "_model_name": "LayoutModel",
            "justify_items": null,
            "grid_row": null,
            "max_height": null,
            "align_content": null,
            "visibility": null,
            "align_self": null,
            "height": null,
            "min_height": null,
            "padding": null,
            "grid_auto_rows": null,
            "grid_gap": null,
            "max_width": null,
            "order": null,
            "_view_module_version": "1.2.0",
            "grid_template_areas": null,
            "object_position": null,
            "object_fit": null,
            "grid_auto_columns": null,
            "margin": null,
            "display": null,
            "left": null
          }
        },
        "6ec3d2e29ee545eb88867222344b9269": {
          "model_module": "@jupyter-widgets/controls",
          "model_name": "HBoxModel",
          "model_module_version": "1.5.0",
          "state": {
            "_view_name": "HBoxView",
            "_dom_classes": [],
            "_model_name": "HBoxModel",
            "_view_module": "@jupyter-widgets/controls",
            "_model_module_version": "1.5.0",
            "_view_count": null,
            "_view_module_version": "1.5.0",
            "box_style": "",
            "layout": "IPY_MODEL_96e7e13e15444d2e857e2ae5d61e346b",
            "_model_module": "@jupyter-widgets/controls",
            "children": [
              "IPY_MODEL_3c2641140b874ad3980f489ad2a89a54",
              "IPY_MODEL_055eb2a77735470d90eac53643bafeb4"
            ]
          }
        },
        "96e7e13e15444d2e857e2ae5d61e346b": {
          "model_module": "@jupyter-widgets/base",
          "model_name": "LayoutModel",
          "model_module_version": "1.2.0",
          "state": {
            "_view_name": "LayoutView",
            "grid_template_rows": null,
            "right": null,
            "justify_content": null,
            "_view_module": "@jupyter-widgets/base",
            "overflow": null,
            "_model_module_version": "1.2.0",
            "_view_count": null,
            "flex_flow": null,
            "width": null,
            "min_width": null,
            "border": null,
            "align_items": null,
            "bottom": null,
            "_model_module": "@jupyter-widgets/base",
            "top": null,
            "grid_column": null,
            "overflow_y": null,
            "overflow_x": null,
            "grid_auto_flow": null,
            "grid_area": null,
            "grid_template_columns": null,
            "flex": null,
            "_model_name": "LayoutModel",
            "justify_items": null,
            "grid_row": null,
            "max_height": null,
            "align_content": null,
            "visibility": null,
            "align_self": null,
            "height": null,
            "min_height": null,
            "padding": null,
            "grid_auto_rows": null,
            "grid_gap": null,
            "max_width": null,
            "order": null,
            "_view_module_version": "1.2.0",
            "grid_template_areas": null,
            "object_position": null,
            "object_fit": null,
            "grid_auto_columns": null,
            "margin": null,
            "display": null,
            "left": null
          }
        },
        "3c2641140b874ad3980f489ad2a89a54": {
          "model_module": "@jupyter-widgets/controls",
          "model_name": "FloatProgressModel",
          "model_module_version": "1.5.0",
          "state": {
            "_view_name": "ProgressView",
            "style": "IPY_MODEL_4702a1c30f114d26a6883c751d0e2631",
            "_dom_classes": [],
            "description": "#3: 100%",
            "_model_name": "FloatProgressModel",
            "bar_style": "success",
            "max": 45,
            "_view_module": "@jupyter-widgets/controls",
            "_model_module_version": "1.5.0",
            "value": 45,
            "_view_count": null,
            "_view_module_version": "1.5.0",
            "orientation": "horizontal",
            "min": 0,
            "description_tooltip": null,
            "_model_module": "@jupyter-widgets/controls",
            "layout": "IPY_MODEL_8036a40eba474085b5dbe528ffcf6ee2"
          }
        },
        "055eb2a77735470d90eac53643bafeb4": {
          "model_module": "@jupyter-widgets/controls",
          "model_name": "HTMLModel",
          "model_module_version": "1.5.0",
          "state": {
            "_view_name": "HTMLView",
            "style": "IPY_MODEL_ae46663f91d74fef80b151ff60e8c310",
            "_dom_classes": [],
            "description": "",
            "_model_name": "HTMLModel",
            "placeholder": "​",
            "_view_module": "@jupyter-widgets/controls",
            "_model_module_version": "1.5.0",
            "value": " 45/45 [00:30&lt;00:00,  1.46ba/s]",
            "_view_count": null,
            "_view_module_version": "1.5.0",
            "description_tooltip": null,
            "_model_module": "@jupyter-widgets/controls",
            "layout": "IPY_MODEL_e2f9d8e127f74539bee7c91d1653d2b2"
          }
        },
        "4702a1c30f114d26a6883c751d0e2631": {
          "model_module": "@jupyter-widgets/controls",
          "model_name": "ProgressStyleModel",
          "model_module_version": "1.5.0",
          "state": {
            "_view_name": "StyleView",
            "_model_name": "ProgressStyleModel",
            "description_width": "initial",
            "_view_module": "@jupyter-widgets/base",
            "_model_module_version": "1.5.0",
            "_view_count": null,
            "_view_module_version": "1.2.0",
            "bar_color": null,
            "_model_module": "@jupyter-widgets/controls"
          }
        },
        "8036a40eba474085b5dbe528ffcf6ee2": {
          "model_module": "@jupyter-widgets/base",
          "model_name": "LayoutModel",
          "model_module_version": "1.2.0",
          "state": {
            "_view_name": "LayoutView",
            "grid_template_rows": null,
            "right": null,
            "justify_content": null,
            "_view_module": "@jupyter-widgets/base",
            "overflow": null,
            "_model_module_version": "1.2.0",
            "_view_count": null,
            "flex_flow": null,
            "width": null,
            "min_width": null,
            "border": null,
            "align_items": null,
            "bottom": null,
            "_model_module": "@jupyter-widgets/base",
            "top": null,
            "grid_column": null,
            "overflow_y": null,
            "overflow_x": null,
            "grid_auto_flow": null,
            "grid_area": null,
            "grid_template_columns": null,
            "flex": null,
            "_model_name": "LayoutModel",
            "justify_items": null,
            "grid_row": null,
            "max_height": null,
            "align_content": null,
            "visibility": null,
            "align_self": null,
            "height": null,
            "min_height": null,
            "padding": null,
            "grid_auto_rows": null,
            "grid_gap": null,
            "max_width": null,
            "order": null,
            "_view_module_version": "1.2.0",
            "grid_template_areas": null,
            "object_position": null,
            "object_fit": null,
            "grid_auto_columns": null,
            "margin": null,
            "display": null,
            "left": null
          }
        },
        "ae46663f91d74fef80b151ff60e8c310": {
          "model_module": "@jupyter-widgets/controls",
          "model_name": "DescriptionStyleModel",
          "model_module_version": "1.5.0",
          "state": {
            "_view_name": "StyleView",
            "_model_name": "DescriptionStyleModel",
            "description_width": "",
            "_view_module": "@jupyter-widgets/base",
            "_model_module_version": "1.5.0",
            "_view_count": null,
            "_view_module_version": "1.2.0",
            "_model_module": "@jupyter-widgets/controls"
          }
        },
        "e2f9d8e127f74539bee7c91d1653d2b2": {
          "model_module": "@jupyter-widgets/base",
          "model_name": "LayoutModel",
          "model_module_version": "1.2.0",
          "state": {
            "_view_name": "LayoutView",
            "grid_template_rows": null,
            "right": null,
            "justify_content": null,
            "_view_module": "@jupyter-widgets/base",
            "overflow": null,
            "_model_module_version": "1.2.0",
            "_view_count": null,
            "flex_flow": null,
            "width": null,
            "min_width": null,
            "border": null,
            "align_items": null,
            "bottom": null,
            "_model_module": "@jupyter-widgets/base",
            "top": null,
            "grid_column": null,
            "overflow_y": null,
            "overflow_x": null,
            "grid_auto_flow": null,
            "grid_area": null,
            "grid_template_columns": null,
            "flex": null,
            "_model_name": "LayoutModel",
            "justify_items": null,
            "grid_row": null,
            "max_height": null,
            "align_content": null,
            "visibility": null,
            "align_self": null,
            "height": null,
            "min_height": null,
            "padding": null,
            "grid_auto_rows": null,
            "grid_gap": null,
            "max_width": null,
            "order": null,
            "_view_module_version": "1.2.0",
            "grid_template_areas": null,
            "object_position": null,
            "object_fit": null,
            "grid_auto_columns": null,
            "margin": null,
            "display": null,
            "left": null
          }
        },
        "70fd8cb479db4990a0425a16636982b0": {
          "model_module": "@jupyter-widgets/controls",
          "model_name": "HBoxModel",
          "model_module_version": "1.5.0",
          "state": {
            "_view_name": "HBoxView",
            "_dom_classes": [],
            "_model_name": "HBoxModel",
            "_view_module": "@jupyter-widgets/controls",
            "_model_module_version": "1.5.0",
            "_view_count": null,
            "_view_module_version": "1.5.0",
            "box_style": "",
            "layout": "IPY_MODEL_945cc179f0c148f0b01884a38e30a09c",
            "_model_module": "@jupyter-widgets/controls",
            "children": [
              "IPY_MODEL_edb34d49795b4dfc9d640de147692e44",
              "IPY_MODEL_ec877ac43af447769b2f5fc28f53e8de"
            ]
          }
        },
        "945cc179f0c148f0b01884a38e30a09c": {
          "model_module": "@jupyter-widgets/base",
          "model_name": "LayoutModel",
          "model_module_version": "1.2.0",
          "state": {
            "_view_name": "LayoutView",
            "grid_template_rows": null,
            "right": null,
            "justify_content": null,
            "_view_module": "@jupyter-widgets/base",
            "overflow": null,
            "_model_module_version": "1.2.0",
            "_view_count": null,
            "flex_flow": null,
            "width": null,
            "min_width": null,
            "border": null,
            "align_items": null,
            "bottom": null,
            "_model_module": "@jupyter-widgets/base",
            "top": null,
            "grid_column": null,
            "overflow_y": null,
            "overflow_x": null,
            "grid_auto_flow": null,
            "grid_area": null,
            "grid_template_columns": null,
            "flex": null,
            "_model_name": "LayoutModel",
            "justify_items": null,
            "grid_row": null,
            "max_height": null,
            "align_content": null,
            "visibility": null,
            "align_self": null,
            "height": null,
            "min_height": null,
            "padding": null,
            "grid_auto_rows": null,
            "grid_gap": null,
            "max_width": null,
            "order": null,
            "_view_module_version": "1.2.0",
            "grid_template_areas": null,
            "object_position": null,
            "object_fit": null,
            "grid_auto_columns": null,
            "margin": null,
            "display": null,
            "left": null
          }
        },
        "edb34d49795b4dfc9d640de147692e44": {
          "model_module": "@jupyter-widgets/controls",
          "model_name": "FloatProgressModel",
          "model_module_version": "1.5.0",
          "state": {
            "_view_name": "ProgressView",
            "style": "IPY_MODEL_43b2656c615b4e67a09762c264cf4249",
            "_dom_classes": [],
            "description": "#0: 100%",
            "_model_name": "FloatProgressModel",
            "bar_style": "success",
            "max": 5,
            "_view_module": "@jupyter-widgets/controls",
            "_model_module_version": "1.5.0",
            "value": 5,
            "_view_count": null,
            "_view_module_version": "1.5.0",
            "orientation": "horizontal",
            "min": 0,
            "description_tooltip": null,
            "_model_module": "@jupyter-widgets/controls",
            "layout": "IPY_MODEL_750af16b0eae452787c77a9191c0d9e3"
          }
        },
        "ec877ac43af447769b2f5fc28f53e8de": {
          "model_module": "@jupyter-widgets/controls",
          "model_name": "HTMLModel",
          "model_module_version": "1.5.0",
          "state": {
            "_view_name": "HTMLView",
            "style": "IPY_MODEL_fd54bbf0833140e6ac57a125a18a53f8",
            "_dom_classes": [],
            "description": "",
            "_model_name": "HTMLModel",
            "placeholder": "​",
            "_view_module": "@jupyter-widgets/controls",
            "_model_module_version": "1.5.0",
            "value": " 5/5 [00:03&lt;00:00,  1.35ba/s]",
            "_view_count": null,
            "_view_module_version": "1.5.0",
            "description_tooltip": null,
            "_model_module": "@jupyter-widgets/controls",
            "layout": "IPY_MODEL_2b4af8d7ee914cd4b69229ba82879331"
          }
        },
        "43b2656c615b4e67a09762c264cf4249": {
          "model_module": "@jupyter-widgets/controls",
          "model_name": "ProgressStyleModel",
          "model_module_version": "1.5.0",
          "state": {
            "_view_name": "StyleView",
            "_model_name": "ProgressStyleModel",
            "description_width": "initial",
            "_view_module": "@jupyter-widgets/base",
            "_model_module_version": "1.5.0",
            "_view_count": null,
            "_view_module_version": "1.2.0",
            "bar_color": null,
            "_model_module": "@jupyter-widgets/controls"
          }
        },
        "750af16b0eae452787c77a9191c0d9e3": {
          "model_module": "@jupyter-widgets/base",
          "model_name": "LayoutModel",
          "model_module_version": "1.2.0",
          "state": {
            "_view_name": "LayoutView",
            "grid_template_rows": null,
            "right": null,
            "justify_content": null,
            "_view_module": "@jupyter-widgets/base",
            "overflow": null,
            "_model_module_version": "1.2.0",
            "_view_count": null,
            "flex_flow": null,
            "width": null,
            "min_width": null,
            "border": null,
            "align_items": null,
            "bottom": null,
            "_model_module": "@jupyter-widgets/base",
            "top": null,
            "grid_column": null,
            "overflow_y": null,
            "overflow_x": null,
            "grid_auto_flow": null,
            "grid_area": null,
            "grid_template_columns": null,
            "flex": null,
            "_model_name": "LayoutModel",
            "justify_items": null,
            "grid_row": null,
            "max_height": null,
            "align_content": null,
            "visibility": null,
            "align_self": null,
            "height": null,
            "min_height": null,
            "padding": null,
            "grid_auto_rows": null,
            "grid_gap": null,
            "max_width": null,
            "order": null,
            "_view_module_version": "1.2.0",
            "grid_template_areas": null,
            "object_position": null,
            "object_fit": null,
            "grid_auto_columns": null,
            "margin": null,
            "display": null,
            "left": null
          }
        },
        "fd54bbf0833140e6ac57a125a18a53f8": {
          "model_module": "@jupyter-widgets/controls",
          "model_name": "DescriptionStyleModel",
          "model_module_version": "1.5.0",
          "state": {
            "_view_name": "StyleView",
            "_model_name": "DescriptionStyleModel",
            "description_width": "",
            "_view_module": "@jupyter-widgets/base",
            "_model_module_version": "1.5.0",
            "_view_count": null,
            "_view_module_version": "1.2.0",
            "_model_module": "@jupyter-widgets/controls"
          }
        },
        "2b4af8d7ee914cd4b69229ba82879331": {
          "model_module": "@jupyter-widgets/base",
          "model_name": "LayoutModel",
          "model_module_version": "1.2.0",
          "state": {
            "_view_name": "LayoutView",
            "grid_template_rows": null,
            "right": null,
            "justify_content": null,
            "_view_module": "@jupyter-widgets/base",
            "overflow": null,
            "_model_module_version": "1.2.0",
            "_view_count": null,
            "flex_flow": null,
            "width": null,
            "min_width": null,
            "border": null,
            "align_items": null,
            "bottom": null,
            "_model_module": "@jupyter-widgets/base",
            "top": null,
            "grid_column": null,
            "overflow_y": null,
            "overflow_x": null,
            "grid_auto_flow": null,
            "grid_area": null,
            "grid_template_columns": null,
            "flex": null,
            "_model_name": "LayoutModel",
            "justify_items": null,
            "grid_row": null,
            "max_height": null,
            "align_content": null,
            "visibility": null,
            "align_self": null,
            "height": null,
            "min_height": null,
            "padding": null,
            "grid_auto_rows": null,
            "grid_gap": null,
            "max_width": null,
            "order": null,
            "_view_module_version": "1.2.0",
            "grid_template_areas": null,
            "object_position": null,
            "object_fit": null,
            "grid_auto_columns": null,
            "margin": null,
            "display": null,
            "left": null
          }
        },
        "d22b8a408129471eab7fcb446baeba83": {
          "model_module": "@jupyter-widgets/controls",
          "model_name": "HBoxModel",
          "model_module_version": "1.5.0",
          "state": {
            "_view_name": "HBoxView",
            "_dom_classes": [],
            "_model_name": "HBoxModel",
            "_view_module": "@jupyter-widgets/controls",
            "_model_module_version": "1.5.0",
            "_view_count": null,
            "_view_module_version": "1.5.0",
            "box_style": "",
            "layout": "IPY_MODEL_257caf35a30f44a3a04baf16f9c7b159",
            "_model_module": "@jupyter-widgets/controls",
            "children": [
              "IPY_MODEL_6eb616bb72ef40e9a6fecace040d6829",
              "IPY_MODEL_63a4ff2b6f5940a4b1ce11459244c3b3"
            ]
          }
        },
        "257caf35a30f44a3a04baf16f9c7b159": {
          "model_module": "@jupyter-widgets/base",
          "model_name": "LayoutModel",
          "model_module_version": "1.2.0",
          "state": {
            "_view_name": "LayoutView",
            "grid_template_rows": null,
            "right": null,
            "justify_content": null,
            "_view_module": "@jupyter-widgets/base",
            "overflow": null,
            "_model_module_version": "1.2.0",
            "_view_count": null,
            "flex_flow": null,
            "width": null,
            "min_width": null,
            "border": null,
            "align_items": null,
            "bottom": null,
            "_model_module": "@jupyter-widgets/base",
            "top": null,
            "grid_column": null,
            "overflow_y": null,
            "overflow_x": null,
            "grid_auto_flow": null,
            "grid_area": null,
            "grid_template_columns": null,
            "flex": null,
            "_model_name": "LayoutModel",
            "justify_items": null,
            "grid_row": null,
            "max_height": null,
            "align_content": null,
            "visibility": null,
            "align_self": null,
            "height": null,
            "min_height": null,
            "padding": null,
            "grid_auto_rows": null,
            "grid_gap": null,
            "max_width": null,
            "order": null,
            "_view_module_version": "1.2.0",
            "grid_template_areas": null,
            "object_position": null,
            "object_fit": null,
            "grid_auto_columns": null,
            "margin": null,
            "display": null,
            "left": null
          }
        },
        "6eb616bb72ef40e9a6fecace040d6829": {
          "model_module": "@jupyter-widgets/controls",
          "model_name": "FloatProgressModel",
          "model_module_version": "1.5.0",
          "state": {
            "_view_name": "ProgressView",
            "style": "IPY_MODEL_6ab528e50c494b3786778fbfb4acac1e",
            "_dom_classes": [],
            "description": "#1: 100%",
            "_model_name": "FloatProgressModel",
            "bar_style": "success",
            "max": 5,
            "_view_module": "@jupyter-widgets/controls",
            "_model_module_version": "1.5.0",
            "value": 5,
            "_view_count": null,
            "_view_module_version": "1.5.0",
            "orientation": "horizontal",
            "min": 0,
            "description_tooltip": null,
            "_model_module": "@jupyter-widgets/controls",
            "layout": "IPY_MODEL_b17d500cf480426c9e611c345e9d1dcf"
          }
        },
        "63a4ff2b6f5940a4b1ce11459244c3b3": {
          "model_module": "@jupyter-widgets/controls",
          "model_name": "HTMLModel",
          "model_module_version": "1.5.0",
          "state": {
            "_view_name": "HTMLView",
            "style": "IPY_MODEL_6e41afb1e43d4771990615ce0b7276a5",
            "_dom_classes": [],
            "description": "",
            "_model_name": "HTMLModel",
            "placeholder": "​",
            "_view_module": "@jupyter-widgets/controls",
            "_model_module_version": "1.5.0",
            "value": " 5/5 [00:03&lt;00:00,  1.30ba/s]",
            "_view_count": null,
            "_view_module_version": "1.5.0",
            "description_tooltip": null,
            "_model_module": "@jupyter-widgets/controls",
            "layout": "IPY_MODEL_3aef49a2ebfc4ae6ba2b4d1bb8868150"
          }
        },
        "6ab528e50c494b3786778fbfb4acac1e": {
          "model_module": "@jupyter-widgets/controls",
          "model_name": "ProgressStyleModel",
          "model_module_version": "1.5.0",
          "state": {
            "_view_name": "StyleView",
            "_model_name": "ProgressStyleModel",
            "description_width": "initial",
            "_view_module": "@jupyter-widgets/base",
            "_model_module_version": "1.5.0",
            "_view_count": null,
            "_view_module_version": "1.2.0",
            "bar_color": null,
            "_model_module": "@jupyter-widgets/controls"
          }
        },
        "b17d500cf480426c9e611c345e9d1dcf": {
          "model_module": "@jupyter-widgets/base",
          "model_name": "LayoutModel",
          "model_module_version": "1.2.0",
          "state": {
            "_view_name": "LayoutView",
            "grid_template_rows": null,
            "right": null,
            "justify_content": null,
            "_view_module": "@jupyter-widgets/base",
            "overflow": null,
            "_model_module_version": "1.2.0",
            "_view_count": null,
            "flex_flow": null,
            "width": null,
            "min_width": null,
            "border": null,
            "align_items": null,
            "bottom": null,
            "_model_module": "@jupyter-widgets/base",
            "top": null,
            "grid_column": null,
            "overflow_y": null,
            "overflow_x": null,
            "grid_auto_flow": null,
            "grid_area": null,
            "grid_template_columns": null,
            "flex": null,
            "_model_name": "LayoutModel",
            "justify_items": null,
            "grid_row": null,
            "max_height": null,
            "align_content": null,
            "visibility": null,
            "align_self": null,
            "height": null,
            "min_height": null,
            "padding": null,
            "grid_auto_rows": null,
            "grid_gap": null,
            "max_width": null,
            "order": null,
            "_view_module_version": "1.2.0",
            "grid_template_areas": null,
            "object_position": null,
            "object_fit": null,
            "grid_auto_columns": null,
            "margin": null,
            "display": null,
            "left": null
          }
        },
        "6e41afb1e43d4771990615ce0b7276a5": {
          "model_module": "@jupyter-widgets/controls",
          "model_name": "DescriptionStyleModel",
          "model_module_version": "1.5.0",
          "state": {
            "_view_name": "StyleView",
            "_model_name": "DescriptionStyleModel",
            "description_width": "",
            "_view_module": "@jupyter-widgets/base",
            "_model_module_version": "1.5.0",
            "_view_count": null,
            "_view_module_version": "1.2.0",
            "_model_module": "@jupyter-widgets/controls"
          }
        },
        "3aef49a2ebfc4ae6ba2b4d1bb8868150": {
          "model_module": "@jupyter-widgets/base",
          "model_name": "LayoutModel",
          "model_module_version": "1.2.0",
          "state": {
            "_view_name": "LayoutView",
            "grid_template_rows": null,
            "right": null,
            "justify_content": null,
            "_view_module": "@jupyter-widgets/base",
            "overflow": null,
            "_model_module_version": "1.2.0",
            "_view_count": null,
            "flex_flow": null,
            "width": null,
            "min_width": null,
            "border": null,
            "align_items": null,
            "bottom": null,
            "_model_module": "@jupyter-widgets/base",
            "top": null,
            "grid_column": null,
            "overflow_y": null,
            "overflow_x": null,
            "grid_auto_flow": null,
            "grid_area": null,
            "grid_template_columns": null,
            "flex": null,
            "_model_name": "LayoutModel",
            "justify_items": null,
            "grid_row": null,
            "max_height": null,
            "align_content": null,
            "visibility": null,
            "align_self": null,
            "height": null,
            "min_height": null,
            "padding": null,
            "grid_auto_rows": null,
            "grid_gap": null,
            "max_width": null,
            "order": null,
            "_view_module_version": "1.2.0",
            "grid_template_areas": null,
            "object_position": null,
            "object_fit": null,
            "grid_auto_columns": null,
            "margin": null,
            "display": null,
            "left": null
          }
        },
        "226eece20a344d088755541ab6100288": {
          "model_module": "@jupyter-widgets/controls",
          "model_name": "HBoxModel",
          "model_module_version": "1.5.0",
          "state": {
            "_view_name": "HBoxView",
            "_dom_classes": [],
            "_model_name": "HBoxModel",
            "_view_module": "@jupyter-widgets/controls",
            "_model_module_version": "1.5.0",
            "_view_count": null,
            "_view_module_version": "1.5.0",
            "box_style": "",
            "layout": "IPY_MODEL_bba2410769564418abe712701cf4f290",
            "_model_module": "@jupyter-widgets/controls",
            "children": [
              "IPY_MODEL_0df61ebc57cc42ce9d406fa8cc1b5f61",
              "IPY_MODEL_4a92d798e40d4bd39cb76c48f872c520"
            ]
          }
        },
        "bba2410769564418abe712701cf4f290": {
          "model_module": "@jupyter-widgets/base",
          "model_name": "LayoutModel",
          "model_module_version": "1.2.0",
          "state": {
            "_view_name": "LayoutView",
            "grid_template_rows": null,
            "right": null,
            "justify_content": null,
            "_view_module": "@jupyter-widgets/base",
            "overflow": null,
            "_model_module_version": "1.2.0",
            "_view_count": null,
            "flex_flow": null,
            "width": null,
            "min_width": null,
            "border": null,
            "align_items": null,
            "bottom": null,
            "_model_module": "@jupyter-widgets/base",
            "top": null,
            "grid_column": null,
            "overflow_y": null,
            "overflow_x": null,
            "grid_auto_flow": null,
            "grid_area": null,
            "grid_template_columns": null,
            "flex": null,
            "_model_name": "LayoutModel",
            "justify_items": null,
            "grid_row": null,
            "max_height": null,
            "align_content": null,
            "visibility": null,
            "align_self": null,
            "height": null,
            "min_height": null,
            "padding": null,
            "grid_auto_rows": null,
            "grid_gap": null,
            "max_width": null,
            "order": null,
            "_view_module_version": "1.2.0",
            "grid_template_areas": null,
            "object_position": null,
            "object_fit": null,
            "grid_auto_columns": null,
            "margin": null,
            "display": null,
            "left": null
          }
        },
        "0df61ebc57cc42ce9d406fa8cc1b5f61": {
          "model_module": "@jupyter-widgets/controls",
          "model_name": "FloatProgressModel",
          "model_module_version": "1.5.0",
          "state": {
            "_view_name": "ProgressView",
            "style": "IPY_MODEL_99ee59c6e1c34616b5d0283ad402eee6",
            "_dom_classes": [],
            "description": "#2: 100%",
            "_model_name": "FloatProgressModel",
            "bar_style": "success",
            "max": 5,
            "_view_module": "@jupyter-widgets/controls",
            "_model_module_version": "1.5.0",
            "value": 5,
            "_view_count": null,
            "_view_module_version": "1.5.0",
            "orientation": "horizontal",
            "min": 0,
            "description_tooltip": null,
            "_model_module": "@jupyter-widgets/controls",
            "layout": "IPY_MODEL_ee47dd678d904d26a6c891862f9f508f"
          }
        },
        "4a92d798e40d4bd39cb76c48f872c520": {
          "model_module": "@jupyter-widgets/controls",
          "model_name": "HTMLModel",
          "model_module_version": "1.5.0",
          "state": {
            "_view_name": "HTMLView",
            "style": "IPY_MODEL_8fa11e2e12f1478aafe9da3b1023e84a",
            "_dom_classes": [],
            "description": "",
            "_model_name": "HTMLModel",
            "placeholder": "​",
            "_view_module": "@jupyter-widgets/controls",
            "_model_module_version": "1.5.0",
            "value": " 5/5 [00:03&lt;00:00,  1.35ba/s]",
            "_view_count": null,
            "_view_module_version": "1.5.0",
            "description_tooltip": null,
            "_model_module": "@jupyter-widgets/controls",
            "layout": "IPY_MODEL_94d381982e5f4740a443cdaf0314b549"
          }
        },
        "99ee59c6e1c34616b5d0283ad402eee6": {
          "model_module": "@jupyter-widgets/controls",
          "model_name": "ProgressStyleModel",
          "model_module_version": "1.5.0",
          "state": {
            "_view_name": "StyleView",
            "_model_name": "ProgressStyleModel",
            "description_width": "initial",
            "_view_module": "@jupyter-widgets/base",
            "_model_module_version": "1.5.0",
            "_view_count": null,
            "_view_module_version": "1.2.0",
            "bar_color": null,
            "_model_module": "@jupyter-widgets/controls"
          }
        },
        "ee47dd678d904d26a6c891862f9f508f": {
          "model_module": "@jupyter-widgets/base",
          "model_name": "LayoutModel",
          "model_module_version": "1.2.0",
          "state": {
            "_view_name": "LayoutView",
            "grid_template_rows": null,
            "right": null,
            "justify_content": null,
            "_view_module": "@jupyter-widgets/base",
            "overflow": null,
            "_model_module_version": "1.2.0",
            "_view_count": null,
            "flex_flow": null,
            "width": null,
            "min_width": null,
            "border": null,
            "align_items": null,
            "bottom": null,
            "_model_module": "@jupyter-widgets/base",
            "top": null,
            "grid_column": null,
            "overflow_y": null,
            "overflow_x": null,
            "grid_auto_flow": null,
            "grid_area": null,
            "grid_template_columns": null,
            "flex": null,
            "_model_name": "LayoutModel",
            "justify_items": null,
            "grid_row": null,
            "max_height": null,
            "align_content": null,
            "visibility": null,
            "align_self": null,
            "height": null,
            "min_height": null,
            "padding": null,
            "grid_auto_rows": null,
            "grid_gap": null,
            "max_width": null,
            "order": null,
            "_view_module_version": "1.2.0",
            "grid_template_areas": null,
            "object_position": null,
            "object_fit": null,
            "grid_auto_columns": null,
            "margin": null,
            "display": null,
            "left": null
          }
        },
        "8fa11e2e12f1478aafe9da3b1023e84a": {
          "model_module": "@jupyter-widgets/controls",
          "model_name": "DescriptionStyleModel",
          "model_module_version": "1.5.0",
          "state": {
            "_view_name": "StyleView",
            "_model_name": "DescriptionStyleModel",
            "description_width": "",
            "_view_module": "@jupyter-widgets/base",
            "_model_module_version": "1.5.0",
            "_view_count": null,
            "_view_module_version": "1.2.0",
            "_model_module": "@jupyter-widgets/controls"
          }
        },
        "94d381982e5f4740a443cdaf0314b549": {
          "model_module": "@jupyter-widgets/base",
          "model_name": "LayoutModel",
          "model_module_version": "1.2.0",
          "state": {
            "_view_name": "LayoutView",
            "grid_template_rows": null,
            "right": null,
            "justify_content": null,
            "_view_module": "@jupyter-widgets/base",
            "overflow": null,
            "_model_module_version": "1.2.0",
            "_view_count": null,
            "flex_flow": null,
            "width": null,
            "min_width": null,
            "border": null,
            "align_items": null,
            "bottom": null,
            "_model_module": "@jupyter-widgets/base",
            "top": null,
            "grid_column": null,
            "overflow_y": null,
            "overflow_x": null,
            "grid_auto_flow": null,
            "grid_area": null,
            "grid_template_columns": null,
            "flex": null,
            "_model_name": "LayoutModel",
            "justify_items": null,
            "grid_row": null,
            "max_height": null,
            "align_content": null,
            "visibility": null,
            "align_self": null,
            "height": null,
            "min_height": null,
            "padding": null,
            "grid_auto_rows": null,
            "grid_gap": null,
            "max_width": null,
            "order": null,
            "_view_module_version": "1.2.0",
            "grid_template_areas": null,
            "object_position": null,
            "object_fit": null,
            "grid_auto_columns": null,
            "margin": null,
            "display": null,
            "left": null
          }
        },
        "6b15261e4ac741dbbd35eed9a313a6b3": {
          "model_module": "@jupyter-widgets/controls",
          "model_name": "HBoxModel",
          "model_module_version": "1.5.0",
          "state": {
            "_view_name": "HBoxView",
            "_dom_classes": [],
            "_model_name": "HBoxModel",
            "_view_module": "@jupyter-widgets/controls",
            "_model_module_version": "1.5.0",
            "_view_count": null,
            "_view_module_version": "1.5.0",
            "box_style": "",
            "layout": "IPY_MODEL_d16d9717ea22485b933f494ec115b049",
            "_model_module": "@jupyter-widgets/controls",
            "children": [
              "IPY_MODEL_1436540ceb6348b89e59e09f963355d6",
              "IPY_MODEL_ea9d7740749c4d7f97ba81c8c45cc884"
            ]
          }
        },
        "d16d9717ea22485b933f494ec115b049": {
          "model_module": "@jupyter-widgets/base",
          "model_name": "LayoutModel",
          "model_module_version": "1.2.0",
          "state": {
            "_view_name": "LayoutView",
            "grid_template_rows": null,
            "right": null,
            "justify_content": null,
            "_view_module": "@jupyter-widgets/base",
            "overflow": null,
            "_model_module_version": "1.2.0",
            "_view_count": null,
            "flex_flow": null,
            "width": null,
            "min_width": null,
            "border": null,
            "align_items": null,
            "bottom": null,
            "_model_module": "@jupyter-widgets/base",
            "top": null,
            "grid_column": null,
            "overflow_y": null,
            "overflow_x": null,
            "grid_auto_flow": null,
            "grid_area": null,
            "grid_template_columns": null,
            "flex": null,
            "_model_name": "LayoutModel",
            "justify_items": null,
            "grid_row": null,
            "max_height": null,
            "align_content": null,
            "visibility": null,
            "align_self": null,
            "height": null,
            "min_height": null,
            "padding": null,
            "grid_auto_rows": null,
            "grid_gap": null,
            "max_width": null,
            "order": null,
            "_view_module_version": "1.2.0",
            "grid_template_areas": null,
            "object_position": null,
            "object_fit": null,
            "grid_auto_columns": null,
            "margin": null,
            "display": null,
            "left": null
          }
        },
        "1436540ceb6348b89e59e09f963355d6": {
          "model_module": "@jupyter-widgets/controls",
          "model_name": "FloatProgressModel",
          "model_module_version": "1.5.0",
          "state": {
            "_view_name": "ProgressView",
            "style": "IPY_MODEL_616e81a9674a4cf5b3fa76085f559bf1",
            "_dom_classes": [],
            "description": "#3: 100%",
            "_model_name": "FloatProgressModel",
            "bar_style": "success",
            "max": 5,
            "_view_module": "@jupyter-widgets/controls",
            "_model_module_version": "1.5.0",
            "value": 5,
            "_view_count": null,
            "_view_module_version": "1.5.0",
            "orientation": "horizontal",
            "min": 0,
            "description_tooltip": null,
            "_model_module": "@jupyter-widgets/controls",
            "layout": "IPY_MODEL_014b3bb3f1e849a9b0b572aea7f34257"
          }
        },
        "ea9d7740749c4d7f97ba81c8c45cc884": {
          "model_module": "@jupyter-widgets/controls",
          "model_name": "HTMLModel",
          "model_module_version": "1.5.0",
          "state": {
            "_view_name": "HTMLView",
            "style": "IPY_MODEL_df2a35f301a1447fa05bb84fbc5b35a1",
            "_dom_classes": [],
            "description": "",
            "_model_name": "HTMLModel",
            "placeholder": "​",
            "_view_module": "@jupyter-widgets/controls",
            "_model_module_version": "1.5.0",
            "value": " 5/5 [00:03&lt;00:00,  1.47ba/s]",
            "_view_count": null,
            "_view_module_version": "1.5.0",
            "description_tooltip": null,
            "_model_module": "@jupyter-widgets/controls",
            "layout": "IPY_MODEL_745d43b95f604f29a7325a09e1355381"
          }
        },
        "616e81a9674a4cf5b3fa76085f559bf1": {
          "model_module": "@jupyter-widgets/controls",
          "model_name": "ProgressStyleModel",
          "model_module_version": "1.5.0",
          "state": {
            "_view_name": "StyleView",
            "_model_name": "ProgressStyleModel",
            "description_width": "initial",
            "_view_module": "@jupyter-widgets/base",
            "_model_module_version": "1.5.0",
            "_view_count": null,
            "_view_module_version": "1.2.0",
            "bar_color": null,
            "_model_module": "@jupyter-widgets/controls"
          }
        },
        "014b3bb3f1e849a9b0b572aea7f34257": {
          "model_module": "@jupyter-widgets/base",
          "model_name": "LayoutModel",
          "model_module_version": "1.2.0",
          "state": {
            "_view_name": "LayoutView",
            "grid_template_rows": null,
            "right": null,
            "justify_content": null,
            "_view_module": "@jupyter-widgets/base",
            "overflow": null,
            "_model_module_version": "1.2.0",
            "_view_count": null,
            "flex_flow": null,
            "width": null,
            "min_width": null,
            "border": null,
            "align_items": null,
            "bottom": null,
            "_model_module": "@jupyter-widgets/base",
            "top": null,
            "grid_column": null,
            "overflow_y": null,
            "overflow_x": null,
            "grid_auto_flow": null,
            "grid_area": null,
            "grid_template_columns": null,
            "flex": null,
            "_model_name": "LayoutModel",
            "justify_items": null,
            "grid_row": null,
            "max_height": null,
            "align_content": null,
            "visibility": null,
            "align_self": null,
            "height": null,
            "min_height": null,
            "padding": null,
            "grid_auto_rows": null,
            "grid_gap": null,
            "max_width": null,
            "order": null,
            "_view_module_version": "1.2.0",
            "grid_template_areas": null,
            "object_position": null,
            "object_fit": null,
            "grid_auto_columns": null,
            "margin": null,
            "display": null,
            "left": null
          }
        },
        "df2a35f301a1447fa05bb84fbc5b35a1": {
          "model_module": "@jupyter-widgets/controls",
          "model_name": "DescriptionStyleModel",
          "model_module_version": "1.5.0",
          "state": {
            "_view_name": "StyleView",
            "_model_name": "DescriptionStyleModel",
            "description_width": "",
            "_view_module": "@jupyter-widgets/base",
            "_model_module_version": "1.5.0",
            "_view_count": null,
            "_view_module_version": "1.2.0",
            "_model_module": "@jupyter-widgets/controls"
          }
        },
        "745d43b95f604f29a7325a09e1355381": {
          "model_module": "@jupyter-widgets/base",
          "model_name": "LayoutModel",
          "model_module_version": "1.2.0",
          "state": {
            "_view_name": "LayoutView",
            "grid_template_rows": null,
            "right": null,
            "justify_content": null,
            "_view_module": "@jupyter-widgets/base",
            "overflow": null,
            "_model_module_version": "1.2.0",
            "_view_count": null,
            "flex_flow": null,
            "width": null,
            "min_width": null,
            "border": null,
            "align_items": null,
            "bottom": null,
            "_model_module": "@jupyter-widgets/base",
            "top": null,
            "grid_column": null,
            "overflow_y": null,
            "overflow_x": null,
            "grid_auto_flow": null,
            "grid_area": null,
            "grid_template_columns": null,
            "flex": null,
            "_model_name": "LayoutModel",
            "justify_items": null,
            "grid_row": null,
            "max_height": null,
            "align_content": null,
            "visibility": null,
            "align_self": null,
            "height": null,
            "min_height": null,
            "padding": null,
            "grid_auto_rows": null,
            "grid_gap": null,
            "max_width": null,
            "order": null,
            "_view_module_version": "1.2.0",
            "grid_template_areas": null,
            "object_position": null,
            "object_fit": null,
            "grid_auto_columns": null,
            "margin": null,
            "display": null,
            "left": null
          }
        },
        "f64e0932db804124abc3cfe3e031ba8c": {
          "model_module": "@jupyter-widgets/controls",
          "model_name": "VBoxModel",
          "model_module_version": "1.5.0",
          "state": {
            "_view_name": "VBoxView",
            "_dom_classes": [],
            "_model_name": "VBoxModel",
            "_view_module": "@jupyter-widgets/controls",
            "_model_module_version": "1.5.0",
            "_view_count": null,
            "_view_module_version": "1.5.0",
            "box_style": "",
            "layout": "IPY_MODEL_4bc0999ca42d40e2af261cb2bc020f2d",
            "_model_module": "@jupyter-widgets/controls",
            "children": [
              "IPY_MODEL_c68a22a1a27b46a8bb724b9ee37b2d84",
              "IPY_MODEL_65862ab59dfa4a2c9bf5f854098c5fb4"
            ]
          }
        },
        "4bc0999ca42d40e2af261cb2bc020f2d": {
          "model_module": "@jupyter-widgets/base",
          "model_name": "LayoutModel",
          "model_module_version": "1.2.0",
          "state": {
            "_view_name": "LayoutView",
            "grid_template_rows": null,
            "right": null,
            "justify_content": null,
            "_view_module": "@jupyter-widgets/base",
            "overflow": null,
            "_model_module_version": "1.2.0",
            "_view_count": null,
            "flex_flow": null,
            "width": null,
            "min_width": null,
            "border": null,
            "align_items": null,
            "bottom": null,
            "_model_module": "@jupyter-widgets/base",
            "top": null,
            "grid_column": null,
            "overflow_y": null,
            "overflow_x": null,
            "grid_auto_flow": null,
            "grid_area": null,
            "grid_template_columns": null,
            "flex": null,
            "_model_name": "LayoutModel",
            "justify_items": null,
            "grid_row": null,
            "max_height": null,
            "align_content": null,
            "visibility": null,
            "align_self": null,
            "height": null,
            "min_height": null,
            "padding": null,
            "grid_auto_rows": null,
            "grid_gap": null,
            "max_width": null,
            "order": null,
            "_view_module_version": "1.2.0",
            "grid_template_areas": null,
            "object_position": null,
            "object_fit": null,
            "grid_auto_columns": null,
            "margin": null,
            "display": null,
            "left": null
          }
        },
        "c68a22a1a27b46a8bb724b9ee37b2d84": {
          "model_module": "@jupyter-widgets/controls",
          "model_name": "LabelModel",
          "model_module_version": "1.5.0",
          "state": {
            "_view_name": "LabelView",
            "style": "IPY_MODEL_8bb84b48ff8647b887b2fbb12e0a6803",
            "_dom_classes": [],
            "description": "",
            "_model_name": "LabelModel",
            "placeholder": "​",
            "_view_module": "@jupyter-widgets/controls",
            "_model_module_version": "1.5.0",
            "value": " 1207.48MB of 1207.48MB uploaded (0.00MB deduped)\r",
            "_view_count": null,
            "_view_module_version": "1.5.0",
            "description_tooltip": null,
            "_model_module": "@jupyter-widgets/controls",
            "layout": "IPY_MODEL_5d2df0c3aa9d4c9e80208fd61515affb"
          }
        },
        "65862ab59dfa4a2c9bf5f854098c5fb4": {
          "model_module": "@jupyter-widgets/controls",
          "model_name": "FloatProgressModel",
          "model_module_version": "1.5.0",
          "state": {
            "_view_name": "ProgressView",
            "style": "IPY_MODEL_e024c928815340439481026d44580f87",
            "_dom_classes": [],
            "description": "",
            "_model_name": "FloatProgressModel",
            "bar_style": "",
            "max": 1,
            "_view_module": "@jupyter-widgets/controls",
            "_model_module_version": "1.5.0",
            "value": 1,
            "_view_count": null,
            "_view_module_version": "1.5.0",
            "orientation": "horizontal",
            "min": 0,
            "description_tooltip": null,
            "_model_module": "@jupyter-widgets/controls",
            "layout": "IPY_MODEL_ccb8f5ce119246d3bdd34bc368e4fbae"
          }
        },
        "8bb84b48ff8647b887b2fbb12e0a6803": {
          "model_module": "@jupyter-widgets/controls",
          "model_name": "DescriptionStyleModel",
          "model_module_version": "1.5.0",
          "state": {
            "_view_name": "StyleView",
            "_model_name": "DescriptionStyleModel",
            "description_width": "",
            "_view_module": "@jupyter-widgets/base",
            "_model_module_version": "1.5.0",
            "_view_count": null,
            "_view_module_version": "1.2.0",
            "_model_module": "@jupyter-widgets/controls"
          }
        },
        "5d2df0c3aa9d4c9e80208fd61515affb": {
          "model_module": "@jupyter-widgets/base",
          "model_name": "LayoutModel",
          "model_module_version": "1.2.0",
          "state": {
            "_view_name": "LayoutView",
            "grid_template_rows": null,
            "right": null,
            "justify_content": null,
            "_view_module": "@jupyter-widgets/base",
            "overflow": null,
            "_model_module_version": "1.2.0",
            "_view_count": null,
            "flex_flow": null,
            "width": null,
            "min_width": null,
            "border": null,
            "align_items": null,
            "bottom": null,
            "_model_module": "@jupyter-widgets/base",
            "top": null,
            "grid_column": null,
            "overflow_y": null,
            "overflow_x": null,
            "grid_auto_flow": null,
            "grid_area": null,
            "grid_template_columns": null,
            "flex": null,
            "_model_name": "LayoutModel",
            "justify_items": null,
            "grid_row": null,
            "max_height": null,
            "align_content": null,
            "visibility": null,
            "align_self": null,
            "height": null,
            "min_height": null,
            "padding": null,
            "grid_auto_rows": null,
            "grid_gap": null,
            "max_width": null,
            "order": null,
            "_view_module_version": "1.2.0",
            "grid_template_areas": null,
            "object_position": null,
            "object_fit": null,
            "grid_auto_columns": null,
            "margin": null,
            "display": null,
            "left": null
          }
        },
        "e024c928815340439481026d44580f87": {
          "model_module": "@jupyter-widgets/controls",
          "model_name": "ProgressStyleModel",
          "model_module_version": "1.5.0",
          "state": {
            "_view_name": "StyleView",
            "_model_name": "ProgressStyleModel",
            "description_width": "",
            "_view_module": "@jupyter-widgets/base",
            "_model_module_version": "1.5.0",
            "_view_count": null,
            "_view_module_version": "1.2.0",
            "bar_color": null,
            "_model_module": "@jupyter-widgets/controls"
          }
        },
        "ccb8f5ce119246d3bdd34bc368e4fbae": {
          "model_module": "@jupyter-widgets/base",
          "model_name": "LayoutModel",
          "model_module_version": "1.2.0",
          "state": {
            "_view_name": "LayoutView",
            "grid_template_rows": null,
            "right": null,
            "justify_content": null,
            "_view_module": "@jupyter-widgets/base",
            "overflow": null,
            "_model_module_version": "1.2.0",
            "_view_count": null,
            "flex_flow": null,
            "width": null,
            "min_width": null,
            "border": null,
            "align_items": null,
            "bottom": null,
            "_model_module": "@jupyter-widgets/base",
            "top": null,
            "grid_column": null,
            "overflow_y": null,
            "overflow_x": null,
            "grid_auto_flow": null,
            "grid_area": null,
            "grid_template_columns": null,
            "flex": null,
            "_model_name": "LayoutModel",
            "justify_items": null,
            "grid_row": null,
            "max_height": null,
            "align_content": null,
            "visibility": null,
            "align_self": null,
            "height": null,
            "min_height": null,
            "padding": null,
            "grid_auto_rows": null,
            "grid_gap": null,
            "max_width": null,
            "order": null,
            "_view_module_version": "1.2.0",
            "grid_template_areas": null,
            "object_position": null,
            "object_fit": null,
            "grid_auto_columns": null,
            "margin": null,
            "display": null,
            "left": null
          }
        },
        "4328cf17ba1a4c6287ae9a2371e4baa6": {
          "model_module": "@jupyter-widgets/controls",
          "model_name": "HBoxModel",
          "model_module_version": "1.5.0",
          "state": {
            "_view_name": "HBoxView",
            "_dom_classes": [],
            "_model_name": "HBoxModel",
            "_view_module": "@jupyter-widgets/controls",
            "_model_module_version": "1.5.0",
            "_view_count": null,
            "_view_module_version": "1.5.0",
            "box_style": "",
            "layout": "IPY_MODEL_f2842933ea7044b0b5f5d58b4bb880c7",
            "_model_module": "@jupyter-widgets/controls",
            "children": [
              "IPY_MODEL_96c1bffbfe8847c292884d9a98d47c30",
              "IPY_MODEL_09fef41101a14c0b88ca7ae6488981d2"
            ]
          }
        },
        "f2842933ea7044b0b5f5d58b4bb880c7": {
          "model_module": "@jupyter-widgets/base",
          "model_name": "LayoutModel",
          "model_module_version": "1.2.0",
          "state": {
            "_view_name": "LayoutView",
            "grid_template_rows": null,
            "right": null,
            "justify_content": null,
            "_view_module": "@jupyter-widgets/base",
            "overflow": null,
            "_model_module_version": "1.2.0",
            "_view_count": null,
            "flex_flow": null,
            "width": null,
            "min_width": null,
            "border": null,
            "align_items": null,
            "bottom": null,
            "_model_module": "@jupyter-widgets/base",
            "top": null,
            "grid_column": null,
            "overflow_y": null,
            "overflow_x": null,
            "grid_auto_flow": null,
            "grid_area": null,
            "grid_template_columns": null,
            "flex": null,
            "_model_name": "LayoutModel",
            "justify_items": null,
            "grid_row": null,
            "max_height": null,
            "align_content": null,
            "visibility": null,
            "align_self": null,
            "height": null,
            "min_height": null,
            "padding": null,
            "grid_auto_rows": null,
            "grid_gap": null,
            "max_width": null,
            "order": null,
            "_view_module_version": "1.2.0",
            "grid_template_areas": null,
            "object_position": null,
            "object_fit": null,
            "grid_auto_columns": null,
            "margin": null,
            "display": null,
            "left": null
          }
        },
        "96c1bffbfe8847c292884d9a98d47c30": {
          "model_module": "@jupyter-widgets/controls",
          "model_name": "FloatProgressModel",
          "model_module_version": "1.5.0",
          "state": {
            "_view_name": "ProgressView",
            "style": "IPY_MODEL_1b5c7a6c8bf74c9eb3c3a8817d6f6cbe",
            "_dom_classes": [],
            "description": "100%",
            "_model_name": "FloatProgressModel",
            "bar_style": "success",
            "max": 157,
            "_view_module": "@jupyter-widgets/controls",
            "_model_module_version": "1.5.0",
            "value": 157,
            "_view_count": null,
            "_view_module_version": "1.5.0",
            "orientation": "horizontal",
            "min": 0,
            "description_tooltip": null,
            "_model_module": "@jupyter-widgets/controls",
            "layout": "IPY_MODEL_4b3ba3ac3b3040bfb80a6d9be99036a9"
          }
        },
        "09fef41101a14c0b88ca7ae6488981d2": {
          "model_module": "@jupyter-widgets/controls",
          "model_name": "HTMLModel",
          "model_module_version": "1.5.0",
          "state": {
            "_view_name": "HTMLView",
            "style": "IPY_MODEL_a8cb72dcc57e4ba0b0d68012368fda8b",
            "_dom_classes": [],
            "description": "",
            "_model_name": "HTMLModel",
            "placeholder": "​",
            "_view_module": "@jupyter-widgets/controls",
            "_model_module_version": "1.5.0",
            "value": " 157/157 [01:03&lt;00:00,  2.49ex/s]",
            "_view_count": null,
            "_view_module_version": "1.5.0",
            "description_tooltip": null,
            "_model_module": "@jupyter-widgets/controls",
            "layout": "IPY_MODEL_087b861921374c48a133601b3010e38f"
          }
        },
        "1b5c7a6c8bf74c9eb3c3a8817d6f6cbe": {
          "model_module": "@jupyter-widgets/controls",
          "model_name": "ProgressStyleModel",
          "model_module_version": "1.5.0",
          "state": {
            "_view_name": "StyleView",
            "_model_name": "ProgressStyleModel",
            "description_width": "initial",
            "_view_module": "@jupyter-widgets/base",
            "_model_module_version": "1.5.0",
            "_view_count": null,
            "_view_module_version": "1.2.0",
            "bar_color": null,
            "_model_module": "@jupyter-widgets/controls"
          }
        },
        "4b3ba3ac3b3040bfb80a6d9be99036a9": {
          "model_module": "@jupyter-widgets/base",
          "model_name": "LayoutModel",
          "model_module_version": "1.2.0",
          "state": {
            "_view_name": "LayoutView",
            "grid_template_rows": null,
            "right": null,
            "justify_content": null,
            "_view_module": "@jupyter-widgets/base",
            "overflow": null,
            "_model_module_version": "1.2.0",
            "_view_count": null,
            "flex_flow": null,
            "width": null,
            "min_width": null,
            "border": null,
            "align_items": null,
            "bottom": null,
            "_model_module": "@jupyter-widgets/base",
            "top": null,
            "grid_column": null,
            "overflow_y": null,
            "overflow_x": null,
            "grid_auto_flow": null,
            "grid_area": null,
            "grid_template_columns": null,
            "flex": null,
            "_model_name": "LayoutModel",
            "justify_items": null,
            "grid_row": null,
            "max_height": null,
            "align_content": null,
            "visibility": null,
            "align_self": null,
            "height": null,
            "min_height": null,
            "padding": null,
            "grid_auto_rows": null,
            "grid_gap": null,
            "max_width": null,
            "order": null,
            "_view_module_version": "1.2.0",
            "grid_template_areas": null,
            "object_position": null,
            "object_fit": null,
            "grid_auto_columns": null,
            "margin": null,
            "display": null,
            "left": null
          }
        },
        "a8cb72dcc57e4ba0b0d68012368fda8b": {
          "model_module": "@jupyter-widgets/controls",
          "model_name": "DescriptionStyleModel",
          "model_module_version": "1.5.0",
          "state": {
            "_view_name": "StyleView",
            "_model_name": "DescriptionStyleModel",
            "description_width": "",
            "_view_module": "@jupyter-widgets/base",
            "_model_module_version": "1.5.0",
            "_view_count": null,
            "_view_module_version": "1.2.0",
            "_model_module": "@jupyter-widgets/controls"
          }
        },
        "087b861921374c48a133601b3010e38f": {
          "model_module": "@jupyter-widgets/base",
          "model_name": "LayoutModel",
          "model_module_version": "1.2.0",
          "state": {
            "_view_name": "LayoutView",
            "grid_template_rows": null,
            "right": null,
            "justify_content": null,
            "_view_module": "@jupyter-widgets/base",
            "overflow": null,
            "_model_module_version": "1.2.0",
            "_view_count": null,
            "flex_flow": null,
            "width": null,
            "min_width": null,
            "border": null,
            "align_items": null,
            "bottom": null,
            "_model_module": "@jupyter-widgets/base",
            "top": null,
            "grid_column": null,
            "overflow_y": null,
            "overflow_x": null,
            "grid_auto_flow": null,
            "grid_area": null,
            "grid_template_columns": null,
            "flex": null,
            "_model_name": "LayoutModel",
            "justify_items": null,
            "grid_row": null,
            "max_height": null,
            "align_content": null,
            "visibility": null,
            "align_self": null,
            "height": null,
            "min_height": null,
            "padding": null,
            "grid_auto_rows": null,
            "grid_gap": null,
            "max_width": null,
            "order": null,
            "_view_module_version": "1.2.0",
            "grid_template_areas": null,
            "object_position": null,
            "object_fit": null,
            "grid_auto_columns": null,
            "margin": null,
            "display": null,
            "left": null
          }
        },
        "dededd56cc6347a690d2e3ff6550461c": {
          "model_module": "@jupyter-widgets/controls",
          "model_name": "HBoxModel",
          "model_module_version": "1.5.0",
          "state": {
            "_view_name": "HBoxView",
            "_dom_classes": [],
            "_model_name": "HBoxModel",
            "_view_module": "@jupyter-widgets/controls",
            "_model_module_version": "1.5.0",
            "_view_count": null,
            "_view_module_version": "1.5.0",
            "box_style": "",
            "layout": "IPY_MODEL_4797098a6dd2440bbf0aacf3a463fb30",
            "_model_module": "@jupyter-widgets/controls",
            "children": [
              "IPY_MODEL_94c08d25dcf5426ca16ed40b89dc2ff0",
              "IPY_MODEL_3f3904f38ae745428646f41294d13e38"
            ]
          }
        },
        "4797098a6dd2440bbf0aacf3a463fb30": {
          "model_module": "@jupyter-widgets/base",
          "model_name": "LayoutModel",
          "model_module_version": "1.2.0",
          "state": {
            "_view_name": "LayoutView",
            "grid_template_rows": null,
            "right": null,
            "justify_content": null,
            "_view_module": "@jupyter-widgets/base",
            "overflow": null,
            "_model_module_version": "1.2.0",
            "_view_count": null,
            "flex_flow": null,
            "width": null,
            "min_width": null,
            "border": null,
            "align_items": null,
            "bottom": null,
            "_model_module": "@jupyter-widgets/base",
            "top": null,
            "grid_column": null,
            "overflow_y": null,
            "overflow_x": null,
            "grid_auto_flow": null,
            "grid_area": null,
            "grid_template_columns": null,
            "flex": null,
            "_model_name": "LayoutModel",
            "justify_items": null,
            "grid_row": null,
            "max_height": null,
            "align_content": null,
            "visibility": null,
            "align_self": null,
            "height": null,
            "min_height": null,
            "padding": null,
            "grid_auto_rows": null,
            "grid_gap": null,
            "max_width": null,
            "order": null,
            "_view_module_version": "1.2.0",
            "grid_template_areas": null,
            "object_position": null,
            "object_fit": null,
            "grid_auto_columns": null,
            "margin": null,
            "display": null,
            "left": null
          }
        },
        "94c08d25dcf5426ca16ed40b89dc2ff0": {
          "model_module": "@jupyter-widgets/controls",
          "model_name": "FloatProgressModel",
          "model_module_version": "1.5.0",
          "state": {
            "_view_name": "ProgressView",
            "style": "IPY_MODEL_0a1516fcb9e1479194ec92d0625ef310",
            "_dom_classes": [],
            "description": "100%",
            "_model_name": "FloatProgressModel",
            "bar_style": "success",
            "max": 157,
            "_view_module": "@jupyter-widgets/controls",
            "_model_module_version": "1.5.0",
            "value": 157,
            "_view_count": null,
            "_view_module_version": "1.5.0",
            "orientation": "horizontal",
            "min": 0,
            "description_tooltip": null,
            "_model_module": "@jupyter-widgets/controls",
            "layout": "IPY_MODEL_92f94c060ccd460091bfdd52145e4d65"
          }
        },
        "3f3904f38ae745428646f41294d13e38": {
          "model_module": "@jupyter-widgets/controls",
          "model_name": "HTMLModel",
          "model_module_version": "1.5.0",
          "state": {
            "_view_name": "HTMLView",
            "style": "IPY_MODEL_d5113c51b5684b0ba6a300bc10f47f75",
            "_dom_classes": [],
            "description": "",
            "_model_name": "HTMLModel",
            "placeholder": "​",
            "_view_module": "@jupyter-widgets/controls",
            "_model_module_version": "1.5.0",
            "value": " 157/157 [00:02&lt;00:00, 59.23ex/s]",
            "_view_count": null,
            "_view_module_version": "1.5.0",
            "description_tooltip": null,
            "_model_module": "@jupyter-widgets/controls",
            "layout": "IPY_MODEL_8b6e959c8385490b9b7595ca2181a814"
          }
        },
        "0a1516fcb9e1479194ec92d0625ef310": {
          "model_module": "@jupyter-widgets/controls",
          "model_name": "ProgressStyleModel",
          "model_module_version": "1.5.0",
          "state": {
            "_view_name": "StyleView",
            "_model_name": "ProgressStyleModel",
            "description_width": "initial",
            "_view_module": "@jupyter-widgets/base",
            "_model_module_version": "1.5.0",
            "_view_count": null,
            "_view_module_version": "1.2.0",
            "bar_color": null,
            "_model_module": "@jupyter-widgets/controls"
          }
        },
        "92f94c060ccd460091bfdd52145e4d65": {
          "model_module": "@jupyter-widgets/base",
          "model_name": "LayoutModel",
          "model_module_version": "1.2.0",
          "state": {
            "_view_name": "LayoutView",
            "grid_template_rows": null,
            "right": null,
            "justify_content": null,
            "_view_module": "@jupyter-widgets/base",
            "overflow": null,
            "_model_module_version": "1.2.0",
            "_view_count": null,
            "flex_flow": null,
            "width": null,
            "min_width": null,
            "border": null,
            "align_items": null,
            "bottom": null,
            "_model_module": "@jupyter-widgets/base",
            "top": null,
            "grid_column": null,
            "overflow_y": null,
            "overflow_x": null,
            "grid_auto_flow": null,
            "grid_area": null,
            "grid_template_columns": null,
            "flex": null,
            "_model_name": "LayoutModel",
            "justify_items": null,
            "grid_row": null,
            "max_height": null,
            "align_content": null,
            "visibility": null,
            "align_self": null,
            "height": null,
            "min_height": null,
            "padding": null,
            "grid_auto_rows": null,
            "grid_gap": null,
            "max_width": null,
            "order": null,
            "_view_module_version": "1.2.0",
            "grid_template_areas": null,
            "object_position": null,
            "object_fit": null,
            "grid_auto_columns": null,
            "margin": null,
            "display": null,
            "left": null
          }
        },
        "d5113c51b5684b0ba6a300bc10f47f75": {
          "model_module": "@jupyter-widgets/controls",
          "model_name": "DescriptionStyleModel",
          "model_module_version": "1.5.0",
          "state": {
            "_view_name": "StyleView",
            "_model_name": "DescriptionStyleModel",
            "description_width": "",
            "_view_module": "@jupyter-widgets/base",
            "_model_module_version": "1.5.0",
            "_view_count": null,
            "_view_module_version": "1.2.0",
            "_model_module": "@jupyter-widgets/controls"
          }
        },
        "8b6e959c8385490b9b7595ca2181a814": {
          "model_module": "@jupyter-widgets/base",
          "model_name": "LayoutModel",
          "model_module_version": "1.2.0",
          "state": {
            "_view_name": "LayoutView",
            "grid_template_rows": null,
            "right": null,
            "justify_content": null,
            "_view_module": "@jupyter-widgets/base",
            "overflow": null,
            "_model_module_version": "1.2.0",
            "_view_count": null,
            "flex_flow": null,
            "width": null,
            "min_width": null,
            "border": null,
            "align_items": null,
            "bottom": null,
            "_model_module": "@jupyter-widgets/base",
            "top": null,
            "grid_column": null,
            "overflow_y": null,
            "overflow_x": null,
            "grid_auto_flow": null,
            "grid_area": null,
            "grid_template_columns": null,
            "flex": null,
            "_model_name": "LayoutModel",
            "justify_items": null,
            "grid_row": null,
            "max_height": null,
            "align_content": null,
            "visibility": null,
            "align_self": null,
            "height": null,
            "min_height": null,
            "padding": null,
            "grid_auto_rows": null,
            "grid_gap": null,
            "max_width": null,
            "order": null,
            "_view_module_version": "1.2.0",
            "grid_template_areas": null,
            "object_position": null,
            "object_fit": null,
            "grid_auto_columns": null,
            "margin": null,
            "display": null,
            "left": null
          }
        },
        "3b4a76266b834c9684458497c66c45df": {
          "model_module": "@jupyter-widgets/controls",
          "model_name": "HBoxModel",
          "model_module_version": "1.5.0",
          "state": {
            "_view_name": "HBoxView",
            "_dom_classes": [],
            "_model_name": "HBoxModel",
            "_view_module": "@jupyter-widgets/controls",
            "_model_module_version": "1.5.0",
            "_view_count": null,
            "_view_module_version": "1.5.0",
            "box_style": "",
            "layout": "IPY_MODEL_a89e372f70ab46b49e36160a345088a2",
            "_model_module": "@jupyter-widgets/controls",
            "children": [
              "IPY_MODEL_286e64238e6d49c9bdb6d9ef9e4237df",
              "IPY_MODEL_1858ce10816945b2943ec3bc4492c56e"
            ]
          }
        },
        "a89e372f70ab46b49e36160a345088a2": {
          "model_module": "@jupyter-widgets/base",
          "model_name": "LayoutModel",
          "model_module_version": "1.2.0",
          "state": {
            "_view_name": "LayoutView",
            "grid_template_rows": null,
            "right": null,
            "justify_content": null,
            "_view_module": "@jupyter-widgets/base",
            "overflow": null,
            "_model_module_version": "1.2.0",
            "_view_count": null,
            "flex_flow": null,
            "width": null,
            "min_width": null,
            "border": null,
            "align_items": null,
            "bottom": null,
            "_model_module": "@jupyter-widgets/base",
            "top": null,
            "grid_column": null,
            "overflow_y": null,
            "overflow_x": null,
            "grid_auto_flow": null,
            "grid_area": null,
            "grid_template_columns": null,
            "flex": null,
            "_model_name": "LayoutModel",
            "justify_items": null,
            "grid_row": null,
            "max_height": null,
            "align_content": null,
            "visibility": null,
            "align_self": null,
            "height": null,
            "min_height": null,
            "padding": null,
            "grid_auto_rows": null,
            "grid_gap": null,
            "max_width": null,
            "order": null,
            "_view_module_version": "1.2.0",
            "grid_template_areas": null,
            "object_position": null,
            "object_fit": null,
            "grid_auto_columns": null,
            "margin": null,
            "display": null,
            "left": null
          }
        },
        "286e64238e6d49c9bdb6d9ef9e4237df": {
          "model_module": "@jupyter-widgets/controls",
          "model_name": "FloatProgressModel",
          "model_module_version": "1.5.0",
          "state": {
            "_view_name": "ProgressView",
            "style": "IPY_MODEL_c7a2822df0494206a0114dc75b7cd98f",
            "_dom_classes": [],
            "description": "100%",
            "_model_name": "FloatProgressModel",
            "bar_style": "success",
            "max": 20,
            "_view_module": "@jupyter-widgets/controls",
            "_model_module_version": "1.5.0",
            "value": 20,
            "_view_count": null,
            "_view_module_version": "1.5.0",
            "orientation": "horizontal",
            "min": 0,
            "description_tooltip": null,
            "_model_module": "@jupyter-widgets/controls",
            "layout": "IPY_MODEL_88022e73de974a66892f23fdf512167c"
          }
        },
        "1858ce10816945b2943ec3bc4492c56e": {
          "model_module": "@jupyter-widgets/controls",
          "model_name": "HTMLModel",
          "model_module_version": "1.5.0",
          "state": {
            "_view_name": "HTMLView",
            "style": "IPY_MODEL_684acc4babb14ebfb9b6725e203f53c6",
            "_dom_classes": [],
            "description": "",
            "_model_name": "HTMLModel",
            "placeholder": "​",
            "_view_module": "@jupyter-widgets/controls",
            "_model_module_version": "1.5.0",
            "value": " 20/20 [16:15&lt;00:00, 48.76s/ba]",
            "_view_count": null,
            "_view_module_version": "1.5.0",
            "description_tooltip": null,
            "_model_module": "@jupyter-widgets/controls",
            "layout": "IPY_MODEL_5f574ad7d1894bb7bd8a32abbdf11c02"
          }
        },
        "c7a2822df0494206a0114dc75b7cd98f": {
          "model_module": "@jupyter-widgets/controls",
          "model_name": "ProgressStyleModel",
          "model_module_version": "1.5.0",
          "state": {
            "_view_name": "StyleView",
            "_model_name": "ProgressStyleModel",
            "description_width": "initial",
            "_view_module": "@jupyter-widgets/base",
            "_model_module_version": "1.5.0",
            "_view_count": null,
            "_view_module_version": "1.2.0",
            "bar_color": null,
            "_model_module": "@jupyter-widgets/controls"
          }
        },
        "88022e73de974a66892f23fdf512167c": {
          "model_module": "@jupyter-widgets/base",
          "model_name": "LayoutModel",
          "model_module_version": "1.2.0",
          "state": {
            "_view_name": "LayoutView",
            "grid_template_rows": null,
            "right": null,
            "justify_content": null,
            "_view_module": "@jupyter-widgets/base",
            "overflow": null,
            "_model_module_version": "1.2.0",
            "_view_count": null,
            "flex_flow": null,
            "width": null,
            "min_width": null,
            "border": null,
            "align_items": null,
            "bottom": null,
            "_model_module": "@jupyter-widgets/base",
            "top": null,
            "grid_column": null,
            "overflow_y": null,
            "overflow_x": null,
            "grid_auto_flow": null,
            "grid_area": null,
            "grid_template_columns": null,
            "flex": null,
            "_model_name": "LayoutModel",
            "justify_items": null,
            "grid_row": null,
            "max_height": null,
            "align_content": null,
            "visibility": null,
            "align_self": null,
            "height": null,
            "min_height": null,
            "padding": null,
            "grid_auto_rows": null,
            "grid_gap": null,
            "max_width": null,
            "order": null,
            "_view_module_version": "1.2.0",
            "grid_template_areas": null,
            "object_position": null,
            "object_fit": null,
            "grid_auto_columns": null,
            "margin": null,
            "display": null,
            "left": null
          }
        },
        "684acc4babb14ebfb9b6725e203f53c6": {
          "model_module": "@jupyter-widgets/controls",
          "model_name": "DescriptionStyleModel",
          "model_module_version": "1.5.0",
          "state": {
            "_view_name": "StyleView",
            "_model_name": "DescriptionStyleModel",
            "description_width": "",
            "_view_module": "@jupyter-widgets/base",
            "_model_module_version": "1.5.0",
            "_view_count": null,
            "_view_module_version": "1.2.0",
            "_model_module": "@jupyter-widgets/controls"
          }
        },
        "5f574ad7d1894bb7bd8a32abbdf11c02": {
          "model_module": "@jupyter-widgets/base",
          "model_name": "LayoutModel",
          "model_module_version": "1.2.0",
          "state": {
            "_view_name": "LayoutView",
            "grid_template_rows": null,
            "right": null,
            "justify_content": null,
            "_view_module": "@jupyter-widgets/base",
            "overflow": null,
            "_model_module_version": "1.2.0",
            "_view_count": null,
            "flex_flow": null,
            "width": null,
            "min_width": null,
            "border": null,
            "align_items": null,
            "bottom": null,
            "_model_module": "@jupyter-widgets/base",
            "top": null,
            "grid_column": null,
            "overflow_y": null,
            "overflow_x": null,
            "grid_auto_flow": null,
            "grid_area": null,
            "grid_template_columns": null,
            "flex": null,
            "_model_name": "LayoutModel",
            "justify_items": null,
            "grid_row": null,
            "max_height": null,
            "align_content": null,
            "visibility": null,
            "align_self": null,
            "height": null,
            "min_height": null,
            "padding": null,
            "grid_auto_rows": null,
            "grid_gap": null,
            "max_width": null,
            "order": null,
            "_view_module_version": "1.2.0",
            "grid_template_areas": null,
            "object_position": null,
            "object_fit": null,
            "grid_auto_columns": null,
            "margin": null,
            "display": null,
            "left": null
          }
        }
      }
    },
    "accelerator": "GPU"
  },
  "cells": [
    {
      "cell_type": "markdown",
      "metadata": {
        "id": "LHwodAjv9MTl"
      },
      "source": [
        "Checking the GPU config allotted under Google Colab Pro"
      ]
    },
    {
      "cell_type": "code",
      "metadata": {
        "colab": {
          "base_uri": "https://localhost:8080/"
        },
        "id": "tMGeisun81ay",
        "outputId": "252d53df-a81f-4401-dc57-3944a400aa95"
      },
      "source": [
        "!nvidia-smi"
      ],
      "execution_count": null,
      "outputs": [
        {
          "output_type": "stream",
          "text": [
            "Sun Mar 28 17:14:30 2021       \n",
            "+-----------------------------------------------------------------------------+\n",
            "| NVIDIA-SMI 460.56       Driver Version: 460.32.03    CUDA Version: 11.2     |\n",
            "|-------------------------------+----------------------+----------------------+\n",
            "| GPU  Name        Persistence-M| Bus-Id        Disp.A | Volatile Uncorr. ECC |\n",
            "| Fan  Temp  Perf  Pwr:Usage/Cap|         Memory-Usage | GPU-Util  Compute M. |\n",
            "|                               |                      |               MIG M. |\n",
            "|===============================+======================+======================|\n",
            "|   0  Tesla P100-PCIE...  Off  | 00000000:00:04.0 Off |                    0 |\n",
            "| N/A   38C    P0    27W / 250W |      0MiB / 16280MiB |      0%      Default |\n",
            "|                               |                      |                  N/A |\n",
            "+-------------------------------+----------------------+----------------------+\n",
            "                                                                               \n",
            "+-----------------------------------------------------------------------------+\n",
            "| Processes:                                                                  |\n",
            "|  GPU   GI   CI        PID   Type   Process name                  GPU Memory |\n",
            "|        ID   ID                                                   Usage      |\n",
            "|=============================================================================|\n",
            "|  No running processes found                                                 |\n",
            "+-----------------------------------------------------------------------------+\n"
          ],
          "name": "stdout"
        }
      ]
    },
    {
      "cell_type": "code",
      "metadata": {
        "colab": {
          "base_uri": "https://localhost:8080/"
        },
        "id": "CVcrm1Mm9B2N",
        "outputId": "5ede663a-83d0-4fd2-9c73-3011c0e3f559"
      },
      "source": [
        "from psutil import virtual_memory\n",
        "ram_gb = virtual_memory().total / 1e9\n",
        "print('Your runtime has {:.1f} gigabytes of available RAM\\n'.format(ram_gb))\n",
        "if not ram_gb < 20:\n",
        "  print('You are using a high-RAM runtime!')"
      ],
      "execution_count": null,
      "outputs": [
        {
          "output_type": "stream",
          "text": [
            "Your runtime has 27.4 gigabytes of available RAM\n",
            "\n",
            "You are using a high-RAM runtime!\n"
          ],
          "name": "stdout"
        }
      ]
    },
    {
      "cell_type": "markdown",
      "metadata": {
        "id": "U72CMfRl9yz6"
      },
      "source": [
        "Adding simple colab hacks to extend session timeout with few lines of JavaScript code. Inspect element and run this in console."
      ]
    },
    {
      "cell_type": "code",
      "metadata": {
        "id": "5g9xRRcS9yOU"
      },
      "source": [
        "# function ConnectButton(){\n",
        "#     console.log(\"Connect pushed\"); \n",
        "#     document.querySelector(\"#top-toolbar > colab-connect-button\").shadowRoot.querySelector(\"#connect\").click() \n",
        "# }\n",
        "# setInterval(ConnectButton,60000);"
      ],
      "execution_count": null,
      "outputs": []
    },
    {
      "cell_type": "markdown",
      "metadata": {
        "id": "LBSYoWbi-45k"
      },
      "source": [
        "# **Fine-tuning XLSR-Wav2Vec2 for Marathi ASR with 🤗 Transformers**"
      ]
    },
    {
      "cell_type": "markdown",
      "metadata": {
        "id": "V7YOT2mnUiea"
      },
      "source": [
        "Wav2Vec2 is a pretrained model for Automatic Speech Recognition (ASR) and was released in [September 2020](https://ai.facebook.com/blog/wav2vec-20-learning-the-structure-of-speech-from-raw-audio/) by Alexei Baevski, Michael Auli, and Alex Conneau.  Soon after the superior performance of Wav2Vec2 was demonstrated on the English ASR dataset LibriSpeech, *Facebook AI* presented XLSR-Wav2Vec2 (click [here](https://arxiv.org/abs/2006.13979)). XLSR stands for *cross-lingual  speech representations* and refers to XLSR-Wav2Vec2`s ability to learn speech representations that are useful across multiple languages.\n",
        "\n",
        "Similar to Wav2Vec2, XLSR-Wav2Vec2 learns powerful speech representations from hundreds of thousands of hours of speech in more than 50 languages of unlabeled speech. Similar, to [BERT's masked language modeling](http://jalammar.github.io/illustrated-bert/), the model learns contextualized speech representations by randomly masking feature vectors before passing them to a transformer network.\n",
        "\n",
        "![wav2vec2_structure](https://raw.githubusercontent.com/patrickvonplaten/scientific_images/master/xlsr_wav2vec2.png)\n",
        "\n",
        "The authors show for the first time that massively pretraining an ASR model on cross-lingual unlabeled speech data, followed by language-specific fine-tuning on very little labeled data achieves state-of-the-art results. See Table 1-5 of the official [paper](https://arxiv.org/pdf/2006.13979.pdf)."
      ]
    },
    {
      "cell_type": "markdown",
      "metadata": {
        "id": "Gx9OdDYrCtQ1"
      },
      "source": [
        "Note that in this notebook, we will fine-tune XLSR-Wav2Vec2 without making use of a language model. We fine-tune the [wav2vec2-large-xlsr-53](https://huggingface.co/facebook/wav2vec2-large-xlsr-53) on the low resource Marathi ASR dataset of [OpenSLR-64](http://openslr.org/64/) that contains just ~2h of validated training data.\n",
        "\n",
        "XLSR-Wav2Vec2 is fine-tuned using Connectionist Temporal Classification (CTC), which is an algorithm that is used to train neural networks for sequence-to-sequence problems and mainly in Automatic Speech Recognition and handwriting recognition. \n",
        "\n",
        "I highly recommend reading the blog post [Sequence Modeling with CTC (2017)](https://distill.pub/2017/ctc/) very well-written blog post by Awni Hannun."
      ]
    },
    {
      "cell_type": "markdown",
      "metadata": {
        "id": "e335hPmdtASZ"
      },
      "source": [
        "Before we start, let's install both `datasets` and `transformers` from master. Also, we need the `torchaudio` and `librosa` package to load audio files and the `jiwer` to evaluate our fine-tuned model using the [word error rate (WER)](https://huggingface.co/metrics/wer) metric ${}^1$."
      ]
    },
    {
      "cell_type": "code",
      "metadata": {
        "id": "c8eh87Hoee5d"
      },
      "source": [
        "%%capture\n",
        "!pip install datasets==1.4.1\n",
        "!pip install transformers==4.4.0\n",
        "!pip install torchaudio\n",
        "!pip install librosa\n",
        "!pip install jiwer"
      ],
      "execution_count": null,
      "outputs": []
    },
    {
      "cell_type": "markdown",
      "metadata": {
        "id": "0mW-C1Nt-j7k"
      },
      "source": [
        "## Prepare Data, Tokenizer, Feature Extractor and Create Wav2Vec2CTCTokenizer"
      ]
    },
    {
      "cell_type": "markdown",
      "metadata": {
        "id": "BeBosnY9BH3e"
      },
      "source": [
        "ASR models transcribe speech to text, which means that we both need a feature extractor that processes the speech signal to the model's input format, *e.g.* a feature vector, and a tokenizer that processes the model's output format to text. \n",
        "\n",
        "In 🤗 Transformers, the XLSR-Wav2Vec2 model is thus accompanied by both a tokenizer, called [Wav2Vec2CTCTokenizer](https://huggingface.co/transformers/master/model_doc/wav2vec2.html#wav2vec2ctctokenizer), and a feature extractor, called [Wav2Vec2FeatureExtractor](https://huggingface.co/transformers/master/model_doc/wav2vec2.html#wav2vec2featureextractor).\n",
        "\n"
      ]
    },
    {
      "cell_type": "markdown",
      "metadata": {
        "id": "tWmMikuNEKl_"
      },
      "source": [
        "The [pretrained Wav2Vec2 checkpoint]( ) maps the speech signal to a sequence of context representations as illustrated in the figure above. A fine-tuned XLSR-Wav2Vec2 checkpoint needs to map this sequence of context representations to its corresponding transcription so that a linear layer has to be added on top of the transformer block (shown in yellow). This linear layer is used to classifies each context representation to a token class analogous how, *e.g.*, after pretraining a linear layer is added on top of BERT's embeddings for further classification - *cf.* with *\"BERT\"* section of this [blog post](https://huggingface.co/blog/warm-starting-encoder-decoder).\n",
        "\n",
        "The output size of this layer corresponds to the number of tokens in the vocabulary, which does **not** depend on XLSR-Wav2Vec2's pretraining task, but only on the labeled dataset used for fine-tuning. So in the first step, we will take a look at Common Voice and define a vocabulary based on the dataset's transcriptions."
      ]
    },
    {
      "cell_type": "code",
      "metadata": {
        "id": "2MMXcWFFgCXU"
      },
      "source": [
        "import pandas as pd\n",
        "import numpy as np\n",
        "import time\n",
        "import os, sys\n",
        "from datasets import Dataset"
      ],
      "execution_count": null,
      "outputs": []
    },
    {
      "cell_type": "markdown",
      "metadata": {
        "id": "gtv_dV6XLY8i"
      },
      "source": [
        "Mount your google drive to read dataset and to save the trained model after completing fine-tuning."
      ]
    },
    {
      "cell_type": "code",
      "metadata": {
        "id": "z5pQvhA4CboR",
        "colab": {
          "base_uri": "https://localhost:8080/"
        },
        "outputId": "42a4c617-acac-4cbc-b39b-57b170286e24"
      },
      "source": [
        "from google.colab import drive\n",
        "drive.mount('/content/gdrive/')"
      ],
      "execution_count": null,
      "outputs": [
        {
          "output_type": "stream",
          "text": [
            "Drive already mounted at /content/gdrive/; to attempt to forcibly remount, call drive.mount(\"/content/gdrive/\", force_remount=True).\n"
          ],
          "name": "stdout"
        }
      ]
    },
    {
      "cell_type": "markdown",
      "metadata": {
        "id": "idBczw8mWzgt"
      },
      "source": [
        "First, let's go to [Open SLR website](http://openslr.org/64/) and download dataset for marathi language to fine-tune XLSR-Wav2Vec2 on.\n"
      ]
    },
    {
      "cell_type": "markdown",
      "metadata": {
        "id": "bee4g9rpLxll"
      },
      "source": [
        "\n",
        "Because the Marathi dataset is so small, we will merge both the validation and training data into a training dataset and simply use the test data for validation."
      ]
    },
    {
      "cell_type": "code",
      "metadata": {
        "id": "J49nHXTRBkHr"
      },
      "source": [
        "dataset_path_in_drive = \"/content/gdrive/MyDrive/OpenSLR-64_Marathi/mr_in_female/\""
      ],
      "execution_count": null,
      "outputs": []
    },
    {
      "cell_type": "code",
      "metadata": {
        "id": "JCzuBIV6C4Lu"
      },
      "source": [
        "audio_df = pd.read_csv(os.path.join(dataset_path_in_drive,'line_index.tsv'),sep='\\t',header=None)"
      ],
      "execution_count": null,
      "outputs": []
    },
    {
      "cell_type": "code",
      "metadata": {
        "colab": {
          "base_uri": "https://localhost:8080/"
        },
        "id": "s_1ABINrFjiw",
        "outputId": "6243e493-4236-4cde-cda0-088d27bb74fc"
      },
      "source": [
        "audio_df.shape"
      ],
      "execution_count": null,
      "outputs": [
        {
          "output_type": "execute_result",
          "data": {
            "text/plain": [
              "(1569, 2)"
            ]
          },
          "metadata": {
            "tags": []
          },
          "execution_count": 9
        }
      ]
    },
    {
      "cell_type": "code",
      "metadata": {
        "colab": {
          "base_uri": "https://localhost:8080/",
          "height": 204
        },
        "id": "O-Jy5RUEDggt",
        "outputId": "f82a53c1-c149-4c4f-d689-532ba79b1e9e"
      },
      "source": [
        "audio_df.head()"
      ],
      "execution_count": null,
      "outputs": [
        {
          "output_type": "execute_result",
          "data": {
            "text/html": [
              "<div>\n",
              "<style scoped>\n",
              "    .dataframe tbody tr th:only-of-type {\n",
              "        vertical-align: middle;\n",
              "    }\n",
              "\n",
              "    .dataframe tbody tr th {\n",
              "        vertical-align: top;\n",
              "    }\n",
              "\n",
              "    .dataframe thead th {\n",
              "        text-align: right;\n",
              "    }\n",
              "</style>\n",
              "<table border=\"1\" class=\"dataframe\">\n",
              "  <thead>\n",
              "    <tr style=\"text-align: right;\">\n",
              "      <th></th>\n",
              "      <th>0</th>\n",
              "      <th>1</th>\n",
              "    </tr>\n",
              "  </thead>\n",
              "  <tbody>\n",
              "    <tr>\n",
              "      <th>0</th>\n",
              "      <td>mrt_01523_01464306257</td>\n",
              "      <td>एक बस चार तासांपूर्वी येऊन गेली आणि पुढची बस य...</td>\n",
              "    </tr>\n",
              "    <tr>\n",
              "      <th>1</th>\n",
              "      <td>mrt_04310_01727087719</td>\n",
              "      <td>अमरापूर गावाला रुपेरी पडद्यावर ओळख निर्माण करू...</td>\n",
              "    </tr>\n",
              "    <tr>\n",
              "      <th>2</th>\n",
              "      <td>mrt_03398_00598923081</td>\n",
              "      <td>आज लंडनमध्ये कमाल तापमान पंचवीस अंश सेल्सिअस अ...</td>\n",
              "    </tr>\n",
              "    <tr>\n",
              "      <th>3</th>\n",
              "      <td>mrt_02624_01527619254</td>\n",
              "      <td>आता ती छत्री कुठे आहे ?</td>\n",
              "    </tr>\n",
              "    <tr>\n",
              "      <th>4</th>\n",
              "      <td>mrt_01523_00829338962</td>\n",
              "      <td>मी तुमच्यासाठी काय करू शकते ?</td>\n",
              "    </tr>\n",
              "  </tbody>\n",
              "</table>\n",
              "</div>"
            ],
            "text/plain": [
              "                       0                                                  1\n",
              "0  mrt_01523_01464306257  एक बस चार तासांपूर्वी येऊन गेली आणि पुढची बस य...\n",
              "1  mrt_04310_01727087719  अमरापूर गावाला रुपेरी पडद्यावर ओळख निर्माण करू...\n",
              "2  mrt_03398_00598923081  आज लंडनमध्ये कमाल तापमान पंचवीस अंश सेल्सिअस अ...\n",
              "3  mrt_02624_01527619254                            आता ती छत्री कुठे आहे ?\n",
              "4  mrt_01523_00829338962                      मी तुमच्यासाठी काय करू शकते ?"
            ]
          },
          "metadata": {
            "tags": []
          },
          "execution_count": 10
        }
      ]
    },
    {
      "cell_type": "code",
      "metadata": {
        "colab": {
          "base_uri": "https://localhost:8080/"
        },
        "id": "vQhmrhisGrw3",
        "outputId": "87c55f86-d037-4ae3-bae8-c873d8c053fd"
      },
      "source": [
        "audio_df.columns"
      ],
      "execution_count": null,
      "outputs": [
        {
          "output_type": "execute_result",
          "data": {
            "text/plain": [
              "Int64Index([0, 1], dtype='int64')"
            ]
          },
          "metadata": {
            "tags": []
          },
          "execution_count": 11
        }
      ]
    },
    {
      "cell_type": "code",
      "metadata": {
        "id": "twCMeyUjHAnA"
      },
      "source": [
        "audio_df.columns = ['path_in_folder','actual_text']"
      ],
      "execution_count": null,
      "outputs": []
    },
    {
      "cell_type": "code",
      "metadata": {
        "id": "ZUyMSLBSGMxq"
      },
      "source": [
        "audio_df['path_in_folder'] = audio_df['path_in_folder'].apply(lambda x: dataset_path_in_drive + x + '.wav')"
      ],
      "execution_count": null,
      "outputs": []
    },
    {
      "cell_type": "code",
      "metadata": {
        "id": "2X-rnSWLMnb6"
      },
      "source": [
        "audio_df = audio_df.sample(frac=1, random_state=2020).reset_index(drop=True)"
      ],
      "execution_count": null,
      "outputs": []
    },
    {
      "cell_type": "code",
      "metadata": {
        "colab": {
          "base_uri": "https://localhost:8080/",
          "height": 359
        },
        "id": "Gd87opTHM4NF",
        "outputId": "d0629d85-9b00-4560-b72b-036525d2d030"
      },
      "source": [
        "audio_df.head(10)"
      ],
      "execution_count": null,
      "outputs": [
        {
          "output_type": "execute_result",
          "data": {
            "text/html": [
              "<div>\n",
              "<style scoped>\n",
              "    .dataframe tbody tr th:only-of-type {\n",
              "        vertical-align: middle;\n",
              "    }\n",
              "\n",
              "    .dataframe tbody tr th {\n",
              "        vertical-align: top;\n",
              "    }\n",
              "\n",
              "    .dataframe thead th {\n",
              "        text-align: right;\n",
              "    }\n",
              "</style>\n",
              "<table border=\"1\" class=\"dataframe\">\n",
              "  <thead>\n",
              "    <tr style=\"text-align: right;\">\n",
              "      <th></th>\n",
              "      <th>path_in_folder</th>\n",
              "      <th>actual_text</th>\n",
              "    </tr>\n",
              "  </thead>\n",
              "  <tbody>\n",
              "    <tr>\n",
              "      <th>0</th>\n",
              "      <td>/content/gdrive/MyDrive/OpenSLR-64_Marathi/mr_...</td>\n",
              "      <td>आपण पृथ्वीविषयी का बोलत नाही ? चला , आपण पुढच्...</td>\n",
              "    </tr>\n",
              "    <tr>\n",
              "      <th>1</th>\n",
              "      <td>/content/gdrive/MyDrive/OpenSLR-64_Marathi/mr_...</td>\n",
              "      <td>अर्चना ह्या सुट्टीत बोगोताला जाऊन तिथे चांगली ...</td>\n",
              "    </tr>\n",
              "    <tr>\n",
              "      <th>2</th>\n",
              "      <td>/content/gdrive/MyDrive/OpenSLR-64_Marathi/mr_...</td>\n",
              "      <td>अश्विनीचा जन्म दोन हजार तीन सालातील चैत्र या म...</td>\n",
              "    </tr>\n",
              "    <tr>\n",
              "      <th>3</th>\n",
              "      <td>/content/gdrive/MyDrive/OpenSLR-64_Marathi/mr_...</td>\n",
              "      <td>अर्चना परवा हवानामधे गेली होती तेव्हा तिथल्या ...</td>\n",
              "    </tr>\n",
              "    <tr>\n",
              "      <th>4</th>\n",
              "      <td>/content/gdrive/MyDrive/OpenSLR-64_Marathi/mr_...</td>\n",
              "      <td>मी खरंच तरूण आहे का ?</td>\n",
              "    </tr>\n",
              "    <tr>\n",
              "      <th>5</th>\n",
              "      <td>/content/gdrive/MyDrive/OpenSLR-64_Marathi/mr_...</td>\n",
              "      <td>आपल्या सुरक्षकवचातून बाहेर पडा</td>\n",
              "    </tr>\n",
              "    <tr>\n",
              "      <th>6</th>\n",
              "      <td>/content/gdrive/MyDrive/OpenSLR-64_Marathi/mr_...</td>\n",
              "      <td>गांगुलीवरच्या एका सामन्याच्या बंदीमुळे मालिकेत...</td>\n",
              "    </tr>\n",
              "    <tr>\n",
              "      <th>7</th>\n",
              "      <td>/content/gdrive/MyDrive/OpenSLR-64_Marathi/mr_...</td>\n",
              "      <td>तुम्हालाही भेटून आनंद झाला . मी तुम्हाला कशाप्...</td>\n",
              "    </tr>\n",
              "    <tr>\n",
              "      <th>8</th>\n",
              "      <td>/content/gdrive/MyDrive/OpenSLR-64_Marathi/mr_...</td>\n",
              "      <td>आज कॅलिफोर्नियामध्ये कमाल तापमान सदुसष्ट अंश फ...</td>\n",
              "    </tr>\n",
              "    <tr>\n",
              "      <th>9</th>\n",
              "      <td>/content/gdrive/MyDrive/OpenSLR-64_Marathi/mr_...</td>\n",
              "      <td>अर्चना परवा डर्बनमधे गेली होती तेव्हा तिथल्या ...</td>\n",
              "    </tr>\n",
              "  </tbody>\n",
              "</table>\n",
              "</div>"
            ],
            "text/plain": [
              "                                      path_in_folder                                        actual_text\n",
              "0  /content/gdrive/MyDrive/OpenSLR-64_Marathi/mr_...  आपण पृथ्वीविषयी का बोलत नाही ? चला , आपण पुढच्...\n",
              "1  /content/gdrive/MyDrive/OpenSLR-64_Marathi/mr_...  अर्चना ह्या सुट्टीत बोगोताला जाऊन तिथे चांगली ...\n",
              "2  /content/gdrive/MyDrive/OpenSLR-64_Marathi/mr_...  अश्विनीचा जन्म दोन हजार तीन सालातील चैत्र या म...\n",
              "3  /content/gdrive/MyDrive/OpenSLR-64_Marathi/mr_...  अर्चना परवा हवानामधे गेली होती तेव्हा तिथल्या ...\n",
              "4  /content/gdrive/MyDrive/OpenSLR-64_Marathi/mr_...                              मी खरंच तरूण आहे का ?\n",
              "5  /content/gdrive/MyDrive/OpenSLR-64_Marathi/mr_...                     आपल्या सुरक्षकवचातून बाहेर पडा\n",
              "6  /content/gdrive/MyDrive/OpenSLR-64_Marathi/mr_...  गांगुलीवरच्या एका सामन्याच्या बंदीमुळे मालिकेत...\n",
              "7  /content/gdrive/MyDrive/OpenSLR-64_Marathi/mr_...  तुम्हालाही भेटून आनंद झाला . मी तुम्हाला कशाप्...\n",
              "8  /content/gdrive/MyDrive/OpenSLR-64_Marathi/mr_...  आज कॅलिफोर्नियामध्ये कमाल तापमान सदुसष्ट अंश फ...\n",
              "9  /content/gdrive/MyDrive/OpenSLR-64_Marathi/mr_...  अर्चना परवा डर्बनमधे गेली होती तेव्हा तिथल्या ..."
            ]
          },
          "metadata": {
            "tags": []
          },
          "execution_count": 17
        }
      ]
    },
    {
      "cell_type": "code",
      "metadata": {
        "id": "iUPKPY9QKR4X"
      },
      "source": [
        "all_data = Dataset.from_pandas(audio_df)"
      ],
      "execution_count": null,
      "outputs": []
    },
    {
      "cell_type": "code",
      "metadata": {
        "colab": {
          "base_uri": "https://localhost:8080/"
        },
        "id": "h2y6u4CbK1uq",
        "outputId": "06cb27fd-73cb-4c1d-bfb6-679933ba6425"
      },
      "source": [
        "all_data"
      ],
      "execution_count": null,
      "outputs": [
        {
          "output_type": "execute_result",
          "data": {
            "text/plain": [
              "Dataset({\n",
              "    features: ['path_in_folder', 'actual_text'],\n",
              "    num_rows: 1569\n",
              "})"
            ]
          },
          "metadata": {
            "tags": []
          },
          "execution_count": 19
        }
      ]
    },
    {
      "cell_type": "markdown",
      "metadata": {
        "id": "ldKIqSx8NaQN"
      },
      "source": [
        "Split into train(90%) and test set(10%) and set seed for reproducibility"
      ]
    },
    {
      "cell_type": "code",
      "metadata": {
        "id": "GKDqBCT-Nzxj"
      },
      "source": [
        "all_data = all_data.train_test_split(test_size=0.10,seed=2020)"
      ],
      "execution_count": null,
      "outputs": []
    },
    {
      "cell_type": "code",
      "metadata": {
        "colab": {
          "base_uri": "https://localhost:8080/"
        },
        "id": "QMHn4dMTOVbk",
        "outputId": "e8661fa9-f5fa-42c1-d7d5-6c2d9b0db9a3"
      },
      "source": [
        "all_data"
      ],
      "execution_count": null,
      "outputs": [
        {
          "output_type": "execute_result",
          "data": {
            "text/plain": [
              "DatasetDict({\n",
              "    train: Dataset({\n",
              "        features: ['path_in_folder', 'actual_text'],\n",
              "        num_rows: 1412\n",
              "    })\n",
              "    test: Dataset({\n",
              "        features: ['path_in_folder', 'actual_text'],\n",
              "        num_rows: 157\n",
              "    })\n",
              "})"
            ]
          },
          "metadata": {
            "tags": []
          },
          "execution_count": 21
        }
      ]
    },
    {
      "cell_type": "code",
      "metadata": {
        "id": "pFxmr93kOHIO"
      },
      "source": [
        "mr_train_dataset = all_data['train']\n",
        "mr_test_dataset = all_data['test']"
      ],
      "execution_count": null,
      "outputs": []
    },
    {
      "cell_type": "markdown",
      "metadata": {
        "id": "Go9Hq4e4NDT9"
      },
      "source": [
        "Let's write a short function to display some random samples of the dataset and run it a couple of times to get a feeling for the transcriptions."
      ]
    },
    {
      "cell_type": "code",
      "metadata": {
        "id": "72737oog2F6U"
      },
      "source": [
        "from datasets import ClassLabel\n",
        "import random\n",
        "import pandas as pd\n",
        "from IPython.display import display, HTML\n",
        "\n",
        "def show_random_elements(dataset, num_examples=10):\n",
        "    assert num_examples <= len(dataset), \"Can't pick more elements than there are in the dataset.\"\n",
        "    picks = []\n",
        "    for _ in range(num_examples):\n",
        "        pick = random.randint(0, len(dataset)-1)\n",
        "        while pick in picks:\n",
        "            pick = random.randint(0, len(dataset)-1)\n",
        "        picks.append(pick)\n",
        "    \n",
        "    df = pd.DataFrame(dataset[picks])\n",
        "    display(HTML(df.to_html()))"
      ],
      "execution_count": null,
      "outputs": []
    },
    {
      "cell_type": "code",
      "metadata": {
        "colab": {
          "base_uri": "https://localhost:8080/",
          "height": 1000
        },
        "id": "K_JUmf3G3b9S",
        "outputId": "56e37fee-13eb-4182-acec-3c367a722cac"
      },
      "source": [
        "show_random_elements(mr_train_dataset.remove_columns([\"path_in_folder\"]), num_examples=50)"
      ],
      "execution_count": null,
      "outputs": [
        {
          "output_type": "display_data",
          "data": {
            "text/html": [
              "<table border=\"1\" class=\"dataframe\">\n",
              "  <thead>\n",
              "    <tr style=\"text-align: right;\">\n",
              "      <th></th>\n",
              "      <th>actual_text</th>\n",
              "    </tr>\n",
              "  </thead>\n",
              "  <tbody>\n",
              "    <tr>\n",
              "      <th>0</th>\n",
              "      <td>अर्चना परवा कराचीमधे गेली होती तेव्हा तिथल्या एका रस्त्यावर तिला गॅरी कास्पारोव्हचा पुतळा दिसला</td>\n",
              "    </tr>\n",
              "    <tr>\n",
              "      <th>1</th>\n",
              "      <td>एकोणपन्नास दशांश नऊ नऊ डॉलरचे बेस्ट बायचे कॅमेरे गुगलवरून विकत घेता येतील</td>\n",
              "    </tr>\n",
              "    <tr>\n",
              "      <th>2</th>\n",
              "      <td>केतकीचा जन्म दोन हजार एक सालातील अश्विन ह्या महिन्यात गडचिरोली इथे झाला</td>\n",
              "    </tr>\n",
              "    <tr>\n",
              "      <th>3</th>\n",
              "      <td>मी तुम्हाला काय मदत करू शकते ?</td>\n",
              "    </tr>\n",
              "    <tr>\n",
              "      <th>4</th>\n",
              "      <td>अठराशे पंन्नास साली वैद्यकीचा अभ्यासक्रम पुरा करणाऱ्या पदवीधरांच्या पहिल्या तुकडीत ते होते</td>\n",
              "    </tr>\n",
              "    <tr>\n",
              "      <th>5</th>\n",
              "      <td>एवढा राग कशामुळे ?</td>\n",
              "    </tr>\n",
              "    <tr>\n",
              "      <th>6</th>\n",
              "      <td>अनुजाचा जन्म दोन हजार सोळा सालातील ऑक्टोबर या महिन्यात अकोला इथे झाला</td>\n",
              "    </tr>\n",
              "    <tr>\n",
              "      <th>7</th>\n",
              "      <td>अश्विनीचा जन्म दोन हजार एक सालातील कार्तिक या महिन्यात भुसावळ इथे झाला</td>\n",
              "    </tr>\n",
              "    <tr>\n",
              "      <th>8</th>\n",
              "      <td>अनुजाचा जन्म एकोणीसशे नव्व्याण्णव सालातील चैत्र ह्या महिन्यात कोरेगांव इथे झाला</td>\n",
              "    </tr>\n",
              "    <tr>\n",
              "      <th>9</th>\n",
              "      <td>गायत्री ह्या सुट्टीत हवानाला जाऊन तिथे चांगली आठ दिवस राहून अख्खं शहर पालथं घालणार आहे</td>\n",
              "    </tr>\n",
              "    <tr>\n",
              "      <th>10</th>\n",
              "      <td>एका डावात गोलंदाज एकापेक्षा जास्त षटके टाकू शकतो परंतु त्याला दोन षटके सलग टाकण्याची मुभा नसते</td>\n",
              "    </tr>\n",
              "    <tr>\n",
              "      <th>11</th>\n",
              "      <td>आकाशगंगा खरंच खूप सुंदर आहे</td>\n",
              "    </tr>\n",
              "    <tr>\n",
              "      <th>12</th>\n",
              "      <td>आपण जाणते अजाणतेपणी अशी काही कामं करतो की भविष्यात ती कामं आपल्यासमोर अडचणी बनून येतात</td>\n",
              "    </tr>\n",
              "    <tr>\n",
              "      <th>13</th>\n",
              "      <td>कानात साखर पडल्यासारखं वाटतंय</td>\n",
              "    </tr>\n",
              "    <tr>\n",
              "      <th>14</th>\n",
              "      <td>मस्त मी काय मदत करू शकतो ?</td>\n",
              "    </tr>\n",
              "    <tr>\n",
              "      <th>15</th>\n",
              "      <td>अनुजाचा जन्म दोन हजार वीस सालातील जून या महिन्यात मुर्तिजापूर इथे झाला</td>\n",
              "    </tr>\n",
              "    <tr>\n",
              "      <th>16</th>\n",
              "      <td>एकोणीसशे एक्क्याऐंशीमध्ये सूक्ष्मदर्शक यंत्राचा शोध लागला आणि त्यामुळे एकेका अणुचे निरिक्षण करणे शक्य झाले</td>\n",
              "    </tr>\n",
              "    <tr>\n",
              "      <th>17</th>\n",
              "      <td>एक बस वीस मिनिटांपूर्वी येऊन गेली आणि पुढची बस यायला अजून फक्त पस्तीस मिनिटं आहेत</td>\n",
              "    </tr>\n",
              "    <tr>\n",
              "      <th>18</th>\n",
              "      <td>अर्चना परवा डर्बनमध्ये गेली होती तेव्हा तिथल्या एका रस्त्यावर तिला व्लादिमिर पुतिनचा पुतळा दिसला</td>\n",
              "    </tr>\n",
              "    <tr>\n",
              "      <th>19</th>\n",
              "      <td>अनुजा परवा मंडालेमधे गेली होती तेव्हा तिथल्या एका रस्त्यावर तिला जॉर्ज क्लूनीचा पुतळा दिसला</td>\n",
              "    </tr>\n",
              "    <tr>\n",
              "      <th>20</th>\n",
              "      <td>उम्म्मम्म . मी तुमच्या भागात बेंटो बॉक्स शोधू शकते</td>\n",
              "    </tr>\n",
              "    <tr>\n",
              "      <th>21</th>\n",
              "      <td>एवढ्या कलाकृती आहेत की निवडणं कठीण आहे तुमचे आवडते चित्रकार कोणकोण आहेत ?</td>\n",
              "    </tr>\n",
              "    <tr>\n",
              "      <th>22</th>\n",
              "      <td>पहिलं अंतराळयान अंतराळात कधी सोडलं गेलं होतं ते तुम्हाला माहीत आहे का ?</td>\n",
              "    </tr>\n",
              "    <tr>\n",
              "      <th>23</th>\n",
              "      <td>अदितीचा जन्म एकोणीसशे अठ्ठ्याण्णव सालातील ऑगस्ट या महिन्यात पाटणा इथे झाला</td>\n",
              "    </tr>\n",
              "    <tr>\n",
              "      <th>24</th>\n",
              "      <td>आता एच डी एफ सी बँकेची अठरावी शाखा महात्मा ज्योतिबा फुले मंडईजवळ उघडते आहे परवा तिचा उद्घाटन समारंभ आहे</td>\n",
              "    </tr>\n",
              "    <tr>\n",
              "      <th>25</th>\n",
              "      <td>अकेडिया नॅशनल पार्क हे जगातल्या सर्वांत विलक्षण अशा नॅशनल पार्कांपैकी एक असून ते दोन हजार बारा साली नॅशनल पार्क म्हणून घोषित केले गेले</td>\n",
              "    </tr>\n",
              "    <tr>\n",
              "      <th>26</th>\n",
              "      <td>तुमच्या त्वचेला अनुरूप शेड कोणती ते तुम्हाला माहीत आहे का ?</td>\n",
              "    </tr>\n",
              "    <tr>\n",
              "      <th>27</th>\n",
              "      <td>अभिजीतने यावर्षी भरपूर अभ्यास केला अथक परिश्रम घेतले आणि वर्गात दहावा आला</td>\n",
              "    </tr>\n",
              "    <tr>\n",
              "      <th>28</th>\n",
              "      <td>मला फारसा अनुभव नाही . तुम्हाला माझ्याकडून काय मदत हवी आहे ?</td>\n",
              "    </tr>\n",
              "    <tr>\n",
              "      <th>29</th>\n",
              "      <td>आपण चॅट करू शकतो</td>\n",
              "    </tr>\n",
              "    <tr>\n",
              "      <th>30</th>\n",
              "      <td>एक बस वीस मिनिटांपूर्वी येऊन गेली आणि पुढची बस यायला अजून फक्त पाच सेकंदे आहेत</td>\n",
              "    </tr>\n",
              "    <tr>\n",
              "      <th>31</th>\n",
              "      <td>आगीतून पलायन , नारळ जिंकणे अशा स्पर्धा आजही शिमगा उत्सवात खेळल्या जातात</td>\n",
              "    </tr>\n",
              "    <tr>\n",
              "      <th>32</th>\n",
              "      <td>उदित नारायण एकदा मुंबई येथे गेले होते आणि त्यांनी तिथल्या काही महत्त्वाच्या व्यक्तींशी संवाद साधला होता</td>\n",
              "    </tr>\n",
              "    <tr>\n",
              "      <th>33</th>\n",
              "      <td>अश्विनीचा जन्म दोन हजार नऊ सालातील जुलै ह्या महिन्यात बोईसर इथे झाला</td>\n",
              "    </tr>\n",
              "    <tr>\n",
              "      <th>34</th>\n",
              "      <td>तुम्हालाही भेटून आनंद झाला मी तुम्हाला कशाप्रकारे मदत करू शकतो ?</td>\n",
              "    </tr>\n",
              "    <tr>\n",
              "      <th>35</th>\n",
              "      <td>आज हीथ्रोमधे किमान तापमान चोवीस अंश सेल्सिअस असेल असा अंदाज आहे</td>\n",
              "    </tr>\n",
              "    <tr>\n",
              "      <th>36</th>\n",
              "      <td>हो . तुम्हाला मला काय हाक मारायला आवडेल ?</td>\n",
              "    </tr>\n",
              "    <tr>\n",
              "      <th>37</th>\n",
              "      <td>आई वडिलांची सेवा त्यांनी त्यांच्या शेवटच्या क्षणापर्यंत केली</td>\n",
              "    </tr>\n",
              "    <tr>\n",
              "      <th>38</th>\n",
              "      <td>अर्थात . तुम्हालाही मी आवडत असेन याची खात्री आहे मला</td>\n",
              "    </tr>\n",
              "    <tr>\n",
              "      <th>39</th>\n",
              "      <td>आता ती छत्री कुठे आहे ?</td>\n",
              "    </tr>\n",
              "    <tr>\n",
              "      <th>40</th>\n",
              "      <td>गडावरून येतांना भाजे गावातील भाजे लेणी आवर्जून पहावीत</td>\n",
              "    </tr>\n",
              "    <tr>\n",
              "      <th>41</th>\n",
              "      <td>आपण कोडी घालू शकतो . चला , पाहुया तुम्हाला किती चित्रविचित्र गोष्टी माहीत आहेत ते !</td>\n",
              "    </tr>\n",
              "    <tr>\n",
              "      <th>42</th>\n",
              "      <td>एक बस वीस मिनिटांपूर्वी येऊन गेली आणि पुढची बस यायला अजून फक्त पाच सेकंदं आहेत</td>\n",
              "    </tr>\n",
              "    <tr>\n",
              "      <th>43</th>\n",
              "      <td>कांदिवली हे या मार्गावरील आठवे स्थानक असून येथे ट्रेन बराच वेळ थांबते</td>\n",
              "    </tr>\n",
              "    <tr>\n",
              "      <th>44</th>\n",
              "      <td>मी तुमच्यासाठी काय करू शकते ?</td>\n",
              "    </tr>\n",
              "    <tr>\n",
              "      <th>45</th>\n",
              "      <td>जीवशास्त्र अद्भुत आहे . खेकडीण आपल्या शेपटीत अंडी ठेवते हे तुम्हाला माहीत होतं का ?</td>\n",
              "    </tr>\n",
              "    <tr>\n",
              "      <th>46</th>\n",
              "      <td>आता अ‍ॅक्सिस बँकेची चौदावी शाखा महात्मा फुले मंडईजवळ उघडते आहे परवा तिचा उद्घाटन समारंभ आहे</td>\n",
              "    </tr>\n",
              "    <tr>\n",
              "      <th>47</th>\n",
              "      <td>आदित्यने गेल्या महिन्यात हे शिखर सर केले आणि तो या शिखरावर आपले पाय रोवणारा विसावा गिर्यारोहक बनला</td>\n",
              "    </tr>\n",
              "    <tr>\n",
              "      <th>48</th>\n",
              "      <td>कधीकधी मला ठाऊक नसलेल्या गोष्टी ठाऊक करून घेण्याचा प्रयत्न करते</td>\n",
              "    </tr>\n",
              "    <tr>\n",
              "      <th>49</th>\n",
              "      <td>अभिजीतनं यावर्षी भरपूर अभ्यास केला अथक परिश्रम घेतले आणि वर्गात पाचवा आला</td>\n",
              "    </tr>\n",
              "  </tbody>\n",
              "</table>"
            ],
            "text/plain": [
              "<IPython.core.display.HTML object>"
            ]
          },
          "metadata": {
            "tags": []
          }
        }
      ]
    },
    {
      "cell_type": "markdown",
      "metadata": {
        "id": "fowcOllGNNju"
      },
      "source": [
        "The transcriptions look fairly clean."
      ]
    },
    {
      "cell_type": "markdown",
      "metadata": {
        "id": "vq7OR50LN49m"
      },
      "source": [
        "We can see that the transcriptions contain some special characters, such as `,.?!;:`. Without a language model, it is much harder to classify speech chunks to such special characters because they don't really correspond to a characteristic sound unit. *E.g.*, the letter `\"s\"` has a more or less clear sound, whereas the special character `\".\"` does not.\n",
        "Also in order to understand the meaning of a speech signal, it is usually not necessary to include special characters in the transcription.\n",
        "\n",
        "In addition, we normalize the text to only have lower case letters and append a word separator token at the end."
      ]
    },
    {
      "cell_type": "code",
      "metadata": {
        "id": "svKzVJ_hQGK6"
      },
      "source": [
        "import re\n",
        "chars_to_ignore_regex = '[\\,\\?\\.\\!\\-\\;\\:\\\"\\“\\%\\‘\\”\\�]'\n",
        "\n",
        "def remove_special_characters(batch):\n",
        "    batch[\"actual_text\"] = re.sub(chars_to_ignore_regex, '', batch[\"actual_text\"]).lower() + \" \"\n",
        "    return batch"
      ],
      "execution_count": null,
      "outputs": []
    },
    {
      "cell_type": "code",
      "metadata": {
        "colab": {
          "base_uri": "https://localhost:8080/",
          "height": 115,
          "referenced_widgets": [
            "45f70222149c4341b3d3fd3ec5553c4e",
            "93275b69349840a19a40dbbddbfca1ae",
            "302f558a3f684352b62f9638103104ea",
            "312d02e6cc0947e9adc561d68c2d9727",
            "8038e02f3c8b4596b98dac6df4d6cdc6",
            "2ca0d55faa0c42ffaaf0c9cd0cbf234b",
            "b681b63a91414e6680debaa065a61df9",
            "b9b7c978a0c64137889c59314c76eae3",
            "6d3f41a402714f71b179b581c33d12c1",
            "40002cb7ceff4db6bbdac23fa1ce78d7",
            "9c3fb53572f94497807533e9388c55c3",
            "4aa37eac63ea470b8b6e57028e3ae003",
            "7125def5de4f4065a2717e9d6fd5bb6b",
            "a919fb5859fd48978726486a38265597",
            "4e48a71c73bb41a8bbc62cc445c0d10b",
            "bb780fc928cf41aea44e31837f50ef06"
          ]
        },
        "id": "XIHocAuTQbBR",
        "outputId": "28a3589c-281a-4db4-b81b-7d1990e9f88c"
      },
      "source": [
        "mr_train_dataset = mr_train_dataset.map(remove_special_characters)\n",
        "mr_test_dataset = mr_test_dataset.map(remove_special_characters)"
      ],
      "execution_count": null,
      "outputs": [
        {
          "output_type": "display_data",
          "data": {
            "application/vnd.jupyter.widget-view+json": {
              "model_id": "45f70222149c4341b3d3fd3ec5553c4e",
              "version_minor": 0,
              "version_major": 2
            },
            "text/plain": [
              "HBox(children=(FloatProgress(value=0.0, max=1412.0), HTML(value='')))"
            ]
          },
          "metadata": {
            "tags": []
          }
        },
        {
          "output_type": "stream",
          "text": [
            "\n"
          ],
          "name": "stdout"
        },
        {
          "output_type": "display_data",
          "data": {
            "application/vnd.jupyter.widget-view+json": {
              "model_id": "6d3f41a402714f71b179b581c33d12c1",
              "version_minor": 0,
              "version_major": 2
            },
            "text/plain": [
              "HBox(children=(FloatProgress(value=0.0, max=157.0), HTML(value='')))"
            ]
          },
          "metadata": {
            "tags": []
          }
        },
        {
          "output_type": "stream",
          "text": [
            "\n"
          ],
          "name": "stdout"
        }
      ]
    },
    {
      "cell_type": "code",
      "metadata": {
        "colab": {
          "base_uri": "https://localhost:8080/",
          "height": 359
        },
        "id": "RBDRAAYxRE6n",
        "outputId": "4377fd00-a60e-499b-82f6-e03b2138c312"
      },
      "source": [
        "show_random_elements(mr_train_dataset.remove_columns([\"path_in_folder\"]))"
      ],
      "execution_count": null,
      "outputs": [
        {
          "output_type": "display_data",
          "data": {
            "text/html": [
              "<table border=\"1\" class=\"dataframe\">\n",
              "  <thead>\n",
              "    <tr style=\"text-align: right;\">\n",
              "      <th></th>\n",
              "      <th>actual_text</th>\n",
              "    </tr>\n",
              "  </thead>\n",
              "  <tbody>\n",
              "    <tr>\n",
              "      <th>0</th>\n",
              "      <td>आता अ‍ॅक्सिस बँकेची सोळावी शाखा फॅशन स्ट्रीटजवळ उघडते आहे परवा तिचा उद्घाटन समारंभ आहे</td>\n",
              "    </tr>\n",
              "    <tr>\n",
              "      <th>1</th>\n",
              "      <td>एक बस दहा तासांपूर्वी येऊन गेली आणि पुढची बस यायला अजून फक्त साठ मिनिटं आहेत</td>\n",
              "    </tr>\n",
              "    <tr>\n",
              "      <th>2</th>\n",
              "      <td>गायत्री परवा प्रागमध्ये गेली होती तेव्हा तिथल्या एका रस्त्यावर तिला केनी रॉजर्सचा पुतळा दिसला</td>\n",
              "    </tr>\n",
              "    <tr>\n",
              "      <th>3</th>\n",
              "      <td>कुसुमाग्रजांच्या मते लेखक हा सुसंस्कृत मनुष्य असतो</td>\n",
              "    </tr>\n",
              "    <tr>\n",
              "      <th>4</th>\n",
              "      <td>अश्विनीचा जन्म दोन हजार तेरा सालातील ऑक्टोबर ह्या महिन्यात बुलढाणा इथे झाला</td>\n",
              "    </tr>\n",
              "    <tr>\n",
              "      <th>5</th>\n",
              "      <td>आता अ‍ॅक्सिस बँकेची आठवी शाखा महात्मा फुले मंडईजवळ उघडते आहे परवा तिचा उद्घाटन समारंभ आहे</td>\n",
              "    </tr>\n",
              "    <tr>\n",
              "      <th>6</th>\n",
              "      <td>कदाचित मला काही मदत करता येईल</td>\n",
              "    </tr>\n",
              "    <tr>\n",
              "      <th>7</th>\n",
              "      <td>एक बस बारा तासांपूर्वी येऊन गेली आणि पुढची बस यायला अजून फक्त दोन सेकंदं आहेत</td>\n",
              "    </tr>\n",
              "    <tr>\n",
              "      <th>8</th>\n",
              "      <td>मी तुमच्यासाठी शोध घेऊ शकतो  तुम्हाला काय जाणून घ्यायचं आहे</td>\n",
              "    </tr>\n",
              "    <tr>\n",
              "      <th>9</th>\n",
              "      <td>अर्चना परवा अलेक्झांड्रियामध्ये गेली होती तेव्हा तिथल्या एका रस्त्यावर तिला मायकेल जॅक्सनचा पुतळा दिसला</td>\n",
              "    </tr>\n",
              "  </tbody>\n",
              "</table>"
            ],
            "text/plain": [
              "<IPython.core.display.HTML object>"
            ]
          },
          "metadata": {
            "tags": []
          }
        }
      ]
    },
    {
      "cell_type": "markdown",
      "metadata": {
        "id": "jwfaptH5RJwA"
      },
      "source": [
        " We have removed most special characters from transcriptions and normalized them to lower-case only.\n",
        "\n",
        "In CTC, it is common to classify speech chunks into letters, so we will do the same here. \n",
        "Let's extract all distinct letters of the training and test data and build our vocabulary from this set of letters.\n",
        "\n",
        "We write a mapping function that concatenates all transcriptions into one long transcription and then transforms the string into a set of chars. \n",
        "It is important to pass the argument `batched=True` to the `map(...)` function so that the mapping function has access to all transcriptions at once."
      ]
    },
    {
      "cell_type": "code",
      "metadata": {
        "id": "LwCshNbbeRZR"
      },
      "source": [
        "def extract_all_chars(batch):\n",
        "  all_text = \" \".join(batch[\"actual_text\"])\n",
        "  vocab = list(set(all_text))\n",
        "  return {\"vocab\": [vocab], \"all_text\": [all_text]}"
      ],
      "execution_count": null,
      "outputs": []
    },
    {
      "cell_type": "code",
      "metadata": {
        "colab": {
          "base_uri": "https://localhost:8080/",
          "height": 115,
          "referenced_widgets": [
            "62fa8e3a3bd9425ea7219eb0abeefbaa",
            "2c1fb076ee1d4d56bb62c3dcda6f1530",
            "b7975515a5ed4ccf925586bf0ace4af5",
            "05fb4f7c9bda467db1657d48f8c44b72",
            "18804fcc6ade4d998c6444fbf59ed34d",
            "96cd812a98f14d8ab6190660a74ec16a",
            "8f6cf040571d44e68457e394673d7aa8",
            "765db6b80b9b47c6af4ee5a6ed3fd88b",
            "f34e3d15e221479a9baea3bd9de98d7e",
            "a5f809e15ce84f40a1c049154895ebd5",
            "394aa6e86dc54c10a2b69e35778ebbcb",
            "1c199da882324aa4a5d8ef96922253e5",
            "8e280874b1d24a8cbff8f74849b9bb41",
            "0e1fdf9db7354a11a990a074f2aaaf73",
            "58969eb4b4f94b3390a1a8dbd68e6823",
            "38a7c67277174a7db4513015f36ff95d"
          ]
        },
        "id": "_m6uUjjcfbjH",
        "outputId": "2e937f7b-312f-4c90-daf3-4364815408b2"
      },
      "source": [
        "vocab_train = mr_train_dataset.map(extract_all_chars, batched=True, batch_size=-1, keep_in_memory=True, remove_columns=mr_train_dataset.column_names)\n",
        "vocab_test = mr_test_dataset.map(extract_all_chars, batched=True, batch_size=-1, keep_in_memory=True, remove_columns=mr_test_dataset.column_names)"
      ],
      "execution_count": null,
      "outputs": [
        {
          "output_type": "display_data",
          "data": {
            "application/vnd.jupyter.widget-view+json": {
              "model_id": "62fa8e3a3bd9425ea7219eb0abeefbaa",
              "version_minor": 0,
              "version_major": 2
            },
            "text/plain": [
              "HBox(children=(FloatProgress(value=0.0, max=1.0), HTML(value='')))"
            ]
          },
          "metadata": {
            "tags": []
          }
        },
        {
          "output_type": "stream",
          "text": [
            "\n"
          ],
          "name": "stdout"
        },
        {
          "output_type": "display_data",
          "data": {
            "application/vnd.jupyter.widget-view+json": {
              "model_id": "f34e3d15e221479a9baea3bd9de98d7e",
              "version_minor": 0,
              "version_major": 2
            },
            "text/plain": [
              "HBox(children=(FloatProgress(value=0.0, max=1.0), HTML(value='')))"
            ]
          },
          "metadata": {
            "tags": []
          }
        },
        {
          "output_type": "stream",
          "text": [
            "\n"
          ],
          "name": "stdout"
        }
      ]
    },
    {
      "cell_type": "code",
      "metadata": {
        "colab": {
          "base_uri": "https://localhost:8080/"
        },
        "id": "HCq1K3uWYCmE",
        "outputId": "fffcfe1f-2636-4421-e2cf-c4cbf1d1ed85"
      },
      "source": [
        "vocab_train.data"
      ],
      "execution_count": null,
      "outputs": [
        {
          "output_type": "execute_result",
          "data": {
            "text/plain": [
              "pyarrow.Table\n",
              "all_text: string\n",
              "vocab: list<item: string>\n",
              "  child 0, item: string"
            ]
          },
          "metadata": {
            "tags": []
          },
          "execution_count": 30
        }
      ]
    },
    {
      "cell_type": "markdown",
      "metadata": {
        "id": "7oVgE8RZSJNP"
      },
      "source": [
        "Now, we create the union of all distinct letters in the training dataset and test dataset and convert the resulting list into an enumerated dictionary."
      ]
    },
    {
      "cell_type": "code",
      "metadata": {
        "id": "aQfneNsmlJI0"
      },
      "source": [
        "vocab_list = list(set(vocab_train[\"vocab\"][0]) | set(vocab_test[\"vocab\"][0]))"
      ],
      "execution_count": null,
      "outputs": []
    },
    {
      "cell_type": "code",
      "metadata": {
        "colab": {
          "base_uri": "https://localhost:8080/"
        },
        "id": "_0kRndSvqaKk",
        "outputId": "3cc2db94-c1a7-4f1d-cf9d-9890657bcc9e"
      },
      "source": [
        "vocab_dict = {v: k for k, v in enumerate(vocab_list)}\n",
        "vocab_dict"
      ],
      "execution_count": null,
      "outputs": [
        {
          "output_type": "execute_result",
          "data": {
            "text/plain": [
              "{' ': 63,\n",
              " 'ँ': 29,\n",
              " 'ं': 18,\n",
              " 'ः': 3,\n",
              " 'अ': 5,\n",
              " 'आ': 39,\n",
              " 'इ': 40,\n",
              " 'ई': 8,\n",
              " 'उ': 59,\n",
              " 'ऊ': 28,\n",
              " 'ऋ': 33,\n",
              " 'ए': 56,\n",
              " 'ऐ': 4,\n",
              " 'ऑ': 53,\n",
              " 'ओ': 23,\n",
              " 'औ': 38,\n",
              " 'क': 1,\n",
              " 'ख': 2,\n",
              " 'ग': 31,\n",
              " 'घ': 9,\n",
              " 'च': 55,\n",
              " 'छ': 36,\n",
              " 'ज': 60,\n",
              " 'झ': 61,\n",
              " 'ञ': 17,\n",
              " 'ट': 64,\n",
              " 'ठ': 45,\n",
              " 'ड': 34,\n",
              " 'ढ': 26,\n",
              " 'ण': 10,\n",
              " 'त': 54,\n",
              " 'थ': 6,\n",
              " 'द': 51,\n",
              " 'ध': 44,\n",
              " 'न': 48,\n",
              " 'प': 35,\n",
              " 'फ': 52,\n",
              " 'ब': 7,\n",
              " 'भ': 43,\n",
              " 'म': 25,\n",
              " 'य': 42,\n",
              " 'र': 15,\n",
              " 'ऱ': 24,\n",
              " 'ल': 49,\n",
              " 'ळ': 27,\n",
              " 'व': 20,\n",
              " 'श': 50,\n",
              " 'ष': 19,\n",
              " 'स': 16,\n",
              " 'ह': 57,\n",
              " 'ा': 11,\n",
              " 'ि': 12,\n",
              " 'ी': 0,\n",
              " 'ु': 62,\n",
              " 'ू': 46,\n",
              " 'ृ': 30,\n",
              " 'ॅ': 21,\n",
              " 'े': 13,\n",
              " 'ै': 47,\n",
              " 'ॉ': 58,\n",
              " 'ो': 41,\n",
              " 'ौ': 14,\n",
              " '्': 32,\n",
              " 'ॲ': 65,\n",
              " '\\u200c': 22,\n",
              " '\\u200d': 37}"
            ]
          },
          "metadata": {
            "tags": []
          },
          "execution_count": 32
        }
      ]
    },
    {
      "cell_type": "code",
      "metadata": {
        "colab": {
          "base_uri": "https://localhost:8080/"
        },
        "id": "watRKDWGZ_ND",
        "outputId": "c4fec151-518c-4c9f-8310-2dfaccea4171"
      },
      "source": [
        "len(vocab_dict)"
      ],
      "execution_count": null,
      "outputs": [
        {
          "output_type": "execute_result",
          "data": {
            "text/plain": [
              "66"
            ]
          },
          "metadata": {
            "tags": []
          },
          "execution_count": 33
        }
      ]
    },
    {
      "cell_type": "markdown",
      "metadata": {
        "id": "JOSzbvs9SXT1"
      },
      "source": [
        "Cool, we see that all letters of the alphabet occur in the dataset (which is not really surprising) and we also extracted some special characters. Note that we did not exclude all special characters because: \n",
        "\n",
        "- The model has to learn to predict when a word is finished or else the model prediction would always be a sequence of chars which would make it impossible to separate words from each other.\n",
        "- You can also experiment with schwa deletion and retention rules for marathi"
      ]
    },
    {
      "cell_type": "markdown",
      "metadata": {
        "id": "b1fBRCn-TRaO"
      },
      "source": [
        "To make it clearer that `\" \"` has its own token class, we give it a more visible character `|`. In addition, we also add an \"unknown\" token so that the model can later deal with characters not encountered in Common Voice's training set. \n",
        "\n",
        "Finally, we also add a padding token that corresponds to CTC's \"*blank token*\". The \"blank token\" is a core component of the CTC algorithm. For more information, please take a look at the \"Alignment\" section [here](https://distill.pub/2017/ctc/)."
      ]
    },
    {
      "cell_type": "code",
      "metadata": {
        "id": "npbIbBoLgaFX"
      },
      "source": [
        "vocab_dict[\"|\"] = vocab_dict[\" \"]\n",
        "del vocab_dict[\" \"]"
      ],
      "execution_count": null,
      "outputs": []
    },
    {
      "cell_type": "code",
      "metadata": {
        "id": "znF0bNunsjbl",
        "colab": {
          "base_uri": "https://localhost:8080/"
        },
        "outputId": "118f332b-bf46-48cd-e3c0-edf00440ce6e"
      },
      "source": [
        "vocab_dict[\"[UNK]\"] = len(vocab_dict)\n",
        "vocab_dict[\"[PAD]\"] = len(vocab_dict)\n",
        "len(vocab_dict)"
      ],
      "execution_count": null,
      "outputs": [
        {
          "output_type": "execute_result",
          "data": {
            "text/plain": [
              "68"
            ]
          },
          "metadata": {
            "tags": []
          },
          "execution_count": 35
        }
      ]
    },
    {
      "cell_type": "markdown",
      "metadata": {
        "id": "SFPGfet8U5sL"
      },
      "source": [
        "Cool, now our vocabulary is complete and consists of 68 tokens, which means that the linear layer that we will add on top of the pretrained XLSR-Wav2Vec2 checkpoint will have an output dimension of 68."
      ]
    },
    {
      "cell_type": "markdown",
      "metadata": {
        "id": "1CujRgBNVRaD"
      },
      "source": [
        "Let's now save the vocabulary as a json file."
      ]
    },
    {
      "cell_type": "code",
      "metadata": {
        "id": "ehyUoh9vk191"
      },
      "source": [
        "import json\n",
        "with open('vocab.json', 'w') as vocab_file:\n",
        "    json.dump(vocab_dict, vocab_file)"
      ],
      "execution_count": null,
      "outputs": []
    },
    {
      "cell_type": "markdown",
      "metadata": {
        "id": "SHJDaKlIVVim"
      },
      "source": [
        "In a final step, we use the json file to instantiate an object of the `Wav2Vec2CTCTokenizer` class."
      ]
    },
    {
      "cell_type": "code",
      "metadata": {
        "id": "xriFGEWQkO4M"
      },
      "source": [
        "from transformers import Wav2Vec2CTCTokenizer\n",
        "\n",
        "tokenizer = Wav2Vec2CTCTokenizer(\"./vocab.json\", unk_token=\"[UNK]\", pad_token=\"[PAD]\", word_delimiter_token=\"|\")"
      ],
      "execution_count": null,
      "outputs": []
    },
    {
      "cell_type": "markdown",
      "metadata": {
        "id": "KvL12DrNV4cx"
      },
      "source": [
        "Next, we will create the feature extractor."
      ]
    },
    {
      "cell_type": "markdown",
      "metadata": {
        "id": "mYcIiR2FQ96i"
      },
      "source": [
        "### Create XLSR-Wav2Vec2 Feature Extractor"
      ]
    },
    {
      "cell_type": "markdown",
      "metadata": {
        "id": "Y6mDEyW719rx"
      },
      "source": [
        "Speech is a continuous signal and to be treated by computers, it first has to be discretized, which is usually called **sampling**. The sampling rate hereby plays an important role in that it defines how many data points of the speech signal are measured per second. Therefore, sampling with a higher sampling rate results in a better approximation of the *real* speech signal but also necessitates more values per second.\n",
        "\n",
        "A pretrained checkpoint expects its input data to have been sampled more or less from the same distribution as the data it was trained on. The same speech signals sampled at two different rates have a very different distribution, *e.g.*, doubling the sampling rate results in data points being twice as long. Thus, \n",
        "before fine-tuning a pretrained checkpoint of an ASR model, it is crucial to verify that the sampling rate of the data that was used to pretrain the model matches the sampling rate of the dataset used to fine-tune the model.\n",
        "\n",
        "XLSR-Wav2Vec2 was pretrained on the audio data of [Babel](https://huggingface.co/datasets/librispeech_asr), \n",
        "[Multilingual LibriSpeech (MLS)](https://ai.facebook.com/blog/a-new-open-data-set-for-multilingual-speech-research/), and [Common Voice](https://huggingface.co/datasets/common_voice). Most of those datasets were sampled at 16kHz, so that Open SLR, sampled at 48kHz, has to be downsampled to 16kHz for training. Therefore, we will have to downsample our fine-tuning data to 16kHz in the following.\n",
        "\n"
      ]
    },
    {
      "cell_type": "markdown",
      "metadata": {
        "id": "KuUbPW7oV-B5"
      },
      "source": [
        "A XLSR-Wav2Vec2 feature extractor object requires the following parameters to be instantiated:\n",
        "\n",
        "- `feature_size`: Speech models take a sequence of feature vectors as an input. While the length of this sequence obviously varies, the feature size should not. In the case of Wav2Vec2, the feature size is 1 because the model was trained on the raw speech signal ${}^2$.\n",
        "- `sampling_rate`: The sampling rate at which the model is trained on.\n",
        "- `padding_value`: For batched inference, shorter inputs need to be padded with a specific value\n",
        "- `do_normalize`: Whether the input should be *zero-mean-unit-variance* normalized or not. Usually, speech models perform better when normalizing the input\n",
        "- `return_attention_mask`: Whether the model should make use of an `attention_mask` for batched inference. In general, XLSR-Wav2Vec2 models should **always** make use of the `attention_mask`."
      ]
    },
    {
      "cell_type": "code",
      "metadata": {
        "id": "kAR0-2KLkopp"
      },
      "source": [
        "from transformers import Wav2Vec2FeatureExtractor\n",
        "\n",
        "feature_extractor = Wav2Vec2FeatureExtractor(feature_size=1, sampling_rate=16000, padding_value=0.0, do_normalize=True, return_attention_mask=True)"
      ],
      "execution_count": null,
      "outputs": []
    },
    {
      "cell_type": "markdown",
      "metadata": {
        "id": "qUETetgqYC3W"
      },
      "source": [
        "Great, XLSR-Wav2Vec2's feature extraction pipeline is thereby fully defined!\n",
        "\n",
        "To make the usage of XLSR-Wav2Vec2 as user-friendly as possible, the feature extractor and tokenizer are *wrapped* into a single `Wav2Vec2Processor` class so that one only needs a `model` and `processor` object."
      ]
    },
    {
      "cell_type": "code",
      "metadata": {
        "id": "KYZtoW-tlZgl"
      },
      "source": [
        "from transformers import Wav2Vec2Processor\n",
        "\n",
        "processor = Wav2Vec2Processor(feature_extractor=feature_extractor, tokenizer=tokenizer)"
      ],
      "execution_count": null,
      "outputs": []
    },
    {
      "cell_type": "markdown",
      "metadata": {
        "id": "fTfFDSS0YfMN"
      },
      "source": [
        "\n",
        "We will give the fine-tuned model the name `\"wav2vec2-large-xlsr-marathi\"`."
      ]
    },
    {
      "cell_type": "code",
      "metadata": {
        "id": "Par9rpypPsml"
      },
      "source": [
        "processor.save_pretrained(\"/content/gdrive/MyDrive/wav2vec2-large-xlsr-marathi\")"
      ],
      "execution_count": null,
      "outputs": []
    },
    {
      "cell_type": "markdown",
      "metadata": {
        "id": "DrKnYuvDIoOO"
      },
      "source": [
        "Next, we can prepare the dataset."
      ]
    },
    {
      "cell_type": "markdown",
      "metadata": {
        "id": "YFmShnl7RE35"
      },
      "source": [
        "### Preprocess Data\n",
        "\n",
        "So far, we have not looked at the actual values of the speech signal but just kept the path to its file in the dataset. `XLSR-Wav2Vec2` expects the audio file in the format of a 1-dimensional array, so in the first step, let's load all audio files into the dataset object.\n",
        "\n",
        "Let's first check the serialization format of the downloaded audio files by looking at the first training sample."
      ]
    },
    {
      "cell_type": "code",
      "metadata": {
        "colab": {
          "base_uri": "https://localhost:8080/"
        },
        "id": "TTCS7W6XJ9BG",
        "outputId": "e7b5d637-d316-424a-e797-f43d32ccab44"
      },
      "source": [
        "mr_train_dataset[0]"
      ],
      "execution_count": null,
      "outputs": [
        {
          "output_type": "execute_result",
          "data": {
            "text/plain": [
              "{'actual_text': 'अफगाणिस्तानने सराव सामना सहासष्ट धावांनी जिंकला ',\n",
              " 'path_in_folder': '/content/gdrive/MyDrive/OpenSLR-64_Marathi/mr_in_female/mrt_04310_01900128283.wav'}"
            ]
          },
          "metadata": {
            "tags": []
          },
          "execution_count": 41
        }
      ]
    },
    {
      "cell_type": "markdown",
      "metadata": {
        "id": "wSBIGEiaKHMn"
      },
      "source": [
        "The audio file is saved in the `.wav` format. We found that the [`torchaudio`](https://pytorch.org/audio/stable/index.html) library works best for reading in `.wav` data. \n",
        "\n",
        "An audio file usually stores both its values and the sampling rate with which the speech signal was digitalized. We want to store both in the dataset and write a `map(...)` function accordingly."
      ]
    },
    {
      "cell_type": "code",
      "metadata": {
        "id": "al9Luo4LPpwJ"
      },
      "source": [
        "import torchaudio\n",
        "\n",
        "def speech_file_to_array_fn(batch):\n",
        "    speech_array, sampling_rate = torchaudio.load(batch[\"path_in_folder\"])\n",
        "    batch[\"speech\"] = speech_array[0].numpy()\n",
        "    batch[\"sampling_rate\"] = sampling_rate\n",
        "    batch[\"target_text\"] = batch[\"actual_text\"]\n",
        "    return batch"
      ],
      "execution_count": null,
      "outputs": []
    },
    {
      "cell_type": "code",
      "metadata": {
        "colab": {
          "base_uri": "https://localhost:8080/",
          "height": 115,
          "referenced_widgets": [
            "65d95832c0ab41259218a1366b7ea4ea",
            "636bd030349d4cb59e0a194d558402ad",
            "d5e5b05ede59466090bdb12dac7490e1",
            "d1797e0cfd814316a6ba1e0a082a0359",
            "d4588907d7984a4cb0ffb6696d9b79d7",
            "fd79841e60724726b2ea736ceea21653",
            "78f0f5799d414eec80569c8fcbaec318",
            "88d4dca283774b54a03cbec8905c0ad4",
            "c5cbb076d621417bbbe0dfd0e232dd3e",
            "044675f769df4755a6c5f919b3637177",
            "d8f5a52ddbfb41a5bad5eded5e5be26f",
            "f07e6d0243ae4ecba437cfed6f55f0f3",
            "7737771a59dd469cafc75161b8d31292",
            "f4302283057e431b84a58e597f14fe1a",
            "2b4dbce7bacf4f3781581642736a7078",
            "7667bae6e3a842dfa84da98875dec08f"
          ]
        },
        "id": "afeicUeWlrRL",
        "outputId": "08ed39d9-4e96-481c-c920-b93a040bc561"
      },
      "source": [
        "mr_train_dataset = mr_train_dataset.map(speech_file_to_array_fn, remove_columns=mr_train_dataset.column_names)\n",
        "mr_test_dataset = mr_test_dataset.map(speech_file_to_array_fn, remove_columns=mr_test_dataset.column_names)"
      ],
      "execution_count": null,
      "outputs": [
        {
          "output_type": "display_data",
          "data": {
            "application/vnd.jupyter.widget-view+json": {
              "model_id": "65d95832c0ab41259218a1366b7ea4ea",
              "version_minor": 0,
              "version_major": 2
            },
            "text/plain": [
              "HBox(children=(FloatProgress(value=0.0, max=1412.0), HTML(value='')))"
            ]
          },
          "metadata": {
            "tags": []
          }
        },
        {
          "output_type": "stream",
          "text": [
            "\n"
          ],
          "name": "stdout"
        },
        {
          "output_type": "display_data",
          "data": {
            "application/vnd.jupyter.widget-view+json": {
              "model_id": "c5cbb076d621417bbbe0dfd0e232dd3e",
              "version_minor": 0,
              "version_major": 2
            },
            "text/plain": [
              "HBox(children=(FloatProgress(value=0.0, max=157.0), HTML(value='')))"
            ]
          },
          "metadata": {
            "tags": []
          }
        },
        {
          "output_type": "stream",
          "text": [
            "\n"
          ],
          "name": "stdout"
        }
      ]
    },
    {
      "cell_type": "markdown",
      "metadata": {
        "id": "ki5sXmzucc9Q"
      },
      "source": [
        "We've successfully read in all the audio files, but since we know that Open SLR-64 is sampled at 48kHz, we need to resample the audio files to 16kHz. \n",
        "\n",
        "Let's make use of the [`librosa`](https://github.com/librosa/librosa) library to downsample the data."
      ]
    },
    {
      "cell_type": "code",
      "metadata": {
        "id": "6Y6AK3Z-kHwP"
      },
      "source": [
        "import librosa\n",
        "import numpy as np\n",
        "\n",
        "def resample(batch):\n",
        "    batch[\"speech\"] = librosa.resample(np.asarray(batch[\"speech\"]), 48_000, 16_000)\n",
        "    batch[\"sampling_rate\"] = 16_000\n",
        "    return batch"
      ],
      "execution_count": null,
      "outputs": []
    },
    {
      "cell_type": "code",
      "metadata": {
        "id": "Ws8DyIL_kjwT"
      },
      "source": [
        "# mr_train_dataset = mr_train_dataset.map(resample, num_proc=4)\n",
        "# mr_test_dataset = mr_test_dataset.map(resample, num_proc=4)\n",
        "#not using multiple processes #known bug hf datasets as it defaults to joblib"
      ],
      "execution_count": null,
      "outputs": []
    },
    {
      "cell_type": "code",
      "metadata": {
        "colab": {
          "base_uri": "https://localhost:8080/",
          "height": 115,
          "referenced_widgets": [
            "4c4a35bc3d9b487086e7af4281c8d3d6",
            "af9b873d3b1845509296492c12472c76",
            "dae31849fc64452e8adc502320914360",
            "85d0d2bd2539476b92979768b08f68b8",
            "2a94949a09f14f29b9d87aa2a89e953e",
            "979782a20e11497591a10d62f78c6a5f",
            "16c05c91351c465cbfe32e9cc9e6f875",
            "641602d926414de396bc3e9c119ea1f1",
            "b4f9dcde20184c8bb4c017235a7606a3",
            "ffd1641072c54afe9e3ea9d289ac0006",
            "f9fcb756bf2c402694dfbe67bafbec21",
            "9c9f3e6b3fb04708bed95a673a2c2a47",
            "431da6593bc24de3addfdfbd384c5500",
            "0e0f3cea89f54cc698d3160f894617b5",
            "149d8b4e9d4045229cb5a48888338b9f",
            "7bf74f6f420d43ce97a7147165d226f5"
          ]
        },
        "id": "A9BuuNXuYpv-",
        "outputId": "64ac473e-062b-4163-8046-77acd1309b4d"
      },
      "source": [
        "mr_train_dataset = mr_train_dataset.map(resample, num_proc=1)\n",
        "mr_test_dataset = mr_test_dataset.map(resample, num_proc=1)"
      ],
      "execution_count": null,
      "outputs": [
        {
          "output_type": "display_data",
          "data": {
            "application/vnd.jupyter.widget-view+json": {
              "model_id": "4c4a35bc3d9b487086e7af4281c8d3d6",
              "version_minor": 0,
              "version_major": 2
            },
            "text/plain": [
              "HBox(children=(FloatProgress(value=0.0, max=1412.0), HTML(value='')))"
            ]
          },
          "metadata": {
            "tags": []
          }
        },
        {
          "output_type": "stream",
          "text": [
            "\n"
          ],
          "name": "stdout"
        },
        {
          "output_type": "display_data",
          "data": {
            "application/vnd.jupyter.widget-view+json": {
              "model_id": "b4f9dcde20184c8bb4c017235a7606a3",
              "version_minor": 0,
              "version_major": 2
            },
            "text/plain": [
              "HBox(children=(FloatProgress(value=0.0, max=157.0), HTML(value='')))"
            ]
          },
          "metadata": {
            "tags": []
          }
        },
        {
          "output_type": "stream",
          "text": [
            "\n"
          ],
          "name": "stdout"
        }
      ]
    },
    {
      "cell_type": "markdown",
      "metadata": {
        "id": "SOckzFd4Mbzq"
      },
      "source": [
        "Let's listen to a couple of audio files to better understand the dataset and verify that the audio was correctly loaded. \n",
        "\n",
        "**Note**: *You can click the following cell a couple of times to listen to different speech samples.*"
      ]
    },
    {
      "cell_type": "code",
      "metadata": {
        "colab": {
          "base_uri": "https://localhost:8080/",
          "height": 75
        },
        "id": "dueM6U7Ev0OA",
        "outputId": "12ae497b-a1a1-4135-ed98-8a15205ae8c7"
      },
      "source": [
        "import IPython.display as ipd\n",
        "import numpy as np\n",
        "import random\n",
        "\n",
        "rand_int = random.randint(0, len(mr_train_dataset)-1)\n",
        "\n",
        "ipd.Audio(data=np.asarray(mr_train_dataset[rand_int][\"speech\"]), autoplay=True, rate=16000)"
      ],
      "execution_count": null,
      "outputs": [
        {
          "output_type": "execute_result",
          "data": {
            "text/html": [
              "\n",
              "                <audio controls=\"controls\" autoplay=\"autoplay\">\n",
              "                    <source src=\"data:audio/wav;base64,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\" type=\"audio/wav\" />\n",
              "                    Your browser does not support the audio element.\n",
              "                </audio>\n",
              "              "
            ],
            "text/plain": [
              "<IPython.lib.display.Audio object>"
            ]
          },
          "metadata": {
            "tags": []
          },
          "execution_count": 47
        }
      ]
    },
    {
      "cell_type": "markdown",
      "metadata": {
        "id": "1MaL9J2dNVtG"
      },
      "source": [
        "It can be heard, that the speakers are all females and they change along with their speaking rate, accent, and background environment, etc. Overall, the recordings sound acceptably clear though, which is to be expected from a crowd-sourced read speech corpus.\n",
        "\n",
        "Let's do a final check that the data is correctly prepared, by printing the shape of the speech input, its transcription, and the corresponding sampling rate.\n",
        "\n",
        "**Note**: *You can click the following cell a couple of times to verify multiple samples.*"
      ]
    },
    {
      "cell_type": "code",
      "metadata": {
        "colab": {
          "base_uri": "https://localhost:8080/"
        },
        "id": "1Po2g7YPuRTx",
        "outputId": "3701c150-fac2-449e-d7ae-e2a0f37e1369"
      },
      "source": [
        "rand_int = random.randint(0, len(mr_train_dataset)-1)\n",
        "\n",
        "print(\"Target text:\", mr_train_dataset[rand_int][\"target_text\"])\n",
        "print(\"Input array shape:\", np.asarray(mr_train_dataset[rand_int][\"speech\"]).shape)\n",
        "print(\"Sampling rate:\", mr_train_dataset[rand_int][\"sampling_rate\"])"
      ],
      "execution_count": null,
      "outputs": [
        {
          "output_type": "stream",
          "text": [
            "Target text: एक बस चार तासांपूर्वी येऊन गेली आणि पुढची बस यायला अजून फक्त साठ मिनिटं आहेत \n",
            "Input array shape: (124831,)\n",
            "Sampling rate: 16000\n"
          ],
          "name": "stdout"
        }
      ]
    },
    {
      "cell_type": "markdown",
      "metadata": {
        "id": "M9teZcSwOBJ4"
      },
      "source": [
        "The data is a 1-dimensional array, the sampling rate always corresponds to 16kHz, and the target text is normalized."
      ]
    },
    {
      "cell_type": "markdown",
      "metadata": {
        "id": "k3Pbn5WvOYZF"
      },
      "source": [
        "Finally, we can process the dataset to the format expected by the model for training. We will again make use of the `map(...)` function.\n",
        "\n",
        "First, we check that the data samples have the same sampling rate of 16kHz.\n",
        "Second, we extract the `input_values` from the loaded audio file. In our case, this includes only normalization, but for other speech models, this step could correspond to extracting, *e.g.* [Log-Mel features](https://en.wikipedia.org/wiki/Mel-frequency_cepstrum). \n",
        "Third, we encode the transcriptions to label ids.\n",
        "\n",
        "**Note**: This mapping function is a good example of how the `Wav2Vec2Processor` class should be used. In \"normal\" context, calling `processor(...)` is redirected to `Wav2Vec2FeatureExtractor`'s call method. When wrapping the processor into the `as_target_processor` context, however, the same method is redirected to `Wav2Vec2CTCTokenizer`'s call method.\n",
        "For more information please check the [docs](https://huggingface.co/transformers/master/model_doc/wav2vec2.html#transformers.Wav2Vec2Processor.__call__)."
      ]
    },
    {
      "cell_type": "code",
      "metadata": {
        "id": "eJY7I0XAwe9p"
      },
      "source": [
        "def prepare_dataset(batch):\n",
        "    # check that all files have the correct sampling rate\n",
        "    assert (\n",
        "        len(set(batch[\"sampling_rate\"])) == 1\n",
        "    ), f\"Make sure all inputs have the same sampling rate of {processor.feature_extractor.sampling_rate}.\"\n",
        "\n",
        "    batch[\"input_values\"] = processor(batch[\"speech\"], sampling_rate=batch[\"sampling_rate\"][0]).input_values\n",
        "    \n",
        "    with processor.as_target_processor():\n",
        "        batch[\"labels\"] = processor(batch[\"target_text\"]).input_ids\n",
        "    return batch"
      ],
      "execution_count": null,
      "outputs": []
    },
    {
      "cell_type": "code",
      "metadata": {
        "colab": {
          "base_uri": "https://localhost:8080/",
          "height": 599,
          "referenced_widgets": [
            "ab021c72474f448a9f0a4159068b9c79",
            "91cf7409f0524f358d8fc55d911e6e9d",
            "ee18b5d2ccc74fabafd366864e552425",
            "9def636c39f74f24914542dda8bf4f59",
            "511cff57a5c048358d3d943bb5f9ecbf",
            "fdf31b5895f048b296e505766636404e",
            "498f28e1b30d4f37a225ce0a904cfb45",
            "e4cee0026fed47cebda9faf1cec987d9",
            "2aebae035a70417992a2a1bccab774a0",
            "ce7120754bfb449997b09a8287c64a62",
            "95090fbae4a84b48a951234bad7a80ff",
            "77b5c2f65f864d7d88778ce6801eefb0",
            "d5df0429813b4979853e272965e9c73d",
            "0f4a46305649411097b8ea60481d1174",
            "f4182e342c8c47b998003a4ccb36fc56",
            "88ce879cea124e248a1ecf2185683a67",
            "a08d4908da9a463487e06f87a945b4b2",
            "7c00235737904ea7aff6d55fbadf00e7",
            "7f60cbcf129b4bbe8acc0ddac339c967",
            "92a3bf6840b640aeaa420ac1f6de3020",
            "37611b42e6d84836aa6356dda6cab4f0",
            "d72c307a95624df480833e1ac32d54b9",
            "70b6d9722f914f238b7b90684596e5b0",
            "e4d35e5ad3684623ab85d29139411f26",
            "6ec3d2e29ee545eb88867222344b9269",
            "96e7e13e15444d2e857e2ae5d61e346b",
            "3c2641140b874ad3980f489ad2a89a54",
            "055eb2a77735470d90eac53643bafeb4",
            "4702a1c30f114d26a6883c751d0e2631",
            "8036a40eba474085b5dbe528ffcf6ee2",
            "ae46663f91d74fef80b151ff60e8c310",
            "e2f9d8e127f74539bee7c91d1653d2b2",
            "70fd8cb479db4990a0425a16636982b0",
            "945cc179f0c148f0b01884a38e30a09c",
            "edb34d49795b4dfc9d640de147692e44",
            "ec877ac43af447769b2f5fc28f53e8de",
            "43b2656c615b4e67a09762c264cf4249",
            "750af16b0eae452787c77a9191c0d9e3",
            "fd54bbf0833140e6ac57a125a18a53f8",
            "2b4af8d7ee914cd4b69229ba82879331",
            "d22b8a408129471eab7fcb446baeba83",
            "257caf35a30f44a3a04baf16f9c7b159",
            "6eb616bb72ef40e9a6fecace040d6829",
            "63a4ff2b6f5940a4b1ce11459244c3b3",
            "6ab528e50c494b3786778fbfb4acac1e",
            "b17d500cf480426c9e611c345e9d1dcf",
            "6e41afb1e43d4771990615ce0b7276a5",
            "3aef49a2ebfc4ae6ba2b4d1bb8868150",
            "226eece20a344d088755541ab6100288",
            "bba2410769564418abe712701cf4f290",
            "0df61ebc57cc42ce9d406fa8cc1b5f61",
            "4a92d798e40d4bd39cb76c48f872c520",
            "99ee59c6e1c34616b5d0283ad402eee6",
            "ee47dd678d904d26a6c891862f9f508f",
            "8fa11e2e12f1478aafe9da3b1023e84a",
            "94d381982e5f4740a443cdaf0314b549",
            "6b15261e4ac741dbbd35eed9a313a6b3",
            "d16d9717ea22485b933f494ec115b049",
            "1436540ceb6348b89e59e09f963355d6",
            "ea9d7740749c4d7f97ba81c8c45cc884",
            "616e81a9674a4cf5b3fa76085f559bf1",
            "014b3bb3f1e849a9b0b572aea7f34257",
            "df2a35f301a1447fa05bb84fbc5b35a1",
            "745d43b95f604f29a7325a09e1355381"
          ]
        },
        "id": "-np9xYK-wl8q",
        "outputId": "b84594f4-fd79-49f8-c53e-65fe7f3f26d7"
      },
      "source": [
        "mr_train_dataset = mr_train_dataset.map(prepare_dataset, remove_columns=mr_train_dataset.column_names, batch_size=8, num_proc=4, batched=True)\n",
        "mr_test_dataset = mr_test_dataset.map(prepare_dataset, remove_columns=mr_test_dataset.column_names, batch_size=8, num_proc=4, batched=True)"
      ],
      "execution_count": null,
      "outputs": [
        {
          "output_type": "stream",
          "text": [
            "/usr/local/lib/python3.7/dist-packages/numpy/core/_asarray.py:83: VisibleDeprecationWarning: Creating an ndarray from ragged nested sequences (which is a list-or-tuple of lists-or-tuples-or ndarrays with different lengths or shapes) is deprecated. If you meant to do this, you must specify 'dtype=object' when creating the ndarray\n",
            "  return array(a, dtype, copy=False, order=order)\n"
          ],
          "name": "stderr"
        },
        {
          "output_type": "stream",
          "text": [
            " "
          ],
          "name": "stdout"
        },
        {
          "output_type": "display_data",
          "data": {
            "application/vnd.jupyter.widget-view+json": {
              "model_id": "ab021c72474f448a9f0a4159068b9c79",
              "version_minor": 0,
              "version_major": 2
            },
            "text/plain": [
              "HBox(children=(FloatProgress(value=0.0, description='#0', max=45.0, style=ProgressStyle(description_width='ini…"
            ]
          },
          "metadata": {
            "tags": []
          }
        },
        {
          "output_type": "stream",
          "text": [
            " "
          ],
          "name": "stdout"
        },
        {
          "output_type": "display_data",
          "data": {
            "application/vnd.jupyter.widget-view+json": {
              "model_id": "2aebae035a70417992a2a1bccab774a0",
              "version_minor": 0,
              "version_major": 2
            },
            "text/plain": [
              "HBox(children=(FloatProgress(value=0.0, description='#1', max=45.0, style=ProgressStyle(description_width='ini…"
            ]
          },
          "metadata": {
            "tags": []
          }
        },
        {
          "output_type": "stream",
          "text": [
            " "
          ],
          "name": "stdout"
        },
        {
          "output_type": "display_data",
          "data": {
            "application/vnd.jupyter.widget-view+json": {
              "model_id": "a08d4908da9a463487e06f87a945b4b2",
              "version_minor": 0,
              "version_major": 2
            },
            "text/plain": [
              "HBox(children=(FloatProgress(value=0.0, description='#2', max=45.0, style=ProgressStyle(description_width='ini…"
            ]
          },
          "metadata": {
            "tags": []
          }
        },
        {
          "output_type": "stream",
          "text": [
            " "
          ],
          "name": "stdout"
        },
        {
          "output_type": "display_data",
          "data": {
            "application/vnd.jupyter.widget-view+json": {
              "model_id": "6ec3d2e29ee545eb88867222344b9269",
              "version_minor": 0,
              "version_major": 2
            },
            "text/plain": [
              "HBox(children=(FloatProgress(value=0.0, description='#3', max=45.0, style=ProgressStyle(description_width='ini…"
            ]
          },
          "metadata": {
            "tags": []
          }
        },
        {
          "output_type": "stream",
          "text": [
            "\n",
            "\n",
            "\n",
            "\n",
            " "
          ],
          "name": "stdout"
        },
        {
          "output_type": "display_data",
          "data": {
            "application/vnd.jupyter.widget-view+json": {
              "model_id": "70fd8cb479db4990a0425a16636982b0",
              "version_minor": 0,
              "version_major": 2
            },
            "text/plain": [
              "HBox(children=(FloatProgress(value=0.0, description='#0', max=5.0, style=ProgressStyle(description_width='init…"
            ]
          },
          "metadata": {
            "tags": []
          }
        },
        {
          "output_type": "stream",
          "text": [
            " "
          ],
          "name": "stdout"
        },
        {
          "output_type": "display_data",
          "data": {
            "application/vnd.jupyter.widget-view+json": {
              "model_id": "d22b8a408129471eab7fcb446baeba83",
              "version_minor": 0,
              "version_major": 2
            },
            "text/plain": [
              "HBox(children=(FloatProgress(value=0.0, description='#1', max=5.0, style=ProgressStyle(description_width='init…"
            ]
          },
          "metadata": {
            "tags": []
          }
        },
        {
          "output_type": "stream",
          "text": [
            " "
          ],
          "name": "stdout"
        },
        {
          "output_type": "display_data",
          "data": {
            "application/vnd.jupyter.widget-view+json": {
              "model_id": "226eece20a344d088755541ab6100288",
              "version_minor": 0,
              "version_major": 2
            },
            "text/plain": [
              "HBox(children=(FloatProgress(value=0.0, description='#2', max=5.0, style=ProgressStyle(description_width='init…"
            ]
          },
          "metadata": {
            "tags": []
          }
        },
        {
          "output_type": "stream",
          "text": [
            " "
          ],
          "name": "stdout"
        },
        {
          "output_type": "display_data",
          "data": {
            "application/vnd.jupyter.widget-view+json": {
              "model_id": "6b15261e4ac741dbbd35eed9a313a6b3",
              "version_minor": 0,
              "version_major": 2
            },
            "text/plain": [
              "HBox(children=(FloatProgress(value=0.0, description='#3', max=5.0, style=ProgressStyle(description_width='init…"
            ]
          },
          "metadata": {
            "tags": []
          }
        },
        {
          "output_type": "stream",
          "text": [
            "\n",
            "\n",
            "\n",
            "\n"
          ],
          "name": "stdout"
        }
      ]
    },
    {
      "cell_type": "code",
      "metadata": {
        "colab": {
          "base_uri": "https://localhost:8080/",
          "height": 35
        },
        "id": "F6n9dM370Uuk",
        "outputId": "68ae6d8f-16ea-422c-fe9e-8eeb35f005e1"
      },
      "source": [
        "mr_train_dataset.description"
      ],
      "execution_count": null,
      "outputs": [
        {
          "output_type": "execute_result",
          "data": {
            "application/vnd.google.colaboratory.intrinsic+json": {
              "type": "string"
            },
            "text/plain": [
              "'\\n\\n\\n\\n\\n\\n'"
            ]
          },
          "metadata": {
            "tags": []
          },
          "execution_count": 51
        }
      ]
    },
    {
      "cell_type": "markdown",
      "metadata": {
        "id": "gYlQkKVoRUos"
      },
      "source": [
        "## Training\n",
        "\n",
        "The data is processed so that we are ready to start setting up the training pipeline. We will make use of 🤗's [Trainer](https://huggingface.co/transformers/master/main_classes/trainer.html?highlight=trainer) for which we essentially need to do the following:\n",
        "\n",
        "- Define a data collator. In contrast to most NLP models, XLSR-Wav2Vec2 has a much larger input length than output length. *E.g.*, a sample of input length 50000 has an output length of no more than 100. Given the large input sizes, it is much more efficient to pad the training batches dynamically meaning that all training samples should only be padded to the longest sample in their batch and not the overall longest sample. Therefore, fine-tuning XLSR-Wav2Vec2 requires a special padding data collator, which we will define below\n",
        "\n",
        "- Evaluation metric. During training, the model should be evaluated on the word error rate. We should define a `compute_metrics` function accordingly\n",
        "\n",
        "- Load a pretrained checkpoint. We need to load a pretrained checkpoint and configure it correctly for training.\n",
        "\n",
        "- Define the training configuration.\n",
        "\n",
        "After having fine-tuned the model, we will correctly evaluate it on the test data and verify that it has indeed learned to correctly transcribe speech."
      ]
    },
    {
      "cell_type": "markdown",
      "metadata": {
        "id": "Slk403unUS91"
      },
      "source": [
        "### Set-up Trainer\n",
        "\n",
        "Let's start by defining the data collator. The code for the data collator was copied from [this example](https://github.com/huggingface/transformers/blob/9a06b6b11bdfc42eea08fa91d0c737d1863c99e3/examples/research_projects/wav2vec2/run_asr.py#L81).\n",
        "\n",
        "Without going into too many details, in contrast to the common data collators, this data collator treats the `input_values` and `labels` differently and thus applies to separate padding functions on them (again making use of XLSR-Wav2Vec2's context manager). This is necessary because in speech input and output are of different modalities meaning that they should not be treated by the same padding function.\n",
        "Analogous to the common data collators, the padding tokens in the labels with `-100` so that those tokens are **not** taken into account when computing the loss."
      ]
    },
    {
      "cell_type": "code",
      "metadata": {
        "id": "tborvC9hx88e"
      },
      "source": [
        "import torch\n",
        "\n",
        "from dataclasses import dataclass, field\n",
        "from typing import Any, Dict, List, Optional, Union\n",
        "\n",
        "@dataclass\n",
        "class DataCollatorCTCWithPadding:\n",
        "    \"\"\"\n",
        "    Data collator that will dynamically pad the inputs received.\n",
        "    Args:\n",
        "        processor (:class:`~transformers.Wav2Vec2Processor`)\n",
        "            The processor used for proccessing the data.\n",
        "        padding (:obj:`bool`, :obj:`str` or :class:`~transformers.tokenization_utils_base.PaddingStrategy`, `optional`, defaults to :obj:`True`):\n",
        "            Select a strategy to pad the returned sequences (according to the model's padding side and padding index)\n",
        "            among:\n",
        "            * :obj:`True` or :obj:`'longest'`: Pad to the longest sequence in the batch (or no padding if only a single\n",
        "              sequence if provided).\n",
        "            * :obj:`'max_length'`: Pad to a maximum length specified with the argument :obj:`max_length` or to the\n",
        "              maximum acceptable input length for the model if that argument is not provided.\n",
        "            * :obj:`False` or :obj:`'do_not_pad'` (default): No padding (i.e., can output a batch with sequences of\n",
        "              different lengths).\n",
        "        max_length (:obj:`int`, `optional`):\n",
        "            Maximum length of the ``input_values`` of the returned list and optionally padding length (see above).\n",
        "        max_length_labels (:obj:`int`, `optional`):\n",
        "            Maximum length of the ``labels`` returned list and optionally padding length (see above).\n",
        "        pad_to_multiple_of (:obj:`int`, `optional`):\n",
        "            If set will pad the sequence to a multiple of the provided value.\n",
        "            This is especially useful to enable the use of Tensor Cores on NVIDIA hardware with compute capability >=\n",
        "            7.5 (Volta).\n",
        "    \"\"\"\n",
        "\n",
        "    processor: Wav2Vec2Processor\n",
        "    padding: Union[bool, str] = True\n",
        "    max_length: Optional[int] = None\n",
        "    max_length_labels: Optional[int] = None\n",
        "    pad_to_multiple_of: Optional[int] = None\n",
        "    pad_to_multiple_of_labels: Optional[int] = None\n",
        "\n",
        "    def __call__(self, features: List[Dict[str, Union[List[int], torch.Tensor]]]) -> Dict[str, torch.Tensor]:\n",
        "        # split inputs and labels since they have to be of different lenghts and need\n",
        "        # different padding methods\n",
        "        input_features = [{\"input_values\": feature[\"input_values\"]} for feature in features]\n",
        "        label_features = [{\"input_ids\": feature[\"labels\"]} for feature in features]\n",
        "\n",
        "        batch = self.processor.pad(\n",
        "            input_features,\n",
        "            padding=self.padding,\n",
        "            max_length=self.max_length,\n",
        "            pad_to_multiple_of=self.pad_to_multiple_of,\n",
        "            return_tensors=\"pt\",\n",
        "        )\n",
        "        with self.processor.as_target_processor():\n",
        "            labels_batch = self.processor.pad(\n",
        "                label_features,\n",
        "                padding=self.padding,\n",
        "                max_length=self.max_length_labels,\n",
        "                pad_to_multiple_of=self.pad_to_multiple_of_labels,\n",
        "                return_tensors=\"pt\",\n",
        "            )\n",
        "\n",
        "        # replace padding with -100 to ignore loss correctly\n",
        "        labels = labels_batch[\"input_ids\"].masked_fill(labels_batch.attention_mask.ne(1), -100)\n",
        "\n",
        "        batch[\"labels\"] = labels\n",
        "\n",
        "        return batch"
      ],
      "execution_count": null,
      "outputs": []
    },
    {
      "cell_type": "code",
      "metadata": {
        "id": "lbQf5GuZyQ4_"
      },
      "source": [
        "data_collator = DataCollatorCTCWithPadding(processor=processor, padding=True)"
      ],
      "execution_count": null,
      "outputs": []
    },
    {
      "cell_type": "markdown",
      "metadata": {
        "id": "xO-Zdj-5cxXp"
      },
      "source": [
        "Next, the evaluation metric is defined. As mentioned earlier, the \n",
        "predominant metric in ASR is the word error rate (WER), hence we will use it in this notebook as well."
      ]
    },
    {
      "cell_type": "code",
      "metadata": {
        "id": "pxWgKeXvlUkm"
      },
      "source": [
        "from datasets import load_metric\n",
        "wer_metric = load_metric(\"wer\")"
      ],
      "execution_count": null,
      "outputs": []
    },
    {
      "cell_type": "markdown",
      "metadata": {
        "id": "E1qZU5p-deqB"
      },
      "source": [
        "The model will return a sequence of logit vectors:\n",
        "$\\mathbf{y}_1, \\ldots, \\mathbf{y}_m$ with $\\mathbf{y}_1 = f_{\\theta}(x_1, \\ldots, x_n)[0]$ and $n >> m$.\n",
        "\n",
        "A logit vector $\\mathbf{y}_1$ contains the log-odds for each word in the vocabulary we defined earlier, thus $\\text{len}(\\mathbf{y}_i) =$ `config.vocab_size`. We are interested in the most likely prediction of the model and thus take the `argmax(...)` of the logits. Also, we transform the encoded labels back to the original string by replacing `-100` with the `pad_token_id` and decoding the ids while making sure that consecutive tokens are **not** grouped to the same token in CTC style ${}^1$."
      ]
    },
    {
      "cell_type": "code",
      "metadata": {
        "id": "1XZ-kjweyTy_"
      },
      "source": [
        "def compute_metrics(pred):\n",
        "    pred_logits = pred.predictions\n",
        "    pred_ids = np.argmax(pred_logits, axis=-1)\n",
        "\n",
        "    pred.label_ids[pred.label_ids == -100] = processor.tokenizer.pad_token_id\n",
        "\n",
        "    pred_str = processor.batch_decode(pred_ids)\n",
        "    # we do not want to group tokens when computing the metrics\n",
        "    label_str = processor.batch_decode(pred.label_ids, group_tokens=False)\n",
        "\n",
        "    wer = wer_metric.compute(predictions=pred_str, references=label_str)\n",
        "\n",
        "    return {\"wer\": wer}"
      ],
      "execution_count": null,
      "outputs": []
    },
    {
      "cell_type": "markdown",
      "metadata": {
        "id": "RxQs032JT0OO"
      },
      "source": [
        "Define checkpoints at steps to resume training if it fails"
      ]
    },
    {
      "cell_type": "code",
      "metadata": {
        "colab": {
          "base_uri": "https://localhost:8080/"
        },
        "id": "VlSfb-POZfmJ",
        "outputId": "3ac7dd96-616f-4c36-a244-d55048349389"
      },
      "source": [
        "import os\n",
        "from transformers.trainer_utils import get_last_checkpoint\n",
        "save_dir = \"/content/gdrive/MyDrive/wav2vec2-large-xlsr-mr-marathi-2\"\n",
        "!ls {save_dir}\n",
        "last_checkpoint = None\n",
        "\n",
        "if os.path.exists(save_dir):\n",
        "    last_checkpoint = get_last_checkpoint(save_dir)\n",
        "    \n",
        "print(last_checkpoint if last_checkpoint else 0)"
      ],
      "execution_count": null,
      "outputs": [
        {
          "output_type": "stream",
          "text": [
            "ls: cannot access '/content/gdrive/MyDrive/wav2vec2-large-xlsr-mr-marathi-2': No such file or directory\n",
            "0\n"
          ],
          "name": "stdout"
        }
      ]
    },
    {
      "cell_type": "markdown",
      "metadata": {
        "id": "Xmgrx4bRwLIH"
      },
      "source": [
        "Now, we can load the pretrained `XLSR-Wav2Vec2` checkpoint. The tokenizer's `pad_token_id` must be to define the model's `pad_token_id` or in the case of `Wav2Vec2ForCTC` also CTC's *blank token* ${}^2$. To save GPU memory, we enable PyTorch's [gradient checkpointing](https://pytorch.org/docs/stable/checkpoint.html) and also set the loss reduction to \"*mean*\".\n",
        "\n",
        "Because the dataset is quite small (~2h of training data) and because Open SLR is quite noisy, fine-tuning Facebook's [wav2vec2-large-xlsr-53 checkpoint](https://huggingface.co/facebook/wav2vec2-large-xlsr-53) seems to require some hyper-parameter tuning. Therefore, I had to play around a bit with different values for dropout, [SpecAugment](https://arxiv.org/abs/1904.08779)'s masking dropout rate, layer dropout, and the learning rate until training seemed to be stable enough. \n"
      ]
    },
    {
      "cell_type": "code",
      "metadata": {
        "colab": {
          "base_uri": "https://localhost:8080/"
        },
        "id": "e7cqAWIayn6w",
        "outputId": "0ddf5d2b-0363-4d69-d5b1-f97c978aa895"
      },
      "source": [
        "from transformers import Wav2Vec2ForCTC\n",
        "\n",
        "model = Wav2Vec2ForCTC.from_pretrained(\n",
        "    \"facebook/wav2vec2-large-xlsr-53\" if not last_checkpoint else last_checkpoint, \n",
        "    attention_dropout=0.1,\n",
        "    hidden_dropout=0.1,\n",
        "    feat_proj_dropout=0.0,\n",
        "    mask_time_prob=0.05,\n",
        "    layerdrop=0.1,\n",
        "    gradient_checkpointing=True, \n",
        "    ctc_loss_reduction=\"mean\", \n",
        "    pad_token_id=processor.tokenizer.pad_token_id,\n",
        "    vocab_size=len(processor.tokenizer)\n",
        ")"
      ],
      "execution_count": null,
      "outputs": [
        {
          "output_type": "stream",
          "text": [
            "Some weights of Wav2Vec2ForCTC were not initialized from the model checkpoint at facebook/wav2vec2-large-xlsr-53 and are newly initialized: ['lm_head.bias', 'lm_head.weight']\n",
            "You should probably TRAIN this model on a down-stream task to be able to use it for predictions and inference.\n"
          ],
          "name": "stderr"
        }
      ]
    },
    {
      "cell_type": "markdown",
      "metadata": {
        "id": "1DwR3XLSzGDD"
      },
      "source": [
        "The first component of XLSR-Wav2Vec2 consists of a stack of CNN layers that are used to extract acoustically meaningful - but contextually independent - features from the raw speech signal. This part of the model has already been sufficiently trained during pretraining and as stated in the [paper](https://arxiv.org/pdf/2006.13979.pdf) does not need to be fine-tuned anymore. \n",
        "Thus, we can set the `requires_grad` to `False` for all parameters of the *feature extraction* part."
      ]
    },
    {
      "cell_type": "code",
      "metadata": {
        "id": "oGI8zObtZ3V0"
      },
      "source": [
        "model.freeze_feature_extractor()"
      ],
      "execution_count": null,
      "outputs": []
    },
    {
      "cell_type": "markdown",
      "metadata": {
        "id": "lD4aGhQM0K-D"
      },
      "source": [
        "In a final step, we define all parameters related to training. \n",
        "To give more explanation on some of the parameters:\n",
        "- `group_by_length` makes training more efficient by grouping training samples of similar input length into one batch. This can significantly speed up training time by heavily reducing the overall number of useless padding tokens that are passed through the model\n",
        "- `learning_rate` and `weight_decay` were heuristically tuned until fine-tuning has become stable. Note that those parameters strongly depend on the dataset and might be suboptimal for other speech datasets.\n",
        "\n",
        "For more explanations on other parameters, one can take a look at the [docs](https://huggingface.co/transformers/master/main_classes/trainer.html?highlight=trainer#trainingarguments)."
      ]
    },
    {
      "cell_type": "markdown",
      "metadata": {
        "id": "NZvva-SSTeID"
      },
      "source": [
        "Init Weights and Biases for auto logging and model tracking "
      ]
    },
    {
      "cell_type": "code",
      "metadata": {
        "id": "0Jt0GoyXn1aE"
      },
      "source": [
        "%%capture\n",
        "!pip install wandb -qqq\n",
        "import wandb"
      ],
      "execution_count": null,
      "outputs": []
    },
    {
      "cell_type": "code",
      "metadata": {
        "colab": {
          "base_uri": "https://localhost:8080/"
        },
        "id": "0v23l_8Ln4vL",
        "outputId": "02a719dc-3943-4f51-bbfb-680ce2786741"
      },
      "source": [
        "!wandb login"
      ],
      "execution_count": null,
      "outputs": [
        {
          "output_type": "stream",
          "text": [
            "\u001b[34m\u001b[1mwandb\u001b[0m: Currently logged in as: \u001b[33msumedhkhodke\u001b[0m (use `wandb login --relogin` to force relogin)\n"
          ],
          "name": "stdout"
        }
      ]
    },
    {
      "cell_type": "code",
      "metadata": {
        "colab": {
          "base_uri": "https://localhost:8080/"
        },
        "id": "YSQayqW5wevY",
        "outputId": "b4261df0-837c-43d2-a7df-97510a571277"
      },
      "source": [
        "# W&B company account\n",
        "%env WANDB_ENTITY = wandb\n",
        "entity = os.environ[\"WANDB_ENTITY\"]\n",
        "\n",
        "# Choose the public W&B project\n",
        "%env WANDB_PROJECT = xlsr\n",
        "project_name = os.environ[\"WANDB_PROJECT\"]\n",
        "\n",
        "# Log your trained model to W&B as an Artifact\n",
        "%env WANDB_LOG_MODEL = true \n",
        "\n",
        "# # Disable logging of gradients to speed things up a little\n",
        "# %env WANDB_WATCH = false   "
      ],
      "execution_count": null,
      "outputs": [
        {
          "output_type": "stream",
          "text": [
            "env: WANDB_ENTITY=wandb\n",
            "env: WANDB_PROJECT=xlsr\n",
            "env: WANDB_LOG_MODEL=true\n"
          ],
          "name": "stdout"
        }
      ]
    },
    {
      "cell_type": "code",
      "metadata": {
        "id": "KbeKSV7uzGPP"
      },
      "source": [
        "from transformers import TrainingArguments\n",
        "\n",
        "training_args = TrainingArguments(\n",
        "  output_dir=\"/content/gdrive/MyDrive/wav2vec2-large-xlsr-mr-marathi-2\",\n",
        "#   output_dir=\"./wav2vec2-large-xlsr-turkish-demo\",\n",
        "  group_by_length=True,\n",
        "  per_device_train_batch_size=8, #reduced batch size from 16 to 8 to avoid Cuda OOM error on colab\n",
        "  per_device_eval_batch_size=8, #reduced batch size from 16 to 8 to avoid Cuda OOM error on colab\n",
        "  gradient_accumulation_steps=4, #increasd grad_accumu_steps from 2 to 4 to compensate for batch size...someone on the forum said xlsr likes total batch size of atleast 32\n",
        "  evaluation_strategy=\"steps\",\n",
        "  num_train_epochs=30,\n",
        "  fp16=True, #enable half precision fp for faster training\n",
        "  save_steps=200,\n",
        "  eval_steps=200,\n",
        "  logging_steps=200,\n",
        "  learning_rate=0.00045,\n",
        "  warmup_steps=140, #10% of training data\n",
        "  save_total_limit=2,\n",
        "  # WANDB LOGGING: \n",
        "    report_to = 'wandb',  # enable logging to W&B\n",
        "    run_name = 'mr-xlsr-3-35e',   # Name your run, optional\n",
        "    load_best_model_at_end = True,  # This will ensure your best model will be uploaded to W&B\n",
        "    metric_for_best_model='wer',    # Load best model based on \"wer\", not eval loss\n",
        "    greater_is_better=False,\n",
        ")"
      ],
      "execution_count": null,
      "outputs": []
    },
    {
      "cell_type": "markdown",
      "metadata": {
        "id": "OsW-WZcL1ZtN"
      },
      "source": [
        "Now, all instances can be passed to Trainer and we are ready to start training!"
      ]
    },
    {
      "cell_type": "code",
      "metadata": {
        "id": "rY7vBmFCPFgC"
      },
      "source": [
        "from transformers import Trainer\n",
        "\n",
        "trainer = Trainer(\n",
        "    model=model,\n",
        "    data_collator=data_collator,\n",
        "    args=training_args,\n",
        "    compute_metrics=compute_metrics,\n",
        "    train_dataset=mr_train_dataset,\n",
        "    eval_dataset=mr_test_dataset,\n",
        "    tokenizer=processor.feature_extractor,\n",
        ")"
      ],
      "execution_count": null,
      "outputs": []
    },
    {
      "cell_type": "markdown",
      "metadata": {
        "id": "UoXBx1JAA0DX"
      },
      "source": [
        "\n",
        "\n",
        "---\n",
        "\n",
        "${}^1$ To allow models to become independent of the speaker rate, in CTC, consecutive tokens that are identical are simply grouped as a single token. However, the encoded labels should not be grouped when decoding since they don't correspond to the predicted tokens of the model, which is why the `group_tokens=False` parameter has to be passed. If we wouldn't pass this parameter a word like `\"hello\"` would incorrectly be encoded, and decoded as `\"helo\"`.\n",
        "\n",
        "${}^2$ The blank token allows the model to predict a word, such as `\"hello\"` by forcing it to insert the blank token between the two l's. A CTC-conform prediction of `\"hello\"` of our model would be `[PAD] [PAD] \"h\" \"e\" \"e\" \"l\" \"l\" [PAD] \"l\" \"o\" \"o\" [PAD]`."
      ]
    },
    {
      "cell_type": "markdown",
      "metadata": {
        "id": "rpvZHM1xReIW"
      },
      "source": [
        "### Training"
      ]
    },
    {
      "cell_type": "markdown",
      "metadata": {
        "id": "j-3oKSzZ1hGq"
      },
      "source": [
        "Training will take between 180 and 240 minutes depending on the GPU allocated to this notebook. While the trained model yields somewhat satisfying results on *Open SLR 64*'s test data of Marathi, it is by no means an optimally fine-tuned model. The purpose of this notebook is to demonstrate how XLSR-Wav2Vec2's [checkpoint](https://huggingface.co/facebook/wav2vec2-large-xlsr-53) can be fine-tuned on a low-resource ASR dataset.\n"
      ]
    },
    {
      "cell_type": "markdown",
      "metadata": {
        "id": "STR_NAaiP3Qz"
      },
      "source": [
        "Clear the cached memory in GPU before starting the training"
      ]
    },
    {
      "cell_type": "code",
      "metadata": {
        "colab": {
          "base_uri": "https://localhost:8080/",
          "height": 120
        },
        "id": "qaUKM9t143GN",
        "outputId": "71a2a2bc-0ac9-4b83-d5ac-549c93b14929"
      },
      "source": [
        "torch.cuda.memory_summary(device=None)#, abbreviated=False)"
      ],
      "execution_count": null,
      "outputs": [
        {
          "output_type": "execute_result",
          "data": {
            "application/vnd.google.colaboratory.intrinsic+json": {
              "type": "string"
            },
            "text/plain": [
              "'|===========================================================================|\\n|                  PyTorch CUDA memory summary, device ID 0                 |\\n|---------------------------------------------------------------------------|\\n|            CUDA OOMs: 0            |        cudaMalloc retries: 0         |\\n|===========================================================================|\\n|        Metric         | Cur Usage  | Peak Usage | Tot Alloc  | Tot Freed  |\\n|---------------------------------------------------------------------------|\\n| Allocated memory      |    1203 MB |    1203 MB |    1203 MB |       0 B  |\\n|       from large pool |    1202 MB |    1202 MB |    1202 MB |       0 B  |\\n|       from small pool |       1 MB |       1 MB |       1 MB |       0 B  |\\n|---------------------------------------------------------------------------|\\n| Active memory         |    1203 MB |    1203 MB |    1203 MB |       0 B  |\\n|       from large pool |    1202 MB |    1202 MB |    1202 MB |       0 B  |\\n|       from small pool |       1 MB |       1 MB |       1 MB |       0 B  |\\n|---------------------------------------------------------------------------|\\n| GPU reserved memory   |    1206 MB |    1206 MB |    1206 MB |       0 B  |\\n|       from large pool |    1204 MB |    1204 MB |    1204 MB |       0 B  |\\n|       from small pool |       2 MB |       2 MB |       2 MB |       0 B  |\\n|---------------------------------------------------------------------------|\\n| Non-releasable memory |    2489 KB |   20397 KB |  412652 KB |  410163 KB |\\n|       from large pool |    2048 KB |   18432 KB |  410624 KB |  408576 KB |\\n|       from small pool |     441 KB |    2028 KB |    2028 KB |    1587 KB |\\n|---------------------------------------------------------------------------|\\n| Allocations           |     424    |     424    |     424    |       0    |\\n|       from large pool |     152    |     152    |     152    |       0    |\\n|       from small pool |     272    |     272    |     272    |       0    |\\n|---------------------------------------------------------------------------|\\n| Active allocs         |     424    |     424    |     424    |       0    |\\n|       from large pool |     152    |     152    |     152    |       0    |\\n|       from small pool |     272    |     272    |     272    |       0    |\\n|---------------------------------------------------------------------------|\\n| GPU reserved segments |      69    |      69    |      69    |       0    |\\n|       from large pool |      68    |      68    |      68    |       0    |\\n|       from small pool |       1    |       1    |       1    |       0    |\\n|---------------------------------------------------------------------------|\\n| Non-releasable allocs |       2    |       3    |      26    |      24    |\\n|       from large pool |       1    |       2    |      25    |      24    |\\n|       from small pool |       1    |       1    |       1    |       0    |\\n|===========================================================================|\\n'"
            ]
          },
          "metadata": {
            "tags": []
          },
          "execution_count": 64
        }
      ]
    },
    {
      "cell_type": "code",
      "metadata": {
        "id": "kWBn2FGS5c_1"
      },
      "source": [
        "torch.cuda.empty_cache()"
      ],
      "execution_count": null,
      "outputs": []
    },
    {
      "cell_type": "code",
      "metadata": {
        "colab": {
          "base_uri": "https://localhost:8080/"
        },
        "id": "0Vf4q0jC5l1C",
        "outputId": "80f86e4a-60c8-422f-ecc1-9c38b3f69704"
      },
      "source": [
        "!nvidia-smi"
      ],
      "execution_count": null,
      "outputs": [
        {
          "output_type": "stream",
          "text": [
            "Sun Mar 28 17:28:05 2021       \n",
            "+-----------------------------------------------------------------------------+\n",
            "| NVIDIA-SMI 460.56       Driver Version: 460.32.03    CUDA Version: 11.2     |\n",
            "|-------------------------------+----------------------+----------------------+\n",
            "| GPU  Name        Persistence-M| Bus-Id        Disp.A | Volatile Uncorr. ECC |\n",
            "| Fan  Temp  Perf  Pwr:Usage/Cap|         Memory-Usage | GPU-Util  Compute M. |\n",
            "|                               |                      |               MIG M. |\n",
            "|===============================+======================+======================|\n",
            "|   0  Tesla P100-PCIE...  Off  | 00000000:00:04.0 Off |                    0 |\n",
            "| N/A   37C    P0    34W / 250W |   2095MiB / 16280MiB |      0%      Default |\n",
            "|                               |                      |                  N/A |\n",
            "+-------------------------------+----------------------+----------------------+\n",
            "                                                                               \n",
            "+-----------------------------------------------------------------------------+\n",
            "| Processes:                                                                  |\n",
            "|  GPU   GI   CI        PID   Type   Process name                  GPU Memory |\n",
            "|        ID   ID                                                   Usage      |\n",
            "|=============================================================================|\n",
            "+-----------------------------------------------------------------------------+\n"
          ],
          "name": "stdout"
        }
      ]
    },
    {
      "cell_type": "code",
      "metadata": {
        "id": "_UEjJqGsQw24",
        "colab": {
          "base_uri": "https://localhost:8080/",
          "height": 1000,
          "referenced_widgets": [
            "f64e0932db804124abc3cfe3e031ba8c",
            "4bc0999ca42d40e2af261cb2bc020f2d",
            "c68a22a1a27b46a8bb724b9ee37b2d84",
            "65862ab59dfa4a2c9bf5f854098c5fb4",
            "8bb84b48ff8647b887b2fbb12e0a6803",
            "5d2df0c3aa9d4c9e80208fd61515affb",
            "e024c928815340439481026d44580f87",
            "ccb8f5ce119246d3bdd34bc368e4fbae"
          ]
        },
        "outputId": "81b7d6fc-2b6a-4709-8e8e-6910510bfae2"
      },
      "source": [
        "# trainer.train()\n",
        "# wandb.finish()\n",
        "if last_checkpoint:\n",
        "    print(f\"last_checkpoint: {last_checkpoint}\")\n",
        "    train_result = trainer.train(resume_from_checkpoint=last_checkpoint)\n",
        "    wandb.finish()    # This will finish your WANDB run  \n",
        "else:\n",
        "    train_result = trainer.train()\n",
        "    wandb.finish()    # This will finish your WANDB run  "
      ],
      "execution_count": null,
      "outputs": [
        {
          "output_type": "stream",
          "text": [
            "\u001b[34m\u001b[1mwandb\u001b[0m: Currently logged in as: \u001b[33msumedhkhodke\u001b[0m (use `wandb login --relogin` to force relogin)\n"
          ],
          "name": "stderr"
        },
        {
          "output_type": "display_data",
          "data": {
            "text/html": [
              "\n",
              "                Tracking run with wandb version 0.10.23<br/>\n",
              "                Syncing run <strong style=\"color:#cdcd00\">mr-xlsr-3-35e</strong> to <a href=\"https://wandb.ai\" target=\"_blank\">Weights & Biases</a> <a href=\"https://docs.wandb.com/integrations/jupyter.html\" target=\"_blank\">(Documentation)</a>.<br/>\n",
              "                Project page: <a href=\"https://wandb.ai/wandb/xlsr\" target=\"_blank\">https://wandb.ai/wandb/xlsr</a><br/>\n",
              "                Run page: <a href=\"https://wandb.ai/wandb/xlsr/runs/3itdhtb8\" target=\"_blank\">https://wandb.ai/wandb/xlsr/runs/3itdhtb8</a><br/>\n",
              "                Run data is saved locally in <code>/content/wandb/run-20210328_173011-3itdhtb8</code><br/><br/>\n",
              "            "
            ],
            "text/plain": [
              "<IPython.core.display.HTML object>"
            ]
          },
          "metadata": {
            "tags": []
          }
        },
        {
          "output_type": "stream",
          "text": [
            "/usr/local/lib/python3.7/dist-packages/torch/nn/modules/module.py:760: UserWarning: Using non-full backward hooks on a Module that does not return a single Tensor or a tuple of Tensors is deprecated and will be removed in future versions. This hook will be missing some of the grad_output. Please use register_full_backward_hook to get the documented behavior.\n",
            "  warnings.warn(\"Using non-full backward hooks on a Module that does not return a \"\n",
            "/usr/local/lib/python3.7/dist-packages/torch/nn/modules/module.py:795: UserWarning: Using a non-full backward hook when the forward contains multiple autograd Nodes is deprecated and will be removed in future versions. This hook will be missing some grad_input. Please use register_full_backward_hook to get the documented behavior.\n",
            "  warnings.warn(\"Using a non-full backward hook when the forward contains multiple autograd Nodes \"\n"
          ],
          "name": "stderr"
        },
        {
          "output_type": "display_data",
          "data": {
            "text/html": [
              "\n",
              "    <div>\n",
              "        <style>\n",
              "            /* Turns off some styling */\n",
              "            progress {\n",
              "                /* gets rid of default border in Firefox and Opera. */\n",
              "                border: none;\n",
              "                /* Needs to be in here for Safari polyfill so background images work as expected. */\n",
              "                background-size: auto;\n",
              "            }\n",
              "        </style>\n",
              "      \n",
              "      <progress value='1320' max='1320' style='width:300px; height:20px; vertical-align: middle;'></progress>\n",
              "      [1320/1320 3:20:22, Epoch 29/30]\n",
              "    </div>\n",
              "    <table border=\"1\" class=\"dataframe\">\n",
              "  <thead>\n",
              "    <tr style=\"text-align: left;\">\n",
              "      <th>Step</th>\n",
              "      <th>Training Loss</th>\n",
              "      <th>Validation Loss</th>\n",
              "      <th>Wer</th>\n",
              "      <th>Runtime</th>\n",
              "      <th>Samples Per Second</th>\n",
              "    </tr>\n",
              "  </thead>\n",
              "  <tbody>\n",
              "    <tr>\n",
              "      <td>200</td>\n",
              "      <td>5.658800</td>\n",
              "      <td>3.355526</td>\n",
              "      <td>1.000000</td>\n",
              "      <td>30.133300</td>\n",
              "      <td>5.210000</td>\n",
              "    </tr>\n",
              "    <tr>\n",
              "      <td>400</td>\n",
              "      <td>2.658600</td>\n",
              "      <td>0.548290</td>\n",
              "      <td>0.594565</td>\n",
              "      <td>30.581600</td>\n",
              "      <td>5.134000</td>\n",
              "    </tr>\n",
              "    <tr>\n",
              "      <td>600</td>\n",
              "      <td>0.363300</td>\n",
              "      <td>0.193027</td>\n",
              "      <td>0.271769</td>\n",
              "      <td>30.930200</td>\n",
              "      <td>5.076000</td>\n",
              "    </tr>\n",
              "    <tr>\n",
              "      <td>800</td>\n",
              "      <td>0.156100</td>\n",
              "      <td>0.175891</td>\n",
              "      <td>0.232945</td>\n",
              "      <td>30.872100</td>\n",
              "      <td>5.086000</td>\n",
              "    </tr>\n",
              "    <tr>\n",
              "      <td>1000</td>\n",
              "      <td>0.102000</td>\n",
              "      <td>0.162028</td>\n",
              "      <td>0.215752</td>\n",
              "      <td>31.150900</td>\n",
              "      <td>5.040000</td>\n",
              "    </tr>\n",
              "    <tr>\n",
              "      <td>1200</td>\n",
              "      <td>0.079100</td>\n",
              "      <td>0.165674</td>\n",
              "      <td>0.197449</td>\n",
              "      <td>31.364000</td>\n",
              "      <td>5.006000</td>\n",
              "    </tr>\n",
              "  </tbody>\n",
              "</table><p>"
            ],
            "text/plain": [
              "<IPython.core.display.HTML object>"
            ]
          },
          "metadata": {
            "tags": []
          }
        },
        {
          "output_type": "display_data",
          "data": {
            "text/html": [
              "<br/>Waiting for W&B process to finish, PID 11298<br/>Program ended successfully."
            ],
            "text/plain": [
              "<IPython.core.display.HTML object>"
            ]
          },
          "metadata": {
            "tags": []
          }
        },
        {
          "output_type": "display_data",
          "data": {
            "application/vnd.jupyter.widget-view+json": {
              "model_id": "f64e0932db804124abc3cfe3e031ba8c",
              "version_minor": 0,
              "version_major": 2
            },
            "text/plain": [
              "VBox(children=(Label(value=' 1203.80MB of 1203.80MB uploaded (0.00MB deduped)\\r'), FloatProgress(value=1.0, ma…"
            ]
          },
          "metadata": {
            "tags": []
          }
        },
        {
          "output_type": "display_data",
          "data": {
            "text/html": [
              "Find user logs for this run at: <code>/content/wandb/run-20210328_173011-3itdhtb8/logs/debug.log</code>"
            ],
            "text/plain": [
              "<IPython.core.display.HTML object>"
            ]
          },
          "metadata": {
            "tags": []
          }
        },
        {
          "output_type": "display_data",
          "data": {
            "text/html": [
              "Find internal logs for this run at: <code>/content/wandb/run-20210328_173011-3itdhtb8/logs/debug-internal.log</code>"
            ],
            "text/plain": [
              "<IPython.core.display.HTML object>"
            ]
          },
          "metadata": {
            "tags": []
          }
        },
        {
          "output_type": "display_data",
          "data": {
            "text/html": [
              "<h3>Run summary:</h3><br/><style>\n",
              "    table.wandb td:nth-child(1) { padding: 0 10px; text-align: right }\n",
              "    </style><table class=\"wandb\">\n",
              "<tr><td>_runtime</td><td>12007</td></tr><tr><td>_timestamp</td><td>1616964618</td></tr><tr><td>_step</td><td>1320</td></tr><tr><td>train/loss</td><td>0.0791</td></tr><tr><td>train/learning_rate</td><td>5e-05</td></tr><tr><td>train/epoch</td><td>29.99</td></tr><tr><td>eval/loss</td><td>0.16567</td></tr><tr><td>eval/wer</td><td>0.19745</td></tr><tr><td>eval/runtime</td><td>31.364</td></tr><tr><td>eval/samples_per_second</td><td>5.006</td></tr><tr><td>train/train_runtime</td><td>12012.2238</td></tr><tr><td>train/train_samples_per_second</td><td>0.11</td></tr><tr><td>train/total_flos</td><td>9.0544772732878e+18</td></tr></table>"
            ],
            "text/plain": [
              "<IPython.core.display.HTML object>"
            ]
          },
          "metadata": {
            "tags": []
          }
        },
        {
          "output_type": "display_data",
          "data": {
            "text/html": [
              "<h3>Run history:</h3><br/><style>\n",
              "    table.wandb td:nth-child(1) { padding: 0 10px; text-align: right }\n",
              "    </style><table class=\"wandb\">\n",
              "<tr><td>_runtime</td><td>▁▂▃▅▆▇██</td></tr><tr><td>_timestamp</td><td>▁▂▃▅▆▇██</td></tr><tr><td>_step</td><td>▁▂▃▄▅▆▇█</td></tr><tr><td>train/loss</td><td>█▄▁▁▁▁</td></tr><tr><td>train/learning_rate</td><td>█▇▅▄▂▁</td></tr><tr><td>train/epoch</td><td>▁▂▄▅▆▇█</td></tr><tr><td>eval/loss</td><td>█▂▁▁▁▁</td></tr><tr><td>eval/wer</td><td>█▄▂▁▁▁</td></tr><tr><td>eval/runtime</td><td>▁▄▆▅▇█</td></tr><tr><td>eval/samples_per_second</td><td>█▅▃▄▂▁</td></tr><tr><td>train/train_runtime</td><td>▁</td></tr><tr><td>train/train_samples_per_second</td><td>▁</td></tr><tr><td>train/total_flos</td><td>▁</td></tr></table><br/>"
            ],
            "text/plain": [
              "<IPython.core.display.HTML object>"
            ]
          },
          "metadata": {
            "tags": []
          }
        },
        {
          "output_type": "display_data",
          "data": {
            "text/html": [
              "Synced 5 W&B file(s), 1 media file(s), 4 artifact file(s) and 1 other file(s)"
            ],
            "text/plain": [
              "<IPython.core.display.HTML object>"
            ]
          },
          "metadata": {
            "tags": []
          }
        },
        {
          "output_type": "display_data",
          "data": {
            "text/html": [
              "\n",
              "                    <br/>Synced <strong style=\"color:#cdcd00\">mr-xlsr-3-35e</strong>: <a href=\"https://wandb.ai/wandb/xlsr/runs/3itdhtb8\" target=\"_blank\">https://wandb.ai/wandb/xlsr/runs/3itdhtb8</a><br/>\n",
              "                "
            ],
            "text/plain": [
              "<IPython.core.display.HTML object>"
            ]
          },
          "metadata": {
            "tags": []
          }
        }
      ]
    },
    {
      "cell_type": "markdown",
      "metadata": {
        "id": "RHIVc44_fY2N"
      },
      "source": [
        "\n",
        "\n",
        "The resulting model of this notebook has been saved to [`sumedh/wav2vec2-large-xlsr-marathi`](https://huggingface.co/sumedh/wav2vec2-large-xlsr-marathi)\n",
        "\n",
        "As a final check, let's load the model and verify that it indeed has learned to transcribe Marathi speech.\n",
        "\n",
        "Let's first load the pretrained checkpoint. And we will just take the first example of the test set, run it through the model and take the `argmax(...)` of the logits to retrieve the predicted token ids."
      ]
    },
    {
      "cell_type": "code",
      "metadata": {
        "colab": {
          "base_uri": "https://localhost:8080/"
        },
        "id": "-oC1KB7830Os",
        "outputId": "95bf640e-38af-4969-b32e-61cd37c24c9c"
      },
      "source": [
        "mr_test_dataset.column_names"
      ],
      "execution_count": null,
      "outputs": [
        {
          "output_type": "execute_result",
          "data": {
            "text/plain": [
              "['input_values', 'labels']"
            ]
          },
          "metadata": {
            "tags": []
          },
          "execution_count": 71
        }
      ]
    },
    {
      "cell_type": "markdown",
      "metadata": {
        "id": "1JDyVCMDvlYd"
      },
      "source": [
        "We adapted `mr_test_dataset` quite a bit so that the dataset instance does not contain the original sentence label anymore. Thus, we re-use the original dataset `all_data` to get the label of the first example."
      ]
    },
    {
      "cell_type": "markdown",
      "metadata": {
        "id": "MMIEAVImRXdf"
      },
      "source": [
        "##Usage"
      ]
    },
    {
      "cell_type": "code",
      "metadata": {
        "colab": {
          "base_uri": "https://localhost:8080/",
          "height": 137,
          "referenced_widgets": [
            "4328cf17ba1a4c6287ae9a2371e4baa6",
            "f2842933ea7044b0b5f5d58b4bb880c7",
            "96c1bffbfe8847c292884d9a98d47c30",
            "09fef41101a14c0b88ca7ae6488981d2",
            "1b5c7a6c8bf74c9eb3c3a8817d6f6cbe",
            "4b3ba3ac3b3040bfb80a6d9be99036a9",
            "a8cb72dcc57e4ba0b0d68012368fda8b",
            "087b861921374c48a133601b3010e38f"
          ]
        },
        "id": "ANC1ai_Wm4F4",
        "outputId": "e43cc3d0-7366-4a22-d6f1-eea79cffa092"
      },
      "source": [
        "import torch\n",
        "import torchaudio\n",
        "from datasets import load_dataset\n",
        "from transformers import Wav2Vec2ForCTC, Wav2Vec2Processor\n",
        "\n",
        "#test_dataset = load_dataset(\"common_voice\", \"{lang_id}\", split=\"test[:2%]\") #TODO: replace {lang_id} in your language code here. Make sure the code is one of the *ISO codes* of [this](https://huggingface.co/languages) site.\n",
        "mr_test_dataset_new = all_data['test']\n",
        "\n",
        "processor = Wav2Vec2Processor.from_pretrained(\"sumedh/wav2vec2-large-xlsr-marathi\") \n",
        "model = Wav2Vec2ForCTC.from_pretrained(\"sumedh/wav2vec2-large-xlsr-marathi\") \n",
        "\n",
        "resampler = torchaudio.transforms.Resample(48_000, 16_000) #first arg - input sample, second arg - output sample\n",
        "\n",
        "# Preprocessing the datasets. We need to read the aduio files as arrays\n",
        "def speech_file_to_array_fn(batch):\n",
        "\tspeech_array, sampling_rate = torchaudio.load(batch[\"path_in_folder\"])\n",
        "\tbatch[\"speech\"] = resampler(speech_array).squeeze().numpy()\n",
        "\treturn batch\n",
        "\n",
        "mr_test_dataset_new = mr_test_dataset_new.map(speech_file_to_array_fn)\n",
        "inputs = processor(mr_test_dataset_new[\"speech\"][:5], sampling_rate=16_000, return_tensors=\"pt\", padding=True)\n",
        "\n",
        "with torch.no_grad():\n",
        "\tlogits = model(inputs.input_values, attention_mask=inputs.attention_mask).logits\n",
        "\n",
        "predicted_ids = torch.argmax(logits, dim=-1)\n",
        "\n",
        "print(\"Prediction:\", processor.batch_decode(predicted_ids))\n",
        "print(\"Reference:\", mr_test_dataset_new[\"actual_text\"][:5])"
      ],
      "execution_count": null,
      "outputs": [
        {
          "output_type": "stream",
          "text": [
            "Special tokens have been added in the vocabulary, make sure the associated word embedding are fine-tuned or trained.\n"
          ],
          "name": "stderr"
        },
        {
          "output_type": "display_data",
          "data": {
            "application/vnd.jupyter.widget-view+json": {
              "model_id": "4328cf17ba1a4c6287ae9a2371e4baa6",
              "version_minor": 0,
              "version_major": 2
            },
            "text/plain": [
              "HBox(children=(FloatProgress(value=0.0, max=157.0), HTML(value='')))"
            ]
          },
          "metadata": {
            "tags": []
          }
        },
        {
          "output_type": "stream",
          "text": [
            "\n",
            "Prediction: ['अभिजीतने गेल्या महिन्यात हे शिखर सर केले आणि तो या शिखरावर आपले पाय रोवणारा अठरावा गिर्यारोहक बनला', 'एक बस चार तासांपूर्वी येऊन गेली आणि पुढची बस यायला अजून फक्त चाळीस मिनिटं आहेत', 'आज सहिंगापूरमध्ये किमान तापमान अठ्ठावीस अंश सेल्सिअस असेल असा अंदाज आहे', 'आता अ\\u200dॅक्सिस बँकेची पाचवी शाखा फॅशन स्ट्रीटजवळ उघडते आहे परवा तिचा उद्घाटन समारंभ आहे', 'कुंभाराचेच नवे तर प्रत्येकाचे का महत्त्वाचे आहे असे मला वाटते']\n",
            "Reference: ['अभिजीतने गेल्या महिन्यात हे शिखर सर केले आणि तो या शिखरावर आपले पाय रोवणारा अठरावा गिर्यारोहक बनला', 'एक बस चार तासांपूर्वी येऊन गेली आणि पुढची बस यायला अजून फक्त चाळीस मिनिटं आहेत', 'आज सिंगापूरमधे किमान तापमान अठ्ठावीस अंश सेल्सिअस असेल असा अंदाज आहे', 'आता अ\\u200dॅक्सिस बँकेची पाचवी शाखा फॅशन स्ट्रीटजवळ उघडते आहे परवा तिचा उद्घाटन समारंभ आहे', 'कुंभाराचेच नव्हे तर प्रत्येकाचे काम महत्त्वाचे आहे असे मला वाटते']\n"
          ],
          "name": "stdout"
        }
      ]
    },
    {
      "cell_type": "markdown",
      "metadata": {
        "id": "jFRVAkTBSCTi"
      },
      "source": [
        "## Evaluation"
      ]
    },
    {
      "cell_type": "code",
      "metadata": {
        "colab": {
          "base_uri": "https://localhost:8080/",
          "height": 149,
          "referenced_widgets": [
            "dededd56cc6347a690d2e3ff6550461c",
            "4797098a6dd2440bbf0aacf3a463fb30",
            "94c08d25dcf5426ca16ed40b89dc2ff0",
            "3f3904f38ae745428646f41294d13e38",
            "0a1516fcb9e1479194ec92d0625ef310",
            "92f94c060ccd460091bfdd52145e4d65",
            "d5113c51b5684b0ba6a300bc10f47f75",
            "8b6e959c8385490b9b7595ca2181a814",
            "3b4a76266b834c9684458497c66c45df",
            "a89e372f70ab46b49e36160a345088a2",
            "286e64238e6d49c9bdb6d9ef9e4237df",
            "1858ce10816945b2943ec3bc4492c56e",
            "c7a2822df0494206a0114dc75b7cd98f",
            "88022e73de974a66892f23fdf512167c",
            "684acc4babb14ebfb9b6725e203f53c6",
            "5f574ad7d1894bb7bd8a32abbdf11c02"
          ]
        },
        "id": "ruRby6dBoeMV",
        "outputId": "9f16565e-2d17-40be-8afa-108c3210f497"
      },
      "source": [
        "import torch\n",
        "import torchaudio\n",
        "from datasets import load_dataset, load_metric\n",
        "from transformers import Wav2Vec2ForCTC, Wav2Vec2Processor\n",
        "import re\n",
        "\n",
        "# test_dataset = load_dataset(\"common_voice\", \"{lang_id}\", split=\"test\") #TODO: replace {lang_id} in your language code here. Make sure the code is one of the *ISO codes* of [this](https://huggingface.co/languages) site.\n",
        "mr_test_dataset_new = all_data['test']\n",
        "wer = load_metric(\"wer\")\n",
        "\n",
        "processor = Wav2Vec2Processor.from_pretrained(\"sumedh/wav2vec2-large-xlsr-marathi\")\n",
        "model = Wav2Vec2ForCTC.from_pretrained(\"sumedh/wav2vec2-large-xlsr-marathi\") \n",
        "model.to(\"cuda\")\n",
        "\n",
        "chars_to_ignore_regex = '[\\,\\?\\.\\!\\-\\;\\:\\\"\\“]' \n",
        "resampler = torchaudio.transforms.Resample(48_000, 16_000) #first arg - input sample, second arg - output sample\n",
        "\n",
        "# Preprocessing the datasets. We need to read the aduio files as arrays\n",
        "def speech_file_to_array_fn(batch):\n",
        "\tbatch[\"actual_text\"] = re.sub(chars_to_ignore_regex, '', batch[\"actual_text\"]).lower()\n",
        "\tspeech_array, sampling_rate = torchaudio.load(batch[\"path_in_folder\"])\n",
        "\tbatch[\"speech\"] = resampler(speech_array).squeeze().numpy()\n",
        "\treturn batch\n",
        "\n",
        "mr_test_dataset_new = mr_test_dataset_new.map(speech_file_to_array_fn)\n",
        "\n",
        "def evaluate(batch):\n",
        "\tinputs = processor(batch[\"speech\"], sampling_rate=16_000, return_tensors=\"pt\", padding=True)\n",
        "\n",
        "\twith torch.no_grad():\n",
        "\t\tlogits = model(inputs.input_values.to(\"cuda\"), attention_mask=inputs.attention_mask.to(\"cuda\")).logits\n",
        "\t\tpred_ids = torch.argmax(logits, dim=-1)\n",
        "\t\tbatch[\"pred_strings\"] = processor.batch_decode(pred_ids)\n",
        "\treturn batch\n",
        "\n",
        "result = mr_test_dataset_new.map(evaluate, batched=True, batch_size=8)\n",
        "\n",
        "print(\"WER: {}\".format(100 * wer.compute(predictions=result[\"pred_strings\"], references=result[\"actual_text\"])))"
      ],
      "execution_count": null,
      "outputs": [
        {
          "output_type": "stream",
          "text": [
            "Special tokens have been added in the vocabulary, make sure the associated word embedding are fine-tuned or trained.\n"
          ],
          "name": "stderr"
        },
        {
          "output_type": "display_data",
          "data": {
            "application/vnd.jupyter.widget-view+json": {
              "model_id": "dededd56cc6347a690d2e3ff6550461c",
              "version_minor": 0,
              "version_major": 2
            },
            "text/plain": [
              "HBox(children=(FloatProgress(value=0.0, max=157.0), HTML(value='')))"
            ]
          },
          "metadata": {
            "tags": []
          }
        },
        {
          "output_type": "stream",
          "text": [
            "\n"
          ],
          "name": "stdout"
        },
        {
          "output_type": "display_data",
          "data": {
            "application/vnd.jupyter.widget-view+json": {
              "model_id": "3b4a76266b834c9684458497c66c45df",
              "version_minor": 0,
              "version_major": 2
            },
            "text/plain": [
              "HBox(children=(FloatProgress(value=0.0, max=20.0), HTML(value='')))"
            ]
          },
          "metadata": {
            "tags": []
          }
        },
        {
          "output_type": "stream",
          "text": [
            "\n",
            "WER: 12.701053799223516\n"
          ],
          "name": "stdout"
        }
      ]
    },
    {
      "cell_type": "markdown",
      "metadata": {
        "id": "fJ90L_UKSNuz"
      },
      "source": [
        "We have achieved a WER (Word Error Rate) of 12.70% 🤗 <br>\n",
        "Not bad, right? 🤗"
      ]
    }
  ]
}